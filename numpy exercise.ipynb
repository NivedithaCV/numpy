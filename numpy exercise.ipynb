{
 "cells": [
  {
   "cell_type": "code",
   "execution_count": 2,
   "id": "282646f2",
   "metadata": {},
   "outputs": [],
   "source": [
    "#1. Import the numpy package under the name np\n",
    "import numpy as np"
   ]
  },
  {
   "cell_type": "code",
   "execution_count": 3,
   "id": "f7d88f90",
   "metadata": {},
   "outputs": [
    {
     "name": "stdout",
     "output_type": "stream",
     "text": [
      "1.21.2\n",
      "blas_mkl_info:\n",
      "  NOT AVAILABLE\n",
      "blis_info:\n",
      "  NOT AVAILABLE\n",
      "openblas_info:\n",
      "    library_dirs = ['D:\\\\a\\\\1\\\\s\\\\numpy\\\\build\\\\openblas_info']\n",
      "    libraries = ['openblas_info']\n",
      "    language = f77\n",
      "    define_macros = [('HAVE_CBLAS', None)]\n",
      "blas_opt_info:\n",
      "    library_dirs = ['D:\\\\a\\\\1\\\\s\\\\numpy\\\\build\\\\openblas_info']\n",
      "    libraries = ['openblas_info']\n",
      "    language = f77\n",
      "    define_macros = [('HAVE_CBLAS', None)]\n",
      "lapack_mkl_info:\n",
      "  NOT AVAILABLE\n",
      "openblas_lapack_info:\n",
      "    library_dirs = ['D:\\\\a\\\\1\\\\s\\\\numpy\\\\build\\\\openblas_lapack_info']\n",
      "    libraries = ['openblas_lapack_info']\n",
      "    language = f77\n",
      "    define_macros = [('HAVE_CBLAS', None)]\n",
      "lapack_opt_info:\n",
      "    library_dirs = ['D:\\\\a\\\\1\\\\s\\\\numpy\\\\build\\\\openblas_lapack_info']\n",
      "    libraries = ['openblas_lapack_info']\n",
      "    language = f77\n",
      "    define_macros = [('HAVE_CBLAS', None)]\n",
      "Supported SIMD extensions in this NumPy install:\n",
      "    baseline = SSE,SSE2,SSE3\n",
      "    found = SSSE3,SSE41,POPCNT,SSE42,AVX,F16C,FMA3,AVX2\n",
      "    not found = AVX512F,AVX512CD,AVX512_SKX,AVX512_CLX,AVX512_CNL\n",
      "None\n"
     ]
    }
   ],
   "source": [
    "#2. Print the numpy version and the configuration\n",
    "print(np.__version__)\n",
    "print(np.show_config())"
   ]
  },
  {
   "cell_type": "code",
   "execution_count": 231,
   "id": "54f372ed",
   "metadata": {},
   "outputs": [
    {
     "data": {
      "text/plain": [
       "array([0., 0., 0., 0., 0., 0., 0., 0., 0., 0.])"
      ]
     },
     "execution_count": 231,
     "metadata": {},
     "output_type": "execute_result"
    }
   ],
   "source": [
    "#3. Create a null vector of size 10\n",
    "X=np.zeros(10)\n",
    "X"
   ]
  },
  {
   "cell_type": "code",
   "execution_count": 233,
   "id": "4a9276e5",
   "metadata": {},
   "outputs": [
    {
     "name": "stdout",
     "output_type": "stream",
     "text": [
      "80\n"
     ]
    }
   ],
   "source": [
    "#4. How to find the memory size of any array\n",
    "x=np.zeros(10)\n",
    "i=x.itemsize\n",
    "print(x.itemsize*len(x))"
   ]
  },
  {
   "cell_type": "code",
   "execution_count": 234,
   "id": "2097be84",
   "metadata": {},
   "outputs": [
    {
     "ename": "SyntaxError",
     "evalue": "invalid syntax (Temp/ipykernel_6132/3530710197.py, line 2)",
     "output_type": "error",
     "traceback": [
      "\u001b[1;36m  File \u001b[1;32m\"C:\\Users\\admin\\AppData\\Local\\Temp/ipykernel_6132/3530710197.py\"\u001b[1;36m, line \u001b[1;32m2\u001b[0m\n\u001b[1;33m    python -c \"import numpy as np; np.info(np.add)\"\u001b[0m\n\u001b[1;37m              ^\u001b[0m\n\u001b[1;31mSyntaxError\u001b[0m\u001b[1;31m:\u001b[0m invalid syntax\n"
     ]
    }
   ],
   "source": [
    "#5. How to get the documentation of the numpy add function from the command line?\n",
    "python -c \"import numpy as np; np.info(np.add)\""
   ]
  },
  {
   "cell_type": "code",
   "execution_count": 7,
   "id": "c82cd754",
   "metadata": {},
   "outputs": [
    {
     "data": {
      "text/plain": [
       "array([0., 0., 0., 0., 1., 0., 0., 0., 0., 0.])"
      ]
     },
     "execution_count": 7,
     "metadata": {},
     "output_type": "execute_result"
    }
   ],
   "source": [
    "#6. Create a null vector of size 10 but the fifth value which is 1\n",
    "A=np.zeros(10)\n",
    "A[4]=1\n",
    "A"
   ]
  },
  {
   "cell_type": "code",
   "execution_count": 8,
   "id": "9193c759",
   "metadata": {},
   "outputs": [
    {
     "data": {
      "text/plain": [
       "array([10, 11, 12, 13, 14, 15, 16, 17, 18, 19, 20, 21, 22, 23, 24, 25, 26,\n",
       "       27, 28, 29, 30, 31, 32, 33, 34, 35, 36, 37, 38, 39, 40, 41, 42, 43,\n",
       "       44, 45, 46, 47, 48, 49])"
      ]
     },
     "execution_count": 8,
     "metadata": {},
     "output_type": "execute_result"
    }
   ],
   "source": [
    "#7. Create a vector with values ranging from 10 to 49\n",
    "B=np.arange(10,50)\n",
    "B"
   ]
  },
  {
   "cell_type": "code",
   "execution_count": 9,
   "id": "6578309c",
   "metadata": {},
   "outputs": [
    {
     "data": {
      "text/plain": [
       "array([10,  9,  8,  7,  6,  5,  4,  3,  2,  1])"
      ]
     },
     "execution_count": 9,
     "metadata": {},
     "output_type": "execute_result"
    }
   ],
   "source": [
    "# 8. Reverse a vector (first element becomes last)\n",
    "C=np.arange(1,11)\n",
    "C=C[::-1]\n",
    "C"
   ]
  },
  {
   "cell_type": "code",
   "execution_count": 10,
   "id": "e0305613",
   "metadata": {},
   "outputs": [
    {
     "data": {
      "text/plain": [
       "array([[0, 1, 2],\n",
       "       [3, 4, 5],\n",
       "       [6, 7, 8]])"
      ]
     },
     "execution_count": 10,
     "metadata": {},
     "output_type": "execute_result"
    }
   ],
   "source": [
    "#9. Create a 3x3 matrix with values ranging from 0 to 8\n",
    "np.arange(0,9).reshape(3,3)"
   ]
  },
  {
   "cell_type": "code",
   "execution_count": 11,
   "id": "88f25748",
   "metadata": {},
   "outputs": [
    {
     "data": {
      "text/plain": [
       "(array([0, 1, 4], dtype=int64),)"
      ]
     },
     "execution_count": 11,
     "metadata": {},
     "output_type": "execute_result"
    }
   ],
   "source": [
    "#10. Find indices of non-zero elements from [1,2,0,0,4,0] \n",
    "x=np.array([1,2,0,0,4,0])\n",
    "np.nonzero(x)"
   ]
  },
  {
   "cell_type": "code",
   "execution_count": 12,
   "id": "c13323c2",
   "metadata": {},
   "outputs": [
    {
     "data": {
      "text/plain": [
       "array([[1., 0., 0.],\n",
       "       [0., 1., 0.],\n",
       "       [0., 0., 1.]])"
      ]
     },
     "execution_count": 12,
     "metadata": {},
     "output_type": "execute_result"
    }
   ],
   "source": [
    "#11. Create a 3x3 identity matrix\n",
    "x11=np.identity(3)\n",
    "x11"
   ]
  },
  {
   "cell_type": "code",
   "execution_count": 13,
   "id": "e18f30c0",
   "metadata": {},
   "outputs": [
    {
     "data": {
      "text/plain": [
       "array([[[0.60759185, 0.62646083, 0.20497507],\n",
       "        [0.90286197, 0.02910472, 0.64883642],\n",
       "        [0.34199358, 0.30449892, 0.37826732]],\n",
       "\n",
       "       [[0.54325764, 0.99698951, 0.74014432],\n",
       "        [0.62084274, 0.98826239, 0.52384534],\n",
       "        [0.58700062, 0.1484248 , 0.09510429]],\n",
       "\n",
       "       [[0.46139619, 0.88599564, 0.37576782],\n",
       "        [0.05034247, 0.14359772, 0.18155522],\n",
       "        [0.71863844, 0.08177096, 0.36288968]]])"
      ]
     },
     "execution_count": 13,
     "metadata": {},
     "output_type": "execute_result"
    }
   ],
   "source": [
    "#12. Create a 3x3x3 array with random values\n",
    "x=np.random.random((3,3,3))\n",
    "x"
   ]
  },
  {
   "cell_type": "code",
   "execution_count": 14,
   "id": "bec8c1f6",
   "metadata": {},
   "outputs": [
    {
     "name": "stdout",
     "output_type": "stream",
     "text": [
      "x_min= 0.01368227215732254\n",
      "x_max= 0.9982048325429993\n"
     ]
    }
   ],
   "source": [
    "#13. Create a 10x10 array with random values and find the minimum and maximum values\n",
    "x=np.random.random((10,10))\n",
    "print(\"x_min=\",x.min())\n",
    "print(\"x_max=\",x.max())"
   ]
  },
  {
   "cell_type": "code",
   "execution_count": 15,
   "id": "bbc61e79",
   "metadata": {},
   "outputs": [
    {
     "data": {
      "text/plain": [
       "0.4637183528363894"
      ]
     },
     "execution_count": 15,
     "metadata": {},
     "output_type": "execute_result"
    }
   ],
   "source": [
    "#14. Create a random vector of size 30 and find the mean value\n",
    "x=np.random.random(30)\n",
    "x.mean()"
   ]
  },
  {
   "cell_type": "code",
   "execution_count": 16,
   "id": "34b74763",
   "metadata": {},
   "outputs": [
    {
     "data": {
      "text/plain": [
       "array([[1., 1., 1., 1., 1.],\n",
       "       [1., 0., 0., 0., 1.],\n",
       "       [1., 0., 0., 0., 1.],\n",
       "       [1., 0., 0., 0., 1.],\n",
       "       [1., 1., 1., 1., 1.]])"
      ]
     },
     "execution_count": 16,
     "metadata": {},
     "output_type": "execute_result"
    }
   ],
   "source": [
    "#15. Create a 2d array with 1 on the border and 0 inside \n",
    "x=np.ones((5,5))\n",
    "x[1:-1,1:-1]=0\n",
    "x"
   ]
  },
  {
   "cell_type": "code",
   "execution_count": 17,
   "id": "26db806e",
   "metadata": {},
   "outputs": [
    {
     "data": {
      "text/plain": [
       "array([[0., 0., 0., 0., 0., 0., 0.],\n",
       "       [0., 1., 1., 1., 1., 1., 0.],\n",
       "       [0., 1., 1., 1., 1., 1., 0.],\n",
       "       [0., 1., 1., 1., 1., 1., 0.],\n",
       "       [0., 1., 1., 1., 1., 1., 0.],\n",
       "       [0., 1., 1., 1., 1., 1., 0.],\n",
       "       [0., 0., 0., 0., 0., 0., 0.]])"
      ]
     },
     "execution_count": 17,
     "metadata": {},
     "output_type": "execute_result"
    }
   ],
   "source": [
    "#16. How to add a border (filled with 0's) around an existing array?\n",
    "x=np.ones((5,5))\n",
    "x = np.pad(x, pad_width=1, mode='constant', constant_values=0)\n",
    "x"
   ]
  },
  {
   "cell_type": "code",
   "execution_count": 18,
   "id": "6235a2b3",
   "metadata": {},
   "outputs": [
    {
     "name": "stdout",
     "output_type": "stream",
     "text": [
      "[[0 0 0 0 0]\n",
      " [1 0 0 0 0]\n",
      " [0 2 0 0 0]\n",
      " [0 0 3 0 0]\n",
      " [0 0 0 4 0]]\n"
     ]
    }
   ],
   "source": [
    "#18. Create a 5x5 matrix with values 1,2,3,4 just below the diagonal\n",
    "x = np.diag(np.arange(1,5), k = -1)\n",
    "print (x)"
   ]
  },
  {
   "cell_type": "code",
   "execution_count": 19,
   "id": "ce6cc417",
   "metadata": {},
   "outputs": [
    {
     "data": {
      "text/plain": [
       "array([[0, 1, 0, 1, 0, 1, 0, 1],\n",
       "       [1, 0, 1, 0, 1, 0, 1, 0],\n",
       "       [0, 1, 0, 1, 0, 1, 0, 1],\n",
       "       [1, 0, 1, 0, 1, 0, 1, 0],\n",
       "       [0, 1, 0, 1, 0, 1, 0, 1],\n",
       "       [1, 0, 1, 0, 1, 0, 1, 0],\n",
       "       [0, 1, 0, 1, 0, 1, 0, 1],\n",
       "       [1, 0, 1, 0, 1, 0, 1, 0]])"
      ]
     },
     "execution_count": 19,
     "metadata": {},
     "output_type": "execute_result"
    }
   ],
   "source": [
    "#19. Create a 8x8 matrix and fill it with a checkerboard pattern\n",
    "x=np.zeros((8,8),dtype=int)\n",
    "x[1::2,::2] = 1\n",
    "x[::2,1::2] = 1\n",
    "x"
   ]
  },
  {
   "cell_type": "code",
   "execution_count": 20,
   "id": "26cc5c01",
   "metadata": {},
   "outputs": [
    {
     "data": {
      "text/plain": [
       "(1, 5, 4)"
      ]
     },
     "execution_count": 20,
     "metadata": {},
     "output_type": "execute_result"
    }
   ],
   "source": [
    "#20. Consider a (6,7,8) shape array, what is the index (x,y,z) of the 100th element?\n",
    "x=np.random.random((6,7,8))\n",
    "y=np.unravel_index(100, (6,7,8))\n",
    "y"
   ]
  },
  {
   "cell_type": "code",
   "execution_count": 21,
   "id": "b59b38ff",
   "metadata": {},
   "outputs": [
    {
     "data": {
      "text/plain": [
       "array([[0, 1, 0, 1, 0, 1, 0, 1],\n",
       "       [1, 0, 1, 0, 1, 0, 1, 0],\n",
       "       [0, 1, 0, 1, 0, 1, 0, 1],\n",
       "       [1, 0, 1, 0, 1, 0, 1, 0],\n",
       "       [0, 1, 0, 1, 0, 1, 0, 1],\n",
       "       [1, 0, 1, 0, 1, 0, 1, 0],\n",
       "       [0, 1, 0, 1, 0, 1, 0, 1],\n",
       "       [1, 0, 1, 0, 1, 0, 1, 0]])"
      ]
     },
     "execution_count": 21,
     "metadata": {},
     "output_type": "execute_result"
    }
   ],
   "source": [
    "#21. Create a checkerboard 8x8 matrix using the tile function \n",
    "x=[[0,1],[1,0]]\n",
    "x=np.tile(x,(4,4))\n",
    "x"
   ]
  },
  {
   "cell_type": "code",
   "execution_count": 22,
   "id": "93d6bcdc",
   "metadata": {},
   "outputs": [
    {
     "data": {
      "text/plain": [
       "array([[0.79396846, 0.07697387, 0.        , 0.70491821, 0.30460727],\n",
       "       [1.        , 0.06576447, 0.0467245 , 0.97271373, 0.57468621],\n",
       "       [0.98216498, 0.34255896, 0.83016477, 0.07775154, 0.34351303],\n",
       "       [0.49871103, 0.86717692, 0.47307651, 0.08489294, 0.34111513],\n",
       "       [0.12692981, 0.23036138, 0.54074701, 0.34635031, 0.53416158]])"
      ]
     },
     "execution_count": 22,
     "metadata": {},
     "output_type": "execute_result"
    }
   ],
   "source": [
    "#22. Normalize a 5x5 random matrix\n",
    "x=np.random.random((5,5))\n",
    "xmax, xmin = x.max(), x.min()\n",
    "x = (x - xmin)/(xmax - xmin)\n",
    "x"
   ]
  },
  {
   "cell_type": "code",
   "execution_count": 23,
   "id": "77161e51",
   "metadata": {},
   "outputs": [],
   "source": [
    "#23. Create a custom dtype that describes a color as four unsigned bytes (RGBA)\n",
    "x=['r','g','b','a']\n",
    "for i in x:\n",
    "    color = np.dtype([(i,np.unicode_,  1)])\n",
    "                  "
   ]
  },
  {
   "cell_type": "code",
   "execution_count": 24,
   "id": "2a0132e7",
   "metadata": {},
   "outputs": [
    {
     "data": {
      "text/plain": [
       "array([[0.47091995, 0.61006901],\n",
       "       [0.1750515 , 0.59554986],\n",
       "       [0.13935759, 0.59273774],\n",
       "       [0.35067999, 0.58762769],\n",
       "       [0.30978165, 0.65774342]])"
      ]
     },
     "execution_count": 24,
     "metadata": {},
     "output_type": "execute_result"
    }
   ],
   "source": [
    "#24. Multiply a 5x3 matrix by a 3x2 matrix (real matrix product)\n",
    "a=np.random.random((5,3))\n",
    "b=np.random.random((3,2))\n",
    "Z= np.dot(a,b)\n",
    "Z"
   ]
  },
  {
   "cell_type": "code",
   "execution_count": 26,
   "id": "68557554",
   "metadata": {},
   "outputs": [
    {
     "name": "stdout",
     "output_type": "stream",
     "text": [
      "[ 0  1  2  3 -4 -5 -6 -7 -8  9 10]\n"
     ]
    }
   ],
   "source": [
    "#25. Given a 1D array, negate all elements which are between 3 and 8, in place\n",
    "x = np.arange(11)\n",
    "x[(3 < x) & (x <= 8)] *= -1\n",
    "print(x)"
   ]
  },
  {
   "cell_type": "code",
   "execution_count": 235,
   "id": "b87a3a5b",
   "metadata": {},
   "outputs": [],
   "source": [
    "#26. What is the output of the following script? \n",
    "#9\n",
    "#10"
   ]
  },
  {
   "cell_type": "code",
   "execution_count": 236,
   "id": "e9d99a7d",
   "metadata": {},
   "outputs": [],
   "source": [
    "#27. Consider an integer vector Z, which of these expressions are legal? \n",
    "#Z**Z\n",
    "#Z <- Z\n",
    "#1j*Z\n",
    "#Z/1/1\n",
    "#Z<Z>Z"
   ]
  },
  {
   "cell_type": "code",
   "execution_count": 237,
   "id": "f5bcff0e",
   "metadata": {},
   "outputs": [
    {
     "name": "stdout",
     "output_type": "stream",
     "text": [
      "nan\n",
      "0\n",
      "[-2.14748365e+09]\n"
     ]
    }
   ],
   "source": [
    "#28. What are the result of the following expressions?\n",
    "print(np.array(0) / np.array(0))\n",
    "print(np.array(0) // np.array(0))\n",
    "print(np.array([np.nan]).astype(int).astype(float))"
   ]
  },
  {
   "cell_type": "code",
   "execution_count": 34,
   "id": "a9a5b59c",
   "metadata": {},
   "outputs": [
    {
     "name": "stdout",
     "output_type": "stream",
     "text": [
      "[[0.40422093 0.88306339 0.13803169 0.18533503]]\n",
      "[[0. 1. 0. 0.]]\n"
     ]
    }
   ],
   "source": [
    "#29. How to round away from zero a float array ?\n",
    "x=np.random.random((1,4))\n",
    "print(x)\n",
    "print(np.round(x,0))"
   ]
  },
  {
   "cell_type": "code",
   "execution_count": 36,
   "id": "fd38abf7",
   "metadata": {},
   "outputs": [
    {
     "name": "stdout",
     "output_type": "stream",
     "text": [
      "[2 3]\n"
     ]
    }
   ],
   "source": [
    "#30. How to find common values between two arrays?\n",
    "x=np.array([1,2,3,6,8])\n",
    "y=np.array([2,3,90,11])\n",
    "print(np.intersect1d(x,y))"
   ]
  },
  {
   "cell_type": "code",
   "execution_count": 38,
   "id": "76425f0b",
   "metadata": {},
   "outputs": [],
   "source": [
    "#31. How to ignore all numpy warnings (not recommended)?(ask)\n",
    "defaults = np.seterr(all=\"ignore\")\n"
   ]
  },
  {
   "cell_type": "code",
   "execution_count": 41,
   "id": "bd1f4026",
   "metadata": {},
   "outputs": [],
   "source": [
    "#32. Is the following expressions true?\n",
    "#false\n",
    "#nan not equal to 1j"
   ]
  },
  {
   "cell_type": "code",
   "execution_count": 44,
   "id": "f6f8fe51",
   "metadata": {},
   "outputs": [
    {
     "name": "stdout",
     "output_type": "stream",
     "text": [
      "Today:  2021-09-10\n",
      "Yestraday:  2021-09-09\n",
      "Tomorrow:  2021-09-11\n"
     ]
    }
   ],
   "source": [
    "#33. How to get the dates of yesterday, today and tomorrow?\n",
    "y = np.datetime64('today', 'D') - np.timedelta64(1, 'D')\n",
    "t     = np.datetime64('today', 'D')\n",
    "to  = np.datetime64('today', 'D') + np.timedelta64(1, 'D')\n",
    "print(\"Today: \",t)\n",
    "print(\"Yestraday: \",y)\n",
    "print(\"Tomorrow: \",to)"
   ]
  },
  {
   "cell_type": "code",
   "execution_count": 47,
   "id": "4c1adb34",
   "metadata": {},
   "outputs": [
    {
     "name": "stdout",
     "output_type": "stream",
     "text": [
      "['2016-07-01' '2016-07-02' '2016-07-03' '2016-07-04' '2016-07-05'\n",
      " '2016-07-06' '2016-07-07' '2016-07-08' '2016-07-09' '2016-07-10'\n",
      " '2016-07-11' '2016-07-12' '2016-07-13' '2016-07-14' '2016-07-15'\n",
      " '2016-07-16' '2016-07-17' '2016-07-18' '2016-07-19' '2016-07-20'\n",
      " '2016-07-21' '2016-07-22' '2016-07-23' '2016-07-24' '2016-07-25'\n",
      " '2016-07-26' '2016-07-27' '2016-07-28' '2016-07-29' '2016-07-30'\n",
      " '2016-07-31']\n"
     ]
    }
   ],
   "source": [
    "#34. How to get all the dates corresponding to the month of July 2016?\n",
    "print(np.arange('2016-07', '2016-08', dtype='datetime64[D]'))"
   ]
  },
  {
   "cell_type": "code",
   "execution_count": 62,
   "id": "6460ba57",
   "metadata": {},
   "outputs": [
    {
     "name": "stdout",
     "output_type": "stream",
     "text": [
      "[1 2 3 4 5 6 7 8 9]\n",
      "[1 1 1 1 1 1 1 1 1]\n",
      "[ -1.  -3.  -6. -10. -15. -21. -28. -36. -45.]\n"
     ]
    }
   ],
   "source": [
    "#35. How to compute ((A+B)*(-A/2)) in place (without copy)?\n",
    "A=np.arange(1,10)\n",
    "print(A)\n",
    "B=np.ones((9),dtype=int)\n",
    "print(B)\n",
    "print(np.multiply(np.add(A,B),np.divide(np.negative(A),2)))"
   ]
  },
  {
   "cell_type": "code",
   "execution_count": 70,
   "id": "e731ec56",
   "metadata": {},
   "outputs": [
    {
     "name": "stdout",
     "output_type": "stream",
     "text": [
      "[3.94366432 3.60694211 2.56225464 0.79463711 0.79581693]\n",
      "[3. 3. 2. 0. 0.]\n",
      "[3 3 2 0 0]\n",
      "[3. 3. 2. 0. 0.]\n",
      "[3. 3. 2. 0. 0.]\n",
      "[3. 3. 2. 0. 0.]\n"
     ]
    }
   ],
   "source": [
    "#36. Extract the integer part of a random array of positive numbers using 4 different methods\n",
    "Z = np.random.uniform(0,5,5)\n",
    "print(Z)\n",
    "print(np.floor(Z))\n",
    "print(Z.astype(int))\n",
    "print(np.trunc(Z))\n",
    "print(Z - Z%1)\n",
    "print(Z // 1)"
   ]
  },
  {
   "cell_type": "code",
   "execution_count": 77,
   "id": "26d8ba61",
   "metadata": {},
   "outputs": [
    {
     "name": "stdout",
     "output_type": "stream",
     "text": [
      "[[0. 0. 0. 0. 0.]\n",
      " [0. 0. 0. 0. 0.]\n",
      " [0. 0. 0. 0. 0.]\n",
      " [0. 0. 0. 0. 0.]\n",
      " [0. 0. 0. 0. 0.]]\n"
     ]
    },
    {
     "data": {
      "text/plain": [
       "array([[0., 1., 2., 3., 4.],\n",
       "       [0., 1., 2., 3., 4.],\n",
       "       [0., 1., 2., 3., 4.],\n",
       "       [0., 1., 2., 3., 4.],\n",
       "       [0., 1., 2., 3., 4.]])"
      ]
     },
     "execution_count": 77,
     "metadata": {},
     "output_type": "execute_result"
    }
   ],
   "source": [
    "#37. Create a 5x5 matrix with row values ranging from 0 to 4 \n",
    "x = np.zeros((5,5))\n",
    "print(x)\n",
    "x += np.arange(5)\n",
    "x"
   ]
  },
  {
   "cell_type": "code",
   "execution_count": 78,
   "id": "0bd3a7bb",
   "metadata": {},
   "outputs": [
    {
     "name": "stdout",
     "output_type": "stream",
     "text": [
      "[0. 1. 2. 3. 4. 5. 6. 7. 8. 9.]\n"
     ]
    }
   ],
   "source": [
    "#38. Consider a generator function that generates 10 integers and use it to build an array\n",
    "def generator():\n",
    "   for n in range(10):\n",
    "       yield n\n",
    "x = np.fromiter(generator(),dtype=float,count=-1)\n",
    "print(x)"
   ]
  },
  {
   "cell_type": "code",
   "execution_count": 79,
   "id": "4a7f6e6c",
   "metadata": {},
   "outputs": [
    {
     "name": "stdout",
     "output_type": "stream",
     "text": [
      "[0.09090909 0.18181818 0.27272727 0.36363636 0.45454545 0.54545455\n",
      " 0.63636364 0.72727273 0.81818182 0.90909091]\n"
     ]
    }
   ],
   "source": [
    "#39. Create a vector of size 10 with values ranging from 0 to 1, both excluded\n",
    "x = np.linspace(0,1,12,endpoint=True)[1:-1]\n",
    "print(x)"
   ]
  },
  {
   "cell_type": "code",
   "execution_count": 81,
   "id": "71f371b5",
   "metadata": {},
   "outputs": [
    {
     "data": {
      "text/plain": [
       "array([0.08092737, 0.10829904, 0.36806287, 0.56305537, 0.59147689,\n",
       "       0.67029905, 0.72730741, 0.82692006, 0.82757597, 0.86434221])"
      ]
     },
     "execution_count": 81,
     "metadata": {},
     "output_type": "execute_result"
    }
   ],
   "source": [
    "#40. Create a random vector of size 10 and sort it \n",
    "x = np.random.random(10)\n",
    "x.sort()\n",
    "x"
   ]
  },
  {
   "cell_type": "code",
   "execution_count": 85,
   "id": "bd897398",
   "metadata": {},
   "outputs": [
    {
     "name": "stdout",
     "output_type": "stream",
     "text": [
      "[0 1 2 3 4 5 6 7 8 9]\n"
     ]
    },
    {
     "data": {
      "text/plain": [
       "45"
      ]
     },
     "execution_count": 85,
     "metadata": {},
     "output_type": "execute_result"
    }
   ],
   "source": [
    "#41. How to sum a small array faster than np.sum?\n",
    "x = np.arange(10)\n",
    "print(x)\n",
    "np.add.reduce(x)"
   ]
  },
  {
   "cell_type": "code",
   "execution_count": 89,
   "id": "9e429d86",
   "metadata": {},
   "outputs": [
    {
     "name": "stdout",
     "output_type": "stream",
     "text": [
      "False\n"
     ]
    }
   ],
   "source": [
    "#\n",
    "A = np.random.randint(0,10,5)\n",
    "B = np.random.randint(0,10,5)\n",
    "print(np.array_equal(A,B))"
   ]
  },
  {
   "cell_type": "code",
   "execution_count": 93,
   "id": "c07d8880",
   "metadata": {},
   "outputs": [],
   "source": [
    "#43. Make an array immutable (read-only)\n",
    "x = np.zeros(10)\n",
    "x.flags.writeable = False"
   ]
  },
  {
   "cell_type": "code",
   "execution_count": 102,
   "id": "01ba0569",
   "metadata": {},
   "outputs": [
    {
     "name": "stdout",
     "output_type": "stream",
     "text": [
      "[[0.39138667 0.5723342 ]\n",
      " [0.4043412  0.2564548 ]\n",
      " [0.72624608 0.65845774]\n",
      " [0.32384375 0.14481239]\n",
      " [0.81127906 0.04349861]\n",
      " [0.69019711 0.01309302]\n",
      " [0.08613728 0.36423927]\n",
      " [0.95727135 0.10146412]\n",
      " [0.98508661 0.13787884]\n",
      " [0.14879184 0.74989007]]\n",
      "[0.69336135 0.47881194 0.98030605 0.35474696 0.81244436 0.69032129\n",
      " 0.37428582 0.96263358 0.994689   0.76450908]\n",
      "[0.97099656 0.56522582 0.7364821  0.42049591 0.05356603 0.01896769\n",
      " 1.33857715 0.10559878 0.13906281 1.37492219]\n"
     ]
    }
   ],
   "source": [
    "#44. Consider a random 10x2 matrix representing cartesian coordinates, convert them to polar coordinates\n",
    "test= np.random.random((10,2))\n",
    "print(z)\n",
    "x,y = z[:,0], z[:,1]\n",
    "r = np.sqrt(x**2+y**2)\n",
    "t = np.arctan2(y,x)\n",
    "print(r)\n",
    "print(t)"
   ]
  },
  {
   "cell_type": "code",
   "execution_count": 99,
   "id": "237b874b",
   "metadata": {},
   "outputs": [
    {
     "name": "stdout",
     "output_type": "stream",
     "text": [
      "[0 0 4 1 0 9 9 5 0 5]\n"
     ]
    },
    {
     "data": {
      "text/plain": [
       "array([0, 0, 4, 1, 0, 0, 9, 5, 0, 5])"
      ]
     },
     "execution_count": 99,
     "metadata": {},
     "output_type": "execute_result"
    }
   ],
   "source": [
    "#45. Create random vector of size 10 and replace the maximum value by 0\n",
    "x = np.random.randint(0,10,10)\n",
    "print(x)\n",
    "x[x.argmax()] = 0\n",
    "x"
   ]
  },
  {
   "cell_type": "code",
   "execution_count": 106,
   "id": "8af913f8",
   "metadata": {},
   "outputs": [
    {
     "name": "stdout",
     "output_type": "stream",
     "text": [
      "[[(0.  , 0.  ) (0.25, 0.  ) (0.5 , 0.  ) (0.75, 0.  ) (1.  , 0.  )]\n",
      " [(0.  , 0.25) (0.25, 0.25) (0.5 , 0.25) (0.75, 0.25) (1.  , 0.25)]\n",
      " [(0.  , 0.5 ) (0.25, 0.5 ) (0.5 , 0.5 ) (0.75, 0.5 ) (1.  , 0.5 )]\n",
      " [(0.  , 0.75) (0.25, 0.75) (0.5 , 0.75) (0.75, 0.75) (1.  , 0.75)]\n",
      " [(0.  , 1.  ) (0.25, 1.  ) (0.5 , 1.  ) (0.75, 1.  ) (1.  , 1.  )]]\n"
     ]
    }
   ],
   "source": [
    "#Create a structured array with x and y coordinates covering the [0,1]x[0,1] area\n",
    "test = np.zeros((5,5), [('x',float),('y',float)])\n",
    "test['x'], test['y'] = np.meshgrid(np.linspace(0,1,5),np.linspace(0,1,5))\n",
    "print(test)"
   ]
  },
  {
   "cell_type": "code",
   "execution_count": 109,
   "id": "d596437a",
   "metadata": {},
   "outputs": [
    {
     "name": "stdout",
     "output_type": "stream",
     "text": [
      "3638.163637117973\n"
     ]
    }
   ],
   "source": [
    "#47. Given two arrays, X and Y, construct the Cauchy matrix C (Cij =1/(xi - yj)) \n",
    "X = np.arange(8)\n",
    "Y = X + 0.5\n",
    "C = 1.0 / np.subtract.outer(X, Y)\n",
    "print(np.linalg.det(C))"
   ]
  },
  {
   "cell_type": "code",
   "execution_count": 110,
   "id": "e12845ca",
   "metadata": {},
   "outputs": [],
   "source": [
    "#17. What is the result of the following expression?\n",
    "#nan\n",
    "#False\n",
    "#False\n",
    "#nan\n",
    "#True\n",
    "#False"
   ]
  },
  {
   "cell_type": "code",
   "execution_count": 111,
   "id": "0aca4a7d",
   "metadata": {},
   "outputs": [
    {
     "name": "stdout",
     "output_type": "stream",
     "text": [
      "-128\n",
      "127\n",
      "-2147483648\n",
      "2147483647\n",
      "-9223372036854775808\n",
      "9223372036854775807\n",
      "-3.4028235e+38\n",
      "3.4028235e+38\n",
      "1.1920929e-07\n",
      "-1.7976931348623157e+308\n",
      "1.7976931348623157e+308\n",
      "2.220446049250313e-16\n"
     ]
    }
   ],
   "source": [
    "#48. Print the minimum and maximum representable value for each numpy scalar type\n",
    "for dtype in [np.int8, np.int32, np.int64]:\n",
    "   print(np.iinfo(dtype).min)\n",
    "   print(np.iinfo(dtype).max)\n",
    "for dtype in [np.float32, np.float64]:\n",
    "   print(np.finfo(dtype).min)\n",
    "   print(np.finfo(dtype).max)\n",
    "   print(np.finfo(dtype).eps)"
   ]
  },
  {
   "cell_type": "code",
   "execution_count": 115,
   "id": "bc5f6da7",
   "metadata": {},
   "outputs": [
    {
     "name": "stdout",
     "output_type": "stream",
     "text": [
      "[[1.55962866e-01 2.52347056e-01 8.97124089e-01 5.36597472e-01\n",
      "  5.09910312e-01 8.76236339e-02 7.73115058e-01 5.45728760e-02\n",
      "  9.96325581e-01 7.27128125e-01]\n",
      " [1.14504305e-01 2.22069640e-01 1.11739399e-01 7.40485790e-01\n",
      "  3.91837080e-01 4.16693394e-01 3.88596396e-01 2.44332323e-01\n",
      "  6.14085712e-01 6.08460711e-01]\n",
      " [4.50480952e-01 7.85018532e-01 1.18610227e-01 4.77730723e-01\n",
      "  2.48389231e-01 6.84414516e-01 3.25908603e-01 7.09495642e-01\n",
      "  3.69521800e-01 4.34157522e-01]\n",
      " [2.02766966e-02 6.29812658e-01 5.50141449e-01 5.69577053e-04\n",
      "  8.27798054e-01 3.94269745e-01 8.82073023e-02 3.75362511e-01\n",
      "  3.91272027e-02 9.43159597e-01]\n",
      " [2.04499315e-01 8.36049236e-01 8.31692176e-01 4.52998682e-01\n",
      "  3.98622001e-01 3.39792753e-01 8.75857641e-01 2.76732411e-01\n",
      "  3.24424604e-01 4.39546619e-01]\n",
      " [2.49524839e-01 1.15771854e-01 7.50060515e-01 5.33956453e-01\n",
      "  3.36944468e-01 6.01607228e-01 4.99860270e-01 7.45214443e-01\n",
      "  7.82556632e-01 7.34569976e-01]\n",
      " [8.99433774e-01 2.52203921e-01 2.40995191e-01 9.51540600e-02\n",
      "  8.48410560e-01 2.84665158e-04 4.50855810e-01 9.28131085e-01\n",
      "  1.76051231e-01 6.17236044e-01]\n",
      " [1.65342104e-01 1.00619483e-01 8.12037696e-01 3.10563500e-02\n",
      "  2.48403604e-01 1.38893463e-01 8.20328620e-01 1.50241627e-01\n",
      "  6.73903017e-01 2.24160655e-02]\n",
      " [9.31986243e-01 6.85701141e-01 3.83192556e-01 9.65126764e-01\n",
      "  2.61392918e-01 9.23851873e-01 6.04738424e-01 1.23875038e-01\n",
      "  6.52832293e-01 8.59117384e-01]\n",
      " [3.17220861e-01 9.44735578e-01 1.91990390e-01 3.87015428e-01\n",
      "  7.60045367e-01 2.44050088e-01 5.49733045e-02 9.38643765e-01\n",
      "  9.41191581e-01 7.27199015e-01]]\n"
     ]
    }
   ],
   "source": [
    "#49. How to print all the values of an array?\n",
    "np.set_printoptions(threshold=float(\"inf\"))\n",
    "x= np.random.random((10,10))\n",
    "print(x)"
   ]
  },
  {
   "cell_type": "code",
   "execution_count": 119,
   "id": "8fe92453",
   "metadata": {},
   "outputs": [
    {
     "name": "stdout",
     "output_type": "stream",
     "text": [
      "8\n"
     ]
    }
   ],
   "source": [
    "#50. How to find the closest value (to a given scalar) in a vector?\n",
    "x = np.arange(10)\n",
    "y = np.random.uniform(0,10)\n",
    "index = (np.abs(x-y)).argmin()\n",
    "print(x[index])"
   ]
  },
  {
   "cell_type": "code",
   "execution_count": 238,
   "id": "df6d5423",
   "metadata": {},
   "outputs": [
    {
     "name": "stdout",
     "output_type": "stream",
     "text": [
      "[((0., 0.), (0., 0., 0.)) ((0., 0.), (0., 0., 0.))\n",
      " ((0., 0.), (0., 0., 0.)) ((0., 0.), (0., 0., 0.))\n",
      " ((0., 0.), (0., 0., 0.)) ((0., 0.), (0., 0., 0.))\n",
      " ((0., 0.), (0., 0., 0.)) ((0., 0.), (0., 0., 0.))\n",
      " ((0., 0.), (0., 0., 0.)) ((0., 0.), (0., 0., 0.))]\n"
     ]
    }
   ],
   "source": [
    "#51. Create a structured array representing a position (x,y) and a color (r,g,b)\n",
    "Z = np.zeros(10, [ ('position', [ ('x', float),('y', float)]), ('color',    [ ('r', float),('g', float), ('b', float)])])\n",
    "print(Z)"
   ]
  },
  {
   "cell_type": "code",
   "execution_count": 127,
   "id": "ea3581b8",
   "metadata": {},
   "outputs": [
    {
     "name": "stdout",
     "output_type": "stream",
     "text": [
      "[[0.         0.29725819 0.3890437  0.63819171 0.26043286 0.21165004\n",
      "  0.27020694 0.74787529 0.3265219  0.12675126 0.52195439 0.67446873\n",
      "  0.65302796 0.30746992 0.68728881 0.84658734 0.38814416 0.27275194\n",
      "  0.04790151 0.43512978 0.26916117 0.47755032 0.51252758 0.59224586\n",
      "  0.56959335 0.61845788 0.06887118 0.19742561 0.29209681 0.43536073\n",
      "  0.5123069  0.48326703 0.41588615 0.3668168  0.17503032 0.15934789\n",
      "  0.66505793 0.36035715 0.22953479 0.39326242 0.62294359 0.09497566\n",
      "  0.22343397 0.34700544 0.50104662 0.10643287 0.58822165 0.2477959\n",
      "  0.34311539 0.49484056 0.29419436 0.1515671  0.59269307 0.37877166\n",
      "  0.34510029 0.79311866 0.25111687 0.17552873 0.61547867 0.28901384\n",
      "  0.61589221 0.3812194  0.3803205  0.49985043 0.68465184 0.25606252\n",
      "  0.43378334 0.38580825 0.74806199 0.34128568 0.24511836 0.42696601\n",
      "  0.56529049 0.48349112 0.16831684 0.4945913  0.04769304 0.41577624\n",
      "  0.44608756 0.38328701 0.48554886 0.57488422 0.59495703 0.64982104\n",
      "  0.31757032 0.22213503 0.5815181  0.20395923 0.31510841 0.60439759\n",
      "  0.64977783 0.2995664  0.25870578 0.58781868 0.51956879 0.69918508\n",
      "  0.4675803  0.30531    0.36611679 0.52208465]\n",
      " [0.29725819 0.         0.52466481 0.9350902  0.21972971 0.2302537\n",
      "  0.4339655  0.87499807 0.61742157 0.2189539  0.52117707 0.70831996\n",
      "  0.88586003 0.11875455 0.91311712 1.00396311 0.42120083 0.24119892\n",
      "  0.29315332 0.56766325 0.18808778 0.51659427 0.64794357 0.8730201\n",
      "  0.73086372 0.69953169 0.27131684 0.30394562 0.22999427 0.65736001\n",
      "  0.80946939 0.7026767  0.32805664 0.64197457 0.45553833 0.19435951\n",
      "  0.66465588 0.10075286 0.40216934 0.54813565 0.92018639 0.24605171\n",
      "  0.35298227 0.25716614 0.75496622 0.19680407 0.62881765 0.20333402\n",
      "  0.15682004 0.72164841 0.30406935 0.44728109 0.43504039 0.09964226\n",
      "  0.31572167 0.98391776 0.12053487 0.38524278 0.87079849 0.57832651\n",
      "  0.87282828 0.66065729 0.67294569 0.66476361 0.91840585 0.36493974\n",
      "  0.38920636 0.65578809 0.86165341 0.15016422 0.4830161  0.70475195\n",
      "  0.67798728 0.77787577 0.30697502 0.61832509 0.32411257 0.70395411\n",
      "  0.66798186 0.48101886 0.71913707 0.8705296  0.87065359 0.76341668\n",
      "  0.60536383 0.40137265 0.86856547 0.37715744 0.18458813 0.47468106\n",
      "  0.83608134 0.49665422 0.35773898 0.88493385 0.66891518 0.8086514\n",
      "  0.39150914 0.47085231 0.22379952 0.68039431]\n",
      " [0.3890437  0.52466481 0.         0.67322773 0.6200677  0.58114194\n",
      "  0.11892634 0.36406919 0.53977522 0.49324093 0.23950019 0.31441618\n",
      "  0.40328695 0.43488831 0.4191455  0.48122325 0.16376183 0.29415334\n",
      "  0.43694208 0.04672409 0.34718879 0.16689207 0.12775353 0.5059592\n",
      "  0.20625117 0.23501511 0.33683052 0.22905109 0.64986952 0.20260681\n",
      "  0.60425818 0.22926211 0.32369871 0.62294415 0.3056689  0.51498634\n",
      "  0.33661801 0.50701397 0.15951017 0.03694121 0.68617043 0.33533735\n",
      "  0.61229235 0.32821122 0.33481881 0.44372388 0.23614485 0.60295515\n",
      "  0.43033481 0.25567466 0.23456025 0.42050002 0.48207136 0.53843666\n",
      "  0.71965435 0.46206089 0.40610274 0.21618276 0.43001313 0.52355767\n",
      "  0.43531209 0.62193125 0.56575521 0.14210916 0.43405073 0.64508227\n",
      "  0.27019028 0.31751349 0.36046201 0.43506152 0.20287177 0.37249202\n",
      "  0.17624683 0.51266321 0.24103376 0.10573301 0.3451835  0.41867836\n",
      "  0.2091501  0.06636364 0.26592365 0.59756365 0.48531057 0.26132359\n",
      "  0.54829513 0.16705452 0.53082826 0.5886317  0.37791663 0.45143474\n",
      "  0.31552776 0.66322513 0.64770399 0.66620179 0.14457337 0.31056878\n",
      "  0.31840177 0.68221922 0.38483014 0.15588529]\n",
      " [0.63819171 0.9350902  0.67322773 0.         0.84885867 0.79764313\n",
      "  0.6342715  0.81182228 0.34898864 0.74215108 0.9126057  0.94883129\n",
      "  0.46857208 0.92445335 0.50558707 0.79395146 0.81336208 0.83064445\n",
      "  0.65060274 0.68454534 0.8578205  0.84011979 0.69614991 0.21867187\n",
      "  0.65667939 0.83858079 0.67022807 0.71194218 0.876021   0.48964132\n",
      "  0.13630833 0.49307675 0.94069218 0.38754481 0.49115157 0.77636542\n",
      "  0.99542499 0.9881996  0.6311832  0.64022644 0.04783731 0.69985424\n",
      "  0.70953072 0.90241355 0.37430767 0.74258105 0.890149   0.84486463\n",
      "  0.94978396 0.47037582 0.80674418 0.4920595  1.12405465 1.01065415\n",
      "  0.8829904  0.66934273 0.86954838 0.60219057 0.36589594 0.38667733\n",
      "  0.3582715  0.3619085  0.29583556 0.6319109  0.47472815 0.73252921\n",
      "  0.91357901 0.35633021 0.84193106 0.95028666 0.5199691  0.30074639\n",
      "  0.75729477 0.16782605 0.6865056  0.71352338 0.61282637 0.26062496\n",
      "  0.48859093 0.73035709 0.44934771 0.07577812 0.2535561  0.79143684\n",
      "  0.3695627  0.624409   0.16957226 0.66179656 0.90665276 1.10746587\n",
      "  0.61847792 0.60917699 0.7430331  0.07816665 0.66964148 0.82436073\n",
      "  0.96215773 0.66116025 0.9453216  0.6509953 ]\n",
      " [0.26043286 0.21972971 0.6200677  0.84885867 0.         0.05232499\n",
      "  0.50674885 0.98412708 0.5037148  0.1343994  0.68742802 0.8648363\n",
      "  0.91346034 0.32152008 0.9475763  1.09444444 0.56620321 0.39525473\n",
      "  0.2226958  0.66668437 0.35512649 0.66428192 0.74767201 0.83894322\n",
      "  0.81547154 0.83206318 0.28859957 0.39478703 0.03166842 0.69435743\n",
      "  0.7141825  0.74227148 0.51828638 0.49978838 0.43229738 0.10617137\n",
      "  0.83540945 0.32048198 0.46679036 0.63241229 0.82408848 0.28501827\n",
      "  0.16240069 0.44134536 0.76036534 0.1768373  0.77999833 0.0190223\n",
      "  0.36501123 0.75472946 0.44826711 0.36754453 0.64961402 0.3160339\n",
      "  0.10688308 1.04921361 0.29107898 0.42358997 0.87388525 0.46440102\n",
      "  0.87393261 0.52284291 0.55992693 0.74563208 0.94507666 0.16114732\n",
      "  0.56687697 0.64221874 0.97885774 0.35913726 0.5041402  0.67876889\n",
      "  0.79222093 0.7114221  0.37909154 0.72436249 0.30698825 0.65819607\n",
      "  0.70515438 0.59624448 0.74585533 0.79546845 0.84545    0.87898736\n",
      "  0.48585325 0.46164483 0.82162537 0.20281197 0.37515553 0.68412015\n",
      "  0.90386899 0.31008921 0.15158153 0.78627451 0.7602776  0.9274695\n",
      "  0.5814857  0.27261217 0.4245021  0.76607051]\n",
      " [0.21165004 0.2302537  0.58114194 0.79764313 0.05232499 0.\n",
      "  0.46578864 0.94494229 0.45364056 0.08869995 0.66328243 0.83652923\n",
      "  0.86418738 0.31827072 0.89880023 1.05182785 0.53812878 0.37388451\n",
      "  0.17185625 0.62786288 0.33897538 0.635479   0.70824669 0.78671765\n",
      "  0.77317612 0.79827546 0.24589499 0.35975649 0.08279124 0.64681701\n",
      "  0.66330304 0.69473801 0.50434639 0.45347395 0.38157808 0.06834981\n",
      "  0.81133395 0.32911506 0.4253298  0.59152453 0.77348222 0.2461651\n",
      "  0.12642663 0.42700717 0.70988027 0.13844144 0.75093297 0.04778795\n",
      "  0.36239131 0.70649055 0.42263898 0.31522788 0.64701318 0.32964978\n",
      "  0.13851244 1.00336004 0.28013546 0.37927967 0.82298922 0.4141415\n",
      "  0.82292504 0.47593361 0.51004059 0.7032344  0.89564931 0.13479879\n",
      "  0.54777917 0.59098196 0.94116414 0.35709423 0.45649882 0.62691003\n",
      "  0.75504552 0.65925953 0.34127487 0.6862277  0.25886214 0.60591298\n",
      "  0.65757018 0.56125146 0.69706882 0.74364859 0.79340653 0.84149989\n",
      "  0.43627653 0.41963482 0.7693004  0.16046511 0.3651382  0.6773776\n",
      "  0.85882019 0.27459427 0.12749123 0.73579129 0.71938256 0.89033127\n",
      "  0.56644476 0.24297355 0.41676016 0.72425012]\n",
      " [0.27020694 0.4339655  0.11892634 0.6342715  0.50674885 0.46578864\n",
      "  0.         0.47977313 0.44757553 0.37734229 0.30447281 0.42055434\n",
      "  0.45633811 0.36114479 0.48098021 0.58823554 0.18380459 0.22869848\n",
      "  0.31810836 0.16492995 0.27485974 0.24105996 0.24331735 0.49899435\n",
      "  0.30926459 0.35158646 0.22013912 0.13005183 0.5371781  0.22969379\n",
      "  0.54566313 0.27206369 0.30961649 0.52523492 0.20279096 0.40087177\n",
      "  0.42852158 0.43458011 0.04087564 0.12576175 0.63929443 0.22205021\n",
      "  0.49337987 0.28569222 0.3462407  0.32991175 0.33694309 0.49023115\n",
      "  0.36740014 0.29353784 0.18415618 0.3107247  0.49021656 0.46474063\n",
      "  0.60414048 0.55312585 0.32181845 0.09795461 0.45691729 0.42613948\n",
      "  0.46050778 0.52737901 0.48110571 0.23977009 0.4887422  0.52620279\n",
      "  0.2795292  0.2849069  0.47829295 0.37073322 0.11828048 0.34248563\n",
      "  0.29513406 0.46725573 0.13184805 0.22438436 0.22628914 0.37364772\n",
      "  0.23972694 0.12785361 0.29495704 0.55911684 0.48569198 0.37970071\n",
      "  0.45287377 0.0481283  0.51276901 0.46993435 0.31559318 0.47382323\n",
      "  0.40533837 0.54734823 0.52890616 0.61416786 0.25365797 0.42904174\n",
      "  0.32791693 0.56456842 0.33788817 0.25948737]\n",
      " [0.74787529 0.87499807 0.36406919 0.81182228 0.98412708 0.94494229\n",
      "  0.47977313 0.         0.82131261 0.85677926 0.41263883 0.27294184\n",
      "  0.35880124 0.77222116 0.33478986 0.15260685 0.46004231 0.63473416\n",
      "  0.79554263 0.31744506 0.68879696 0.3772259  0.23669752 0.59559855\n",
      "  0.18941496 0.19666058 0.69980271 0.59145827 1.01385911 0.37642344\n",
      "  0.80135906 0.34588423 0.60419456 0.91137975 0.63100826 0.87902247\n",
      "  0.35549805 0.8391739  0.52057134 0.35478333 0.84341049 0.69937556\n",
      "  0.96896304 0.64294791 0.44606064 0.80776773 0.29712899 0.96696518\n",
      "  0.75651089 0.3594363  0.57159768 0.74915745 0.69013612 0.87058897\n",
      "  1.08343491 0.22868399 0.75447468 0.57237417 0.4539692  0.81810017\n",
      "  0.46191391 0.90270676 0.82787532 0.25378705 0.36776211 1.00228331\n",
      "  0.53274371 0.52748057 0.04067433 0.76243531 0.52477042 0.55720768\n",
      "  0.19701112 0.69399438 0.60505265 0.2604591  0.7019544  0.62038176\n",
      "  0.37030718 0.39514621 0.38158561 0.74664876 0.56183157 0.11298671\n",
      "  0.83641873 0.52702884 0.64243939 0.94092886 0.70773409 0.63559155\n",
      "  0.19428393 1.00101335 1.00580386 0.83907776 0.22880617 0.07721928\n",
      "  0.56451575 1.02721367 0.69697933 0.22956677]\n",
      " [0.3265219  0.61742157 0.53977522 0.34898864 0.5037148  0.45364056\n",
      "  0.44757553 0.82131261 0.         0.40834473 0.75177679 0.85379026\n",
      "  0.57888642 0.63307246 0.62086992 0.86737919 0.62541027 0.57413786\n",
      "  0.32430863 0.57273059 0.58484978 0.6881508  0.6235745  0.40046175\n",
      "  0.633382   0.76384967 0.37823831 0.46601187 0.52965842 0.44506528\n",
      "  0.21276668 0.4800617  0.70823046 0.09035928 0.246849   0.44105621\n",
      "  0.87294806 0.68670131 0.42345678 0.52058656 0.3209596  0.40954331\n",
      "  0.36055716 0.65080632 0.41613942 0.42062015 0.77550943 0.50134837\n",
      "  0.66668684 0.47341208 0.57260543 0.17667626 0.89365535 0.7041317\n",
      "  0.53400414 0.77154707 0.57654228 0.37104108 0.49737971 0.03982245\n",
      "  0.49353775 0.08292634 0.05664565 0.57752048 0.60273066 0.38378974\n",
      "  0.70461607 0.30123452 0.83748092 0.66543966 0.33764589 0.29422871\n",
      "  0.68890034 0.24055269 0.43456433 0.62378492 0.3182364  0.2386758\n",
      "  0.45173557 0.57294149 0.45331306 0.30572789 0.42114285 0.75530726\n",
      "  0.02289446 0.41425088 0.36503564 0.31284189 0.6332541  0.89361412\n",
      "  0.65937648 0.27045706 0.39421201 0.28288928 0.61182594 0.80082046\n",
      "  0.74768798 0.32041613 0.68078708 0.6021495 ]\n",
      " [0.12675126 0.2189539  0.49324093 0.74215108 0.1343994  0.08869995\n",
      "  0.37734229 0.85677926 0.40834473 0.         0.5864153  0.75514922\n",
      "  0.77945111 0.2764951  0.81332544 0.96312888 0.45803002 0.30332717\n",
      "  0.09447828 0.53996283 0.27652081 0.55423884 0.62009056 0.71386629\n",
      "  0.68448263 0.71281489 0.15729179 0.27475782 0.16603015 0.55996829\n",
      "  0.61080782 0.6078848  0.44108669 0.42485225 0.30072319 0.03467289\n",
      "  0.73395154 0.30630545 0.33679916 0.50303289 0.72194189 0.15933245\n",
      "  0.1559594  0.3646218  0.62772607 0.0558613  0.66910476 0.12109857\n",
      "  0.3194665  0.62036175 0.34611203 0.2509154  0.59773712 0.31531036\n",
      "  0.22680406 0.91539196 0.22843341 0.29067848 0.74195381 0.36859047\n",
      "  0.74226045 0.44456628 0.46483667 0.61453938 0.81116213 0.18010676\n",
      "  0.47740815 0.51146936 0.85353049 0.31531336 0.36974081 0.55065327\n",
      "  0.66774113 0.59543254 0.25443789 0.59855473 0.17273849 0.53483324\n",
      "  0.57076232 0.47542845 0.61163602 0.68355584 0.71830905 0.75399958\n",
      "  0.39398327 0.33101268 0.69997933 0.16597144 0.310715   0.62183615\n",
      "  0.77051005 0.28518667 0.17761298 0.68517496 0.63085399 0.80295742\n",
      "  0.50093247 0.26859937 0.36408623 0.63559085]\n",
      " [0.52195439 0.52117707 0.23950019 0.9126057  0.68742802 0.66328243\n",
      "  0.30447281 0.41263883 0.75177679 0.5864153  0.         0.18873853\n",
      "  0.60481706 0.40473674 0.60938727 0.56288262 0.1341506  0.29263993\n",
      "  0.56531757 0.23594614 0.33834721 0.07297716 0.26569101 0.7420571\n",
      "  0.35555645 0.21600498 0.45473675 0.32454776 0.71179413 0.43611564\n",
      "  0.83954622 0.45326329 0.20522715 0.82753894 0.50569607 0.59553193\n",
      "  0.14809258 0.45984483 0.3297126  0.27369331 0.92469287 0.43692315\n",
      "  0.73325922 0.26497339 0.56799336 0.53060626 0.11956509 0.66848723\n",
      "  0.3768125  0.48034835 0.24075275 0.60550443 0.28356185 0.48937744\n",
      "  0.794205   0.59692632 0.40771822 0.38668257 0.65215374 0.72907478\n",
      "  0.65835888 0.83086454 0.78540065 0.32594321 0.63180123 0.76234907\n",
      "  0.1348209  0.55654914 0.38576725 0.38350693 0.41963175 0.61191693\n",
      "  0.24417851 0.7509818  0.3541635  0.23331738 0.4908312  0.65662976\n",
      "  0.44090965 0.1849254  0.4946027  0.83690021 0.719329   0.30466547\n",
      "  0.75635793 0.33910067 0.76919992 0.72327016 0.33737007 0.23643012\n",
      "  0.47180767 0.82049763 0.76167255 0.90362792 0.29992897 0.33600444\n",
      "  0.15479639 0.82681152 0.30964368 0.32163667]\n",
      " [0.67446873 0.70831996 0.31441618 0.94883129 0.8648363  0.83652923\n",
      "  0.42055434 0.27294184 0.85379026 0.75514922 0.18873853 0.\n",
      "  0.56135272 0.59281869 0.55271068 0.4240623  0.29869322 0.47438632\n",
      "  0.72074499 0.28219667 0.52309037 0.20106551 0.25272507 0.75203266\n",
      "  0.30730562 0.11413563 0.61139878 0.48249841 0.89073073 0.46000702\n",
      "  0.90048075 0.45742521 0.39326981 0.93735961 0.61878629 0.76820259\n",
      "  0.08283559 0.6485743  0.45613507 0.33407499 0.96972942 0.5989158\n",
      "  0.89431089 0.45324556 0.57838281 0.70013981 0.08638729 0.84611059\n",
      "  0.56553957 0.48203716 0.41709924 0.73091965 0.43337092 0.67803047\n",
      "  0.97089823 0.49157323 0.59274356 0.51625977 0.63394183 0.83797151\n",
      "  0.64131178 0.93614451 0.87775554 0.31726964 0.581529   0.92517227\n",
      "  0.3235333  0.6073404  0.23659862 0.57222591 0.51728692 0.65542406\n",
      "  0.19297542 0.80071183 0.5078314  0.23866249 0.63676128 0.71080446\n",
      "  0.46040544 0.2945001  0.50169209 0.87543621 0.72327755 0.19402992\n",
      "  0.86265141 0.46522336 0.7891535  0.87842753 0.52535833 0.37468594\n",
      "  0.40052688 0.96525269 0.92574093 0.95528119 0.27996074 0.19956852\n",
      "  0.33866166 0.97828904 0.49832828 0.29983365]\n",
      " [0.65302796 0.88586003 0.40328695 0.46857208 0.91346034 0.86418738\n",
      "  0.45633811 0.35880124 0.57888642 0.77945111 0.60481706 0.56135272\n",
      "  0.         0.8173408  0.04227378 0.32559539 0.56575961 0.68184423\n",
      "  0.69302961 0.38130946 0.73047975 0.53739071 0.33967583 0.25025283\n",
      "  0.25758814 0.44820188 0.63569719 0.58472665 0.94512476 0.2285076\n",
      "  0.48913344 0.18427446 0.72690508 0.66571614 0.48528045 0.81070069\n",
      "  0.62947216 0.89080026 0.48430954 0.36814698 0.50604654 0.65128973\n",
      "  0.84017593 0.72760728 0.16589316 0.74677735 0.53219587 0.90051918\n",
      "  0.821214   0.16421782 0.62880675 0.58200648 0.87677379 0.92106364\n",
      "  0.99287954 0.20496074 0.77752704 0.50440764 0.10282508 0.5911716\n",
      "  0.11033995 0.64951752 0.56451876 0.27962757 0.03254583 0.87282722\n",
      "  0.67045077 0.2909657  0.3943982  0.82503158 0.41213494 0.28473679\n",
      "  0.37768799 0.38495097 0.57889165 0.37150078 0.60675522 0.34223559\n",
      "  0.21792483 0.46857745 0.16872488 0.41244981 0.21526805 0.37313249\n",
      "  0.59934141 0.48460141 0.30115166 0.79984225 0.76873673 0.83812553\n",
      "  0.16840904 0.81913686 0.8798178  0.50947318 0.30542152 0.39128973\n",
      "  0.71705247 0.85899408 0.78341077 0.28347519]\n",
      " [0.30746992 0.11875455 0.43488831 0.92445335 0.32152008 0.31827072\n",
      "  0.36114479 0.77222116 0.63307246 0.2764951  0.40473674 0.59281869\n",
      "  0.8173408  0.         0.84085739 0.90673358 0.3131602  0.14088321\n",
      "  0.32167483 0.4746144  0.08794377 0.40532916 0.55234302 0.83561393\n",
      "  0.63983973 0.59068996 0.25762103 0.23589578 0.33766967 0.59064559\n",
      "  0.80722778 0.63310123 0.20930522 0.67294974 0.4335927  0.2642389\n",
      "  0.54680032 0.07346194 0.33681129 0.46269104 0.91549152 0.2266781\n",
      "  0.42876231 0.13979457 0.70066718 0.2331898  0.51514451 0.30327716\n",
      "  0.04412667 0.65464593 0.2027309  0.45661859 0.32900859 0.10414584\n",
      "  0.42425638 0.89693388 0.05654029 0.33691104 0.81449588 0.5961766\n",
      "  0.81746265 0.68828272 0.68566685 0.57695888 0.84968623 0.44738763\n",
      "  0.27153398 0.61505087 0.75621827 0.03912285 0.43433137 0.66846221\n",
      "  0.57593342 0.7605974  0.25041151 0.52078404 0.31762291 0.67821076\n",
      "  0.60078495 0.38377568 0.65534197 0.85523565 0.82869112 0.65960635\n",
      "  0.62490035 0.33856989 0.8380658  0.44244781 0.06747503 0.36276887\n",
      "  0.75025885 0.56126284 0.44211269 0.88255193 0.57638415 0.70318736\n",
      "  0.27277012 0.5443804  0.10583889 0.59005419]\n",
      " [0.68728881 0.91311712 0.4191455  0.50558707 0.9475763  0.89880023\n",
      "  0.48098021 0.33478986 0.62086992 0.81332544 0.60938727 0.55271068\n",
      "  0.04227378 0.84085739 0.         0.28871694 0.57940348 0.70369528\n",
      "  0.72818732 0.39315637 0.75346519 0.54418074 0.34380054 0.28825291\n",
      "  0.25597085 0.44120181 0.66730325 0.61043438 0.97924297 0.25706987\n",
      "  0.53026195 0.21061001 0.74141081 0.70785905 0.52166798 0.84408541\n",
      "  0.62398334 0.91428073 0.51095705 0.3853029  0.5441722  0.68169615\n",
      "  0.87789669 0.74619994 0.20678963 0.77914414 0.52990296 0.93425942\n",
      "  0.84283578 0.19390047 0.64884866 0.62073197 0.88548227 0.94487139\n",
      "  1.02872035 0.16478962 0.80279194 0.53450528 0.14170229 0.63276295\n",
      "  0.14879299 0.69174054 0.60677968 0.28807138 0.03335024 0.91071155\n",
      "  0.68249565 0.3311485  0.37212716 0.8468981  0.44447947 0.32665916\n",
      "  0.37522887 0.42660078 0.60635875 0.37703829 0.6406032  0.38445902\n",
      "  0.24625737 0.48311728 0.20174027 0.45154059 0.25335162 0.36099701\n",
      "  0.6412347  0.51186439 0.3396529  0.83813768 0.7902185  0.84453939\n",
      "  0.15288642 0.85958863 0.91751864 0.54882206 0.30967144 0.37419885\n",
      "  0.72808551 0.89892415 0.80244882 0.28829311]\n",
      " [0.84658734 1.00396311 0.48122325 0.79395146 1.09444444 1.05182785\n",
      "  0.58823554 0.15260685 0.86737919 0.96312888 0.56288262 0.4240623\n",
      "  0.32559539 0.90673358 0.28871694 0.         0.59872756 0.76691285\n",
      "  0.89309596 0.43673275 0.82107666 0.5225067  0.35602238 0.5758394\n",
      "  0.279019   0.34764859 0.80621395 0.70977322 1.12511437 0.43293453\n",
      "  0.80933927 0.39097423 0.74921918 0.95742286 0.70932749 0.98833473\n",
      "  0.5068639  0.97589802 0.62776    0.46339046 0.83162348 0.81024403\n",
      "  1.06147233 0.78256299 0.45988935 0.91773658 0.44903522 1.07820721\n",
      "  0.89448681 0.39436372 0.7041897  0.82391289 0.84215826 1.00748963\n",
      "  1.18934755 0.13072103 0.88411088 0.67294974 0.42842047 0.8709774\n",
      "  0.43591148 0.94504362 0.86409408 0.34881248 0.32059906 1.09506789\n",
      "  0.6786513  0.56614974 0.18748743 0.90011641 0.60876916 0.5817131\n",
      "  0.33371116 0.70278703 0.71879264 0.38622049 0.79924757 0.64455039\n",
      "  0.42406297 0.52369344 0.41408945 0.73761881 0.54085437 0.25870598\n",
      "  0.88518406 0.63279992 0.62670094 1.02889393 0.84422303 0.78802999\n",
      "  0.20897233 1.07524783 1.09977124 0.83428171 0.33689143 0.2295946\n",
      "  0.71281734 1.10690966 0.83783389 0.32883231]\n",
      " [0.38814416 0.42120083 0.16376183 0.81336208 0.56620321 0.53812878\n",
      "  0.18380459 0.46004231 0.62541027 0.45803002 0.1341506  0.29869322\n",
      "  0.56575961 0.3131602  0.57940348 0.59872756 0.         0.18069288\n",
      "  0.43202551 0.18670236 0.23311327 0.09828344 0.25256508 0.66165759\n",
      "  0.34581575 0.27839425 0.32139367 0.1909261  0.59234513 0.36385294\n",
      "  0.72901388 0.39290074 0.16225939 0.6982912  0.37856147 0.46985703\n",
      "  0.27779364 0.37913978 0.20204832 0.20036305 0.82071631 0.30494005\n",
      "  0.60172249 0.18383582 0.49471738 0.40259776 0.21392618 0.54751107\n",
      "  0.29655869 0.41915029 0.11984822 0.4736604  0.32042799 0.41054668\n",
      "  0.67220572 0.60378619 0.30171646 0.25613354 0.59329308 0.60071262\n",
      "  0.59843259 0.70289229 0.66212706 0.29363085 0.59600973 0.63147897\n",
      "  0.10684226 0.45877393 0.44309747 0.30242833 0.30206663 0.51608394\n",
      "  0.26531961 0.64765856 0.22011332 0.21843983 0.35668981 0.55332286\n",
      "  0.37118977 0.09751322 0.4285235  0.7377491  0.64339917 0.34713926\n",
      "  0.62858193 0.21119105 0.68203479 0.59020083 0.24783385 0.29534271\n",
      "  0.46285095 0.68639177 0.63128975 0.7966564  0.28199266 0.39008346\n",
      "  0.15570327 0.69326254 0.23935484 0.29983804]\n",
      " [0.27275194 0.24119892 0.29415334 0.83064445 0.39525473 0.37388451\n",
      "  0.22869848 0.63473416 0.57413786 0.30332717 0.29263993 0.47438632\n",
      "  0.68184423 0.14088321 0.70369528 0.76691285 0.18069288 0.\n",
      "  0.30592509 0.33375819 0.05419679 0.27765812 0.4118572  0.71979462\n",
      "  0.49895988 0.45860676 0.2057963  0.11880068 0.41920215 0.4576366\n",
      "  0.72374559 0.49816716 0.14349253 0.63003997 0.34503299 0.30741533\n",
      "  0.44037293 0.21290809 0.21151489 0.32266254 0.82753014 0.17778343\n",
      "  0.45702165 0.07670364 0.57412673 0.24808727 0.39197546 0.37626794\n",
      "  0.13937755 0.52086691 0.06313649 0.40112551 0.32195273 0.24429128\n",
      "  0.50212676 0.75613464 0.12112859 0.22860563 0.68558272 0.54141711\n",
      "  0.68910573 0.64086202 0.62143221 0.4362588  0.71396853 0.48315438\n",
      "  0.17436138 0.50028365 0.62061261 0.14323594 0.31877471 0.55624726\n",
      "  0.43785224 0.6634468  0.14509713 0.38071527 0.26090907 0.57509125\n",
      "  0.46739708 0.2433756  0.52333515 0.75815622 0.70945825 0.52271728\n",
      "  0.57072686 0.21549549 0.72781121 0.45591183 0.08705584 0.33168341\n",
      "  0.60963941 0.56565823 0.48093458 0.79743481 0.43554422 0.5675873\n",
      "  0.19910658 0.56168146 0.11495214 0.44917719]\n",
      " [0.04790151 0.29315332 0.43694208 0.65060274 0.2226958  0.17185625\n",
      "  0.31810836 0.79554263 0.32430863 0.09447828 0.56531757 0.72074499\n",
      "  0.69302961 0.32167483 0.72818732 0.89309596 0.43202551 0.30592509\n",
      "  0.         0.48303035 0.29526967 0.52292659 0.56034691 0.61962196\n",
      "  0.61661256 0.66605988 0.11063261 0.24113135 0.25409134 0.4785232\n",
      "  0.52089973 0.5263275  0.44936639 0.35308622 0.20973143 0.12909443\n",
      "  0.7095411  0.36702684 0.27743229 0.44102128 0.63206977 0.13088698\n",
      "  0.17565418 0.37760367 0.53802501 0.09642888 0.63441942 0.21202024\n",
      "  0.36051901 0.53683228 0.33340103 0.15854324 0.62152622 0.38200491\n",
      "  0.30127668 0.83754962 0.26677007 0.22317039 0.65123753 0.28517332\n",
      "  0.65124851 0.37006647 0.38001721 0.54696465 0.72433277 0.20818702\n",
      "  0.47219398 0.41955348 0.7959124  0.35785974 0.28891197 0.45715599\n",
      "  0.6131889  0.50164234 0.21335934 0.54249271 0.09399186 0.44037335\n",
      "  0.48916207 0.43047287 0.52660602 0.59058212 0.62453693 0.69771225\n",
      "  0.31232199 0.27003388 0.60550246 0.15827576 0.33843037 0.63685634\n",
      "  0.69507303 0.26027614 0.21080857 0.59584821 0.56712097 0.74707838\n",
      "  0.50361724 0.26162613 0.39098384 0.56936511]\n",
      " [0.43512978 0.56766325 0.04672409 0.68454534 0.66668437 0.62786288\n",
      "  0.16492995 0.31744506 0.57273059 0.53996283 0.23594614 0.28219667\n",
      "  0.38130946 0.4746144  0.39315637 0.43673275 0.18670236 0.33375819\n",
      "  0.48303035 0.         0.38745567 0.163634   0.08158779 0.50667718\n",
      "  0.1653231  0.19405509 0.38350144 0.27488117 0.69642796 0.20068526\n",
      "  0.62376078 0.21808361 0.34896042 0.65768408 0.34464335 0.56166995\n",
      "  0.31386777 0.54592427 0.2057003  0.05214404 0.70047488 0.38202486\n",
      "  0.65820409 0.36164982 0.33213159 0.49040488 0.20985395 0.64952664\n",
      "  0.46749401 0.24516325 0.27249227 0.46112006 0.49621732 0.57747749\n",
      "  0.76637517 0.42348474 0.44833312 0.26140385 0.41847426 0.55866196\n",
      "  0.42437115 0.65538352 0.59560082 0.1071677  0.41085166 0.691086\n",
      "  0.28947836 0.33245028 0.3138072  0.4725225  0.23917523 0.38477976\n",
      "  0.13048157 0.52811144 0.28760835 0.0594971  0.39085799 0.43549256\n",
      "  0.2050931  0.09326336 0.25876872 0.6093643  0.48345905 0.21483713\n",
      "  0.5824677  0.2130005  0.53552346 0.63386721 0.41552104 0.46056548\n",
      "  0.27893304 0.70626608 0.69383311 0.68266397 0.10180508 0.2641457\n",
      "  0.33575117 0.726426   0.41840188 0.11617233]\n",
      " [0.26916117 0.18808778 0.34718879 0.8578205  0.35512649 0.33897538\n",
      "  0.27485974 0.68879696 0.58484978 0.27652081 0.33834721 0.52309037\n",
      "  0.73047975 0.08794377 0.75346519 0.82107666 0.23311327 0.05419679\n",
      "  0.29526967 0.38745567 0.         0.32886973 0.46589004 0.75745906\n",
      "  0.55251657 0.51146271 0.20763065 0.15367344 0.37708156 0.50455338\n",
      "  0.74594514 0.54635563 0.16560279 0.63424184 0.36762834 0.27518728\n",
      "  0.48480745 0.16101442 0.25294504 0.37475557 0.85201101 0.17680725\n",
      "  0.43237    0.08843136 0.6173301  0.22371815 0.44204471 0.33611844\n",
      "  0.09488831 0.56832181 0.11725434 0.40894896 0.3265262  0.1920234\n",
      "  0.46173971 0.80924704 0.06965483 0.26016863 0.73023348 0.55012649\n",
      "  0.73344252 0.64700624 0.6346915  0.48920166 0.7627585  0.45616128\n",
      "  0.21224343 0.53698528 0.67436205 0.09717919 0.3551769  0.59177285\n",
      "  0.491963   0.69183181 0.17323398 0.43486638 0.26687469 0.6061138\n",
      "  0.51456293 0.29747672 0.5696865  0.78672321 0.74887163 0.57667397\n",
      "  0.57936419 0.25557268 0.76268646 0.43656995 0.04918249 0.34595433\n",
      "  0.66243541 0.5506986  0.45287119 0.82055854 0.48926064 0.62132162\n",
      "  0.22748684 0.54191495 0.09703746 0.50258728]\n",
      " [0.47755032 0.51659427 0.16689207 0.84011979 0.66428192 0.635479\n",
      "  0.24105996 0.3772259  0.6881508  0.55423884 0.07297716 0.20106551\n",
      "  0.53739071 0.40532916 0.54418074 0.5225067  0.09828344 0.27765812\n",
      "  0.52292659 0.163634   0.32886973 0.         0.20115001 0.66920291\n",
      "  0.29398907 0.18665472 0.41276365 0.28282222 0.69056425 0.36333827\n",
      "  0.76891229 0.38151224 0.22707086 0.766272   0.44381039 0.56714698\n",
      "  0.18972791 0.46779507 0.27050502 0.2007589  0.85274939 0.39882096\n",
      "  0.69508827 0.26965162 0.49536961 0.49913233 0.11571834 0.64562604\n",
      "  0.3842006  0.40860561 0.2179178  0.54844003 0.34198441 0.49869312\n",
      "  0.77012546 0.54373706 0.39812334 0.32954437 0.58121341 0.66719919\n",
      "  0.5872813  0.76835288 0.71964958 0.25777014 0.56524318 0.72551364\n",
      "  0.1561447  0.48429065 0.35593874 0.3904826  0.35288029 0.53938292\n",
      "  0.19192025 0.67911457 0.30957069 0.16723994 0.44242826 0.58490077\n",
      "  0.36828446 0.1160372  0.42239998 0.76445245 0.64669179 0.26494584\n",
      "  0.69386672 0.27991984 0.6962232  0.68111916 0.33852265 0.30075221\n",
      "  0.41191527 0.77267641 0.72577973 0.83218333 0.23485176 0.30358063\n",
      "  0.19287578 0.78265033 0.32160363 0.25593443]\n",
      " [0.51252758 0.64794357 0.12775353 0.69614991 0.74767201 0.70824669\n",
      "  0.24331735 0.23669752 0.6235745  0.62009056 0.26569101 0.25272507\n",
      "  0.33967583 0.55234302 0.34380054 0.35602238 0.25256508 0.4118572\n",
      "  0.56034691 0.08158779 0.46589004 0.20115001 0.         0.50245264\n",
      "  0.09420778 0.14549604 0.46317812 0.35646156 0.77755308 0.20748436\n",
      "  0.65036426 0.20638818 0.41250855 0.71113636 0.40862896 0.64241293\n",
      "  0.30408202 0.62272599 0.28417414 0.11961961 0.71714742 0.46278619\n",
      "  0.73475682 0.43390417 0.32740225 0.5711738  0.20027756 0.73062647\n",
      "  0.54282582 0.23203667 0.34962899 0.52682717 0.54312657 0.65433742\n",
      "  0.8467376  0.35122346 0.52817268 0.33742143 0.39475562 0.61349221\n",
      "  0.40155683 0.70648632 0.64069193 0.0663448  0.36619088 0.76788364\n",
      "  0.34738979 0.35762387 0.23568515 0.54813148 0.30124211 0.40364387\n",
      "  0.06581334 0.54901372 0.36873322 0.03473746 0.46726289 0.46059228\n",
      "  0.2076834  0.16856807 0.25060798 0.62271516 0.47523798 0.13919877\n",
      "  0.63541878 0.29087473 0.5376732  0.70860906 0.49149839 0.50083237\n",
      "  0.21244382 0.77577617 0.77102558 0.70330205 0.03427748 0.18835349\n",
      "  0.38999914 0.79851112 0.49033852 0.05621753]\n",
      " [0.59224586 0.8730201  0.5059592  0.21867187 0.83894322 0.78671765\n",
      "  0.49899435 0.59559855 0.40046175 0.71386629 0.7420571  0.75203266\n",
      "  0.25025283 0.83561393 0.28825291 0.5758394  0.66165759 0.71979462\n",
      "  0.61962196 0.50667718 0.75745906 0.66920291 0.50245264 0.\n",
      "  0.4503396  0.63907915 0.60215844 0.60401496 0.8693371  0.30602291\n",
      "  0.25385649 0.2961422  0.80696611 0.47472156 0.41979678 0.74824946\n",
      "  0.80637169 0.90581548 0.50864734 0.46990641 0.25594611 0.62706401\n",
      "  0.72829374 0.78345024 0.17569466 0.69782545 0.70181956 0.83029487\n",
      "  0.85232948 0.27049237 0.68248652 0.4732947  0.98145649 0.93246134\n",
      "  0.89733783 0.45281586 0.78539264 0.49872714 0.14743892 0.42567082\n",
      "  0.13992929 0.45347408 0.36794606 0.43628771 0.25846262 0.75747703\n",
      "  0.76730892 0.22062199 0.62707736 0.85430423 0.40228217 0.16833795\n",
      "  0.55905913 0.16496548 0.58554295 0.52483732 0.55437685 0.1814391\n",
      "  0.30179839 0.56940133 0.25209999 0.16420139 0.03498512 0.58336379\n",
      "  0.42322968 0.5043131  0.05182069 0.68227418 0.80360354 0.95580687\n",
      "  0.40153275 0.66740426 0.76652829 0.26167508 0.47264187 0.61290383\n",
      "  0.81658618 0.71478052 0.83330712 0.45227392]\n",
      " [0.56959335 0.73086372 0.20625117 0.65667939 0.81547154 0.77317612\n",
      "  0.30926459 0.18941496 0.633382   0.68448263 0.35555645 0.30730562\n",
      "  0.25758814 0.63983973 0.25597085 0.279019   0.34581575 0.49895988\n",
      "  0.61661256 0.1653231  0.55251657 0.29398907 0.09420778 0.4503396\n",
      "  0.         0.19319003 0.5274029  0.43241477 0.84610903 0.19031842\n",
      "  0.62866199 0.16756927 0.50645572 0.72319532 0.44319374 0.70938715\n",
      "  0.37228863 0.71124561 0.34874443 0.18500327 0.68291657 0.53123612\n",
      "  0.78747667 0.52553689 0.28240567 0.6387336  0.27478306 0.79919633\n",
      "  0.63264849 0.18720374 0.43781465 0.56090927 0.63573722 0.7427956\n",
      "  0.91095811 0.25868426 0.61232521 0.39492766 0.32675112 0.62915107\n",
      "  0.3341801  0.71526113 0.64233697 0.06995045 0.28118501 0.82099825\n",
      "  0.44159755 0.34454622 0.20429196 0.63773455 0.33810616 0.38055263\n",
      "  0.12011589 0.52293595 0.4401711  0.12894451 0.52262086 0.44225398\n",
      "  0.1855698  0.25777392 0.20901832 0.5864308  0.41983184 0.13495844\n",
      "  0.64797599 0.3538475  0.49124717 0.75722894 0.58077807 0.59179788\n",
      "  0.11829488 0.81309892 0.82515824 0.67375089 0.06414484 0.17263218\n",
      "  0.4840387  0.84069213 0.58217811 0.05055476]\n",
      " [0.61845788 0.69953169 0.23501511 0.83858079 0.83206318 0.79827546\n",
      "  0.35158646 0.19666058 0.76384967 0.71281489 0.21600498 0.11413563\n",
      "  0.44820188 0.59068996 0.44120181 0.34764859 0.27839425 0.45860676\n",
      "  0.66605988 0.19405509 0.51146271 0.18665472 0.14549604 0.63907915\n",
      "  0.19319003 0.         0.56076126 0.43852301 0.86006299 0.35208602\n",
      "  0.79578799 0.34584882 0.41122123 0.85002656 0.5386903  0.73035088\n",
      "  0.18316543 0.65425868 0.39081191 0.24536863 0.86099649 0.55358135\n",
      "  0.84166204 0.45621619 0.46637082 0.65989009 0.10214563 0.81393214\n",
      "  0.57073298 0.36980507 0.39642808 0.65487883 0.49477834 0.68524106\n",
      "  0.93574689 0.39429697 0.57973492 0.44954102 0.51980778 0.75139474\n",
      "  0.52718232 0.8467274  0.78351261 0.20691678 0.46925092 0.87384448\n",
      "  0.33923493 0.50311956 0.17081769 0.57697098 0.43303921 0.54866778\n",
      "  0.08139786 0.69398762 0.45885223 0.14006488 0.57664318 0.60604278\n",
      "  0.35152111 0.23744822 0.38996582 0.76591337 0.60989769 0.09264064\n",
      "  0.77453018 0.39913825 0.677162   0.82065121 0.52435751 0.44178271\n",
      "  0.2903102  0.89811081 0.87566501 0.84800594 0.16902201 0.12006406\n",
      "  0.3686787  0.91615472 0.50817652 0.18775724]\n",
      " [0.06887118 0.27131684 0.33683052 0.67022807 0.28859957 0.24589499\n",
      "  0.22013912 0.69980271 0.37823831 0.15729179 0.45473675 0.61139878\n",
      "  0.63569719 0.25762103 0.66730325 0.80621395 0.32139367 0.2057963\n",
      "  0.11063261 0.38350144 0.20763065 0.41276365 0.46317812 0.60215844\n",
      "  0.5274029  0.56076126 0.         0.13051888 0.31962873 0.41102374\n",
      "  0.55023483 0.45861895 0.34826846 0.42691897 0.18437973 0.1824384\n",
      "  0.59895164 0.31819859 0.17952536 0.34577013 0.65922809 0.0313317\n",
      "  0.2829786  0.28116848 0.49274106 0.11315769 0.52501665 0.27296289\n",
      "  0.28893107 0.47340849 0.22532443 0.20176082 0.52715831 0.34048208\n",
      "  0.38408315 0.7616195  0.20141054 0.1355297  0.60868647 0.34283741\n",
      "  0.60998433 0.43938974 0.42941724 0.45748225 0.66793609 0.31424565\n",
      "  0.3649163  0.38673182 0.69729253 0.28802489 0.22371445 0.43408442\n",
      "  0.51219821 0.50933266 0.10357718 0.44243119 0.06026849 0.43292204\n",
      "  0.42188488 0.32373065 0.46697249 0.60308476 0.60086486 0.5980332\n",
      "  0.37201153 0.17373984 0.59727336 0.26884285 0.25542055 0.53695906\n",
      "  0.61565796 0.36815208 0.31543377 0.62570139 0.47356887 0.64716558\n",
      "  0.39903392 0.37208997 0.30444004 0.47837014]\n",
      " [0.19742561 0.30394562 0.22905109 0.71194218 0.39478703 0.35975649\n",
      "  0.13005183 0.59145827 0.46601187 0.27475782 0.32454776 0.48249841\n",
      "  0.58472665 0.23589578 0.61043438 0.70977322 0.1909261  0.11880068\n",
      "  0.24113135 0.27488117 0.15367344 0.28282222 0.35646156 0.60401496\n",
      "  0.43241477 0.43852301 0.13051888 0.         0.42368816 0.35669331\n",
      "  0.60647202 0.40066305 0.24237305 0.52886873 0.22898921 0.29191846\n",
      "  0.46843442 0.30873164 0.10117794 0.24759155 0.70935819 0.1165357\n",
      "  0.41226605 0.19152063 0.46481138 0.22137133 0.3961512  0.3770543\n",
      "  0.24853846 0.42099319 0.10687297 0.29912059 0.42842182 0.33802065\n",
      "  0.49743258 0.68147145 0.1928481  0.10981043 0.57863717 0.43580987\n",
      "  0.58157267 0.53721159 0.51048814 0.36437886 0.61722331 0.44278477\n",
      "  0.24374282 0.38371815 0.58457778 0.25080665 0.20182383 0.4390002\n",
      "  0.39778287 0.54466993 0.03223928 0.33101847 0.16917581 0.45638953\n",
      "  0.36707072 0.20165162 0.42052408 0.63936238 0.59519956 0.48465857\n",
      "  0.46487786 0.1026751  0.61031906 0.39936172 0.1996961  0.42802189\n",
      "  0.53354055 0.49648005 0.44324669 0.67971646 0.37289034 0.53290298\n",
      "  0.28346682 0.5023567  0.23371469 0.38192143]\n",
      " [0.29209681 0.22999427 0.64986952 0.876021   0.03166842 0.08279124\n",
      "  0.5371781  1.01385911 0.52965842 0.16603015 0.71179413 0.89073073\n",
      "  0.94512476 0.33766967 0.97924297 1.12511437 0.59234513 0.41920215\n",
      "  0.25409134 0.69642796 0.37708156 0.69056425 0.77755308 0.8693371\n",
      "  0.84610903 0.86006299 0.31962873 0.42368816 0.         0.72596126\n",
      "  0.74093325 0.7738724  0.53848388 0.52215631 0.46376542 0.13723459\n",
      "  0.85957225 0.33016254 0.49737132 0.66275035 0.85044043 0.31523165\n",
      "  0.180566   0.46202579 0.79190278 0.20737811 0.8062631  0.0469595\n",
      "  0.38044326 0.78637976 0.47372589 0.39727546 0.66371125 0.32276774\n",
      "  0.08659343 1.08057759 0.31124769 0.45479568 0.90532485 0.49060006\n",
      "  0.90533701 0.54568407 0.58560258 0.77631234 0.97673589 0.17387356\n",
      "  0.5892866  0.67353098 1.00812438 0.37431847 0.53576404 0.70969915\n",
      "  0.82139234 0.74038224 0.40883577 0.75386875 0.33865158 0.68841137\n",
      "  0.73676146 0.62483934 0.77752293 0.82363046 0.8761757  0.90822177\n",
      "  0.51128617 0.4923579  0.85145602 0.22393969 0.39418333 0.70031099\n",
      "  0.93510073 0.32538293 0.16346125 0.81248932 0.79056676 0.95657287\n",
      "  0.60201138 0.28457095 0.4421235  0.79660107]\n",
      " [0.43536073 0.65736001 0.20260681 0.48964132 0.69435743 0.64681701\n",
      "  0.22969379 0.37642344 0.44506528 0.55996829 0.43611564 0.46000702\n",
      "  0.2285076  0.59064559 0.25706987 0.43293453 0.36385294 0.4576366\n",
      "  0.4785232  0.20068526 0.50455338 0.36333827 0.20748436 0.30602291\n",
      "  0.19031842 0.35208602 0.41102374 0.35669331 0.72596126 0.\n",
      "  0.4447103  0.04792399 0.51848926 0.53526251 0.28032461 0.5897384\n",
      "  0.50622518 0.66402616 0.25596    0.16583083 0.50972426 0.42471094\n",
      "  0.63782298 0.50904172 0.13243474 0.52347038 0.40095832 0.6803456\n",
      "  0.59677146 0.06435414 0.40818551 0.39190235 0.68389458 0.69396056\n",
      "  0.77976188 0.3606611  0.54953871 0.27750028 0.23142939 0.44342714\n",
      "  0.23597968 0.52628871 0.45217296 0.14605859 0.26105289 0.67126915\n",
      "  0.4706828  0.15503836 0.39435841 0.60024061 0.19032092 0.19670687\n",
      "  0.27083246 0.34193521 0.35038738 0.22393525 0.38796327 0.25563086\n",
      "  0.0108614  0.26806534 0.06627501 0.41566612 0.28353206 0.32002524\n",
      "  0.46063559 0.25610625 0.33560134 0.60191968 0.54468533 0.65403352\n",
      "  0.22506193 0.64248114 0.67700473 0.49594996 0.18395359 0.36185477\n",
      "  0.51949759 0.67524244 0.56350943 0.16820354]\n",
      " [0.5123069  0.80946939 0.60425818 0.13630833 0.7141825  0.66330304\n",
      "  0.54566313 0.80135906 0.21276668 0.61080782 0.83954622 0.90048075\n",
      "  0.48913344 0.80722778 0.53026195 0.80933927 0.72901388 0.72374559\n",
      "  0.52089973 0.62376078 0.74594514 0.76891229 0.65036426 0.25385649\n",
      "  0.62866199 0.79578799 0.55023483 0.60647202 0.74093325 0.4447103\n",
      "  0.         0.46113637 0.84310562 0.25518533 0.37897816 0.64468432\n",
      "  0.93758566 0.86806259 0.53564527 0.57500882 0.11118553 0.58076865\n",
      "  0.57332232 0.79797928 0.35596585 0.6147021  0.83346748 0.71073233\n",
      "  0.83543179 0.44353372 0.70676732 0.3629479  1.02892115 0.88897277\n",
      "  0.74673213 0.69398004 0.7513987  0.49840568 0.38986565 0.25078371\n",
      "  0.38351783 0.23005543 0.15966613 0.5907534  0.50382002 0.5962209\n",
      "  0.82366729 0.29315407 0.82654745 0.83536592 0.427642   0.24857135\n",
      "  0.7149258  0.10758906 0.57865041 0.66182706 0.49117175 0.18980207\n",
      "  0.44666293 0.65467142 0.42129849 0.10705665 0.28527848 0.7624038\n",
      "  0.23325437 0.52787237 0.20457871 0.52560818 0.79511275 1.01800247\n",
      "  0.61528253 0.47440474 0.60672705 0.07558758 0.62859195 0.80103758\n",
      "  0.87097828 0.52614108 0.83704075 0.61273076]\n",
      " [0.48326703 0.7026767  0.22926211 0.49307675 0.74227148 0.69473801\n",
      "  0.27206369 0.34588423 0.4800617  0.6078848  0.45326329 0.45742521\n",
      "  0.18427446 0.63310123 0.21061001 0.39097423 0.39290074 0.49816716\n",
      "  0.5263275  0.21808361 0.54635563 0.38151224 0.20638818 0.2961422\n",
      "  0.16756927 0.34584882 0.45861895 0.40066305 0.7738724  0.04792399\n",
      "  0.46113637 0.         0.55103026 0.57041997 0.32685224 0.63760847\n",
      "  0.51022971 0.70655713 0.30062218 0.19253853 0.51718057 0.47184868\n",
      "  0.68478358 0.54633046 0.12108547 0.57118996 0.40575529 0.72823417\n",
      "  0.63753428 0.0270938  0.44643836 0.43673776 0.71083358 0.73679377\n",
      "  0.82758664 0.31383955 0.59338594 0.32466746 0.20113118 0.48111265\n",
      "  0.20673028 0.55998987 0.48294388 0.14043588 0.21669267 0.71818082\n",
      "  0.49945007 0.18188638 0.367496   0.64124035 0.23824394 0.21336504\n",
      "  0.2648265  0.35539523 0.39581139 0.22916103 0.43588198 0.27571098\n",
      "  0.03718255 0.29562502 0.04428919 0.42123766 0.26964448 0.30191063\n",
      "  0.49674192 0.30133217 0.33173884 0.64836041 0.58516484 0.67778617\n",
      "  0.18207152 0.68612972 0.72404477 0.50678673 0.17746468 0.33992179\n",
      "  0.54760867 0.71998809 0.60157349 0.15809403]\n",
      " [0.41588615 0.32805664 0.32369871 0.94069218 0.51828638 0.50434639\n",
      "  0.30961649 0.60419456 0.70823046 0.44108669 0.20522715 0.39326981\n",
      "  0.72690508 0.20930522 0.74141081 0.74921918 0.16225939 0.14349253\n",
      "  0.44936639 0.34896042 0.16560279 0.22707086 0.41250855 0.80696611\n",
      "  0.50645572 0.41122123 0.34826846 0.24237305 0.53848388 0.51848926\n",
      "  0.84310562 0.55103026 0.         0.76870291 0.46971227 0.44077708\n",
      "  0.34020344 0.25674261 0.30955569 0.35944413 0.94240002 0.3210089\n",
      "  0.59647016 0.07734032 0.64640736 0.38712683 0.32284473 0.49937019\n",
      "  0.17549113 0.57667057 0.1369648  0.53883232 0.18648356 0.28538086\n",
      "  0.62421137 0.76314031 0.22732873 0.34557354 0.74968066 0.67737895\n",
      "  0.75441125 0.77819541 0.75279714 0.45585754 0.75746547 0.62109373\n",
      "  0.07209224 0.59451562 0.58179142 0.18234475 0.42073474 0.65207323\n",
      "  0.4166715  0.77293991 0.27366643 0.37792472 0.40126089 0.68071031\n",
      "  0.52665484 0.25845691 0.58429548 0.86621422 0.79164364 0.49201647\n",
      "  0.70655989 0.31656484 0.82228394 0.5978687  0.14532603 0.18872172\n",
      "  0.62412233 0.70884767 0.6180685  0.91476123 0.44308202 0.52991351\n",
      "  0.06382821 0.70361194 0.10678028 0.46150574]\n",
      " [0.3668168  0.64197457 0.62294415 0.38754481 0.49978838 0.45347395\n",
      "  0.52523492 0.91137975 0.09035928 0.42485225 0.82753894 0.93735961\n",
      "  0.66571614 0.67294974 0.70785905 0.95742286 0.6982912  0.63003997\n",
      "  0.35308622 0.65768408 0.63424184 0.766272   0.71113636 0.47472156\n",
      "  0.72319532 0.85002656 0.42691897 0.52886873 0.52215631 0.53526251\n",
      "  0.25518533 0.57041997 0.76870291 0.         0.32246212 0.45450773\n",
      "  0.95310421 0.72007087 0.49783789 0.60561065 0.35115588 0.4574634\n",
      "  0.34361158 0.70649167 0.50444113 0.44803866 0.85760628 0.5008468\n",
      "  0.70974173 0.56363366 0.63562761 0.22995644 0.95185767 0.73424523\n",
      "  0.51179308 0.86034712 0.6170335  0.44217584 0.58111299 0.09947885\n",
      "  0.57683133 0.02582556 0.10678176 0.66651358 0.68860928 0.36029198\n",
      "  0.77135446 0.39129632 0.92715443 0.70772079 0.42007916 0.38178906\n",
      "  0.77616499 0.31042933 0.49674899 0.71006395 0.36929697 0.32378538\n",
      "  0.54201318 0.65223902 0.54342626 0.35910992 0.4983796  0.84403639\n",
      "  0.07573444 0.48846176 0.43465578 0.29830806 0.68124883 0.95631911\n",
      "  0.74958669 0.22369582 0.37129981 0.3131001  0.70037621 0.88991634\n",
      "  0.81232285 0.27604337 0.73121728 0.6912108 ]\n",
      " [0.17503032 0.45553833 0.3056689  0.49115157 0.43229738 0.38157808\n",
      "  0.20279096 0.63100826 0.246849   0.30072319 0.50569607 0.61878629\n",
      "  0.48528045 0.4335927  0.52166798 0.70932749 0.37856147 0.34503299\n",
      "  0.20973143 0.34464335 0.36762834 0.44381039 0.40862896 0.41979678\n",
      "  0.44319374 0.5386903  0.18437973 0.22898921 0.46376542 0.28032461\n",
      "  0.37897816 0.32685224 0.46971227 0.32246212 0.         0.33406576\n",
      "  0.63103181 0.49890689 0.17664382 0.29387993 0.48438294 0.2118086\n",
      "  0.35821267 0.41994776 0.32835021 0.27883486 0.53718732 0.42097359\n",
      "  0.45874671 0.33376694 0.33277061 0.11848014 0.65618981 0.52286411\n",
      "  0.50769618 0.640688   0.37923772 0.12566053 0.44160248 0.22351037\n",
      "  0.44173063 0.32516846 0.2855067  0.37727575 0.51614612 0.3915127\n",
      "  0.46001898 0.21083279 0.63904333 0.45916585 0.10742887 0.25290555\n",
      "  0.47060971 0.3271433  0.20007233 0.40100896 0.13465757 0.24854593\n",
      "  0.2903894  0.33009785 0.32134896 0.42167103 0.42083638 0.54705154\n",
      "  0.25066437 0.1674136  0.41308024 0.32159685 0.41671017 0.65147059\n",
      "  0.50404778 0.37002278 0.39761831 0.4531779  0.40544939 0.59549366\n",
      "  0.50453811 0.39818447 0.45806284 0.40170942]\n",
      " [0.15934789 0.19435951 0.51498634 0.77636542 0.10617137 0.06834981\n",
      "  0.40087177 0.87902247 0.44105621 0.03467289 0.59553193 0.76820259\n",
      "  0.81070069 0.2642389  0.84408541 0.98833473 0.46985703 0.30741533\n",
      "  0.12909443 0.56166995 0.27518728 0.56714698 0.64241293 0.74824946\n",
      "  0.70938715 0.73035088 0.1824384  0.29191846 0.13723459 0.5897384\n",
      "  0.64468432 0.63760847 0.44077708 0.45450773 0.33406576 0.\n",
      "  0.74352766 0.28659882 0.36078068 0.52659953 0.75577447 0.17964972\n",
      "  0.16469073 0.36359539 0.66026938 0.07126701 0.6825871  0.09080893\n",
      "  0.30806211 0.65074161 0.35479812 0.28543426 0.5902653  0.29279285\n",
      "  0.20555063 0.94344033 0.22061578 0.31756564 0.77481933 0.40125155\n",
      "  0.77523979 0.47485376 0.49763521 0.6395269  0.84254086 0.1837118\n",
      "  0.48168027 0.54489504 0.87450601 0.30335873 0.39986397 0.58468711\n",
      "  0.68812724 0.63007385 0.27438973 0.61971053 0.20415933 0.56938913\n",
      "  0.60056434 0.49353721 0.64254445 0.71806687 0.75244187 0.77473272\n",
      "  0.42617995 0.35554187 0.73458912 0.18343226 0.30496511 0.61754057\n",
      "  0.79787193 0.30327969 0.17920146 0.71888852 0.65449359 0.82342944\n",
      "  0.50209533 0.28138239 0.35767082 0.66006153]\n",
      " [0.66505793 0.66465588 0.33661801 0.99542499 0.83540945 0.81133395\n",
      "  0.42852158 0.35549805 0.87294806 0.73395154 0.14809258 0.08283559\n",
      "  0.62947216 0.54680032 0.62398334 0.5068639  0.27779364 0.44037293\n",
      "  0.7095411  0.31386777 0.48480745 0.18972791 0.30408202 0.80637169\n",
      "  0.37228863 0.18316543 0.59895164 0.46843442 0.85957225 0.50622518\n",
      "  0.93758566 0.51022971 0.34020344 0.95310421 0.63103181 0.74352766\n",
      "  0.         0.59684036 0.45972309 0.36300862 1.01322512 0.58267275\n",
      "  0.87942101 0.40748984 0.63099802 0.67820156 0.10528535 0.81645537\n",
      "  0.51550983 0.53608493 0.38873028 0.73769888 0.35657953 0.6249903\n",
      "  0.94221547 0.57169796 0.55374755 0.51907327 0.69589719 0.85374121\n",
      "  0.70299728 0.95410518 0.90149462 0.37040676 0.65151998 0.90895982\n",
      "  0.27545008 0.64610119 0.3194195  0.52233939 0.53553963 0.69741526\n",
      "  0.25293286 0.84155584 0.4967411  0.28251184 0.63134245 0.74929896\n",
      "  0.50814851 0.30093578 0.55431947 0.92083998 0.77931886 0.27110171\n",
      "  0.87980556 0.46911198 0.84047956 0.86779301 0.48008513 0.29647975\n",
      "  0.47347182 0.96169803 0.90854824 0.99623725 0.3351745  0.28127022\n",
      "  0.28049468 0.97036636 0.44695058 0.3565273 ]\n",
      " [0.36035715 0.10075286 0.50701397 0.9881996  0.32048198 0.32911506\n",
      "  0.43458011 0.8391739  0.68670131 0.30630545 0.45984483 0.6485743\n",
      "  0.89080026 0.07346194 0.91428073 0.97589802 0.37913978 0.21290809\n",
      "  0.36702684 0.54592427 0.16101442 0.46779507 0.62272599 0.90581548\n",
      "  0.71124561 0.65425868 0.31819859 0.30873164 0.33016254 0.66402616\n",
      "  0.86806259 0.70655713 0.25674261 0.72007087 0.49890689 0.28659882\n",
      "  0.59684036 0.         0.40981188 0.53541945 0.97736398 0.28834537\n",
      "  0.44925099 0.19819802 0.77323028 0.27260984 0.5741245  0.30400339\n",
      "  0.08368926 0.72805745 0.27345393 0.51169823 0.3387286  0.03161613\n",
      "  0.41531229 0.9688677  0.12057528 0.40762594 0.88734785 0.64873437\n",
      "  0.89022994 0.73699789 0.74067555 0.64912267 0.92314756 0.46320131\n",
      "  0.325043   0.68548483 0.82169214 0.07731819 0.50560035 0.73816026\n",
      "  0.64376114 0.82593763 0.32183821 0.59063292 0.37689125 0.74556725\n",
      "  0.67418532 0.45428708 0.72862784 0.92021824 0.89969557 0.72627867\n",
      "  0.67688773 0.41134291 0.90685673 0.46985575 0.13169807 0.38233996\n",
      "  0.82252828 0.58974248 0.45644875 0.94359962 0.64755525 0.76877464\n",
      "  0.31719488 0.56695934 0.15036667 0.66170313]\n",
      " [0.22953479 0.40216934 0.15951017 0.6311832  0.46679036 0.4253298\n",
      "  0.04087564 0.52057134 0.42345678 0.33679916 0.3297126  0.45613507\n",
      "  0.48430954 0.33681129 0.51095705 0.62776    0.20204832 0.21151489\n",
      "  0.27743229 0.2057003  0.25294504 0.27050502 0.28417414 0.50864734\n",
      "  0.34874443 0.39081191 0.17952536 0.10117794 0.49737132 0.25596\n",
      "  0.53564527 0.30062218 0.30955569 0.49783789 0.17664382 0.36078068\n",
      "  0.45972309 0.40981188 0.         0.16624589 0.63315214 0.18265004\n",
      "  0.45283295 0.27576152 0.36439607 0.29000392 0.37148452 0.45045341\n",
      "  0.34727394 0.32030962 0.17652656 0.27798766 0.49402274 0.43919119\n",
      "  0.56360117 0.58954624 0.29378084 0.06012729 0.47771867 0.39954633\n",
      "  0.48076507 0.50153367 0.46033308 0.27899779 0.51683855 0.48558279\n",
      "  0.28870222 0.29013274 0.51916048 0.34999836 0.1114076  0.34688633\n",
      "  0.33575679 0.46340241 0.09601676 0.26511403 0.18610793 0.371545\n",
      "  0.26643594 0.161726   0.31942024 0.55687112 0.49794453 0.42051246\n",
      "  0.42709386 0.00942672 0.51844703 0.43002291 0.29679295 0.4826571\n",
      "  0.44210242 0.50975851 0.48819845 0.60620143 0.29405821 0.4698403\n",
      "  0.33545993 0.52565477 0.32466496 0.29928491]\n",
      " [0.39326242 0.54813565 0.03694121 0.64022644 0.63241229 0.59152453\n",
      "  0.12576175 0.35478333 0.52058656 0.50303289 0.27369331 0.33407499\n",
      "  0.36814698 0.46269104 0.3853029  0.46339046 0.20036305 0.32266254\n",
      "  0.44102128 0.05214404 0.37475557 0.2007589  0.11961961 0.46990641\n",
      "  0.18500327 0.24536863 0.34577013 0.24759155 0.66275035 0.16583083\n",
      "  0.57500882 0.19253853 0.35944413 0.60561065 0.29387993 0.52659953\n",
      "  0.36300862 0.53541945 0.16624589 0.         0.65439556 0.347526\n",
      "  0.61520009 0.36095808 0.29815198 0.45558205 0.26007273 0.61579365\n",
      "  0.4603947  0.21885334 0.26493687 0.41105512 0.51900621 0.56665699\n",
      "  0.72983692 0.43597385 0.43105745 0.21793668 0.39314492 0.50664179\n",
      "  0.39841439 0.60324276 0.54368284 0.11688627 0.39921129 0.64836169\n",
      "  0.30695037 0.28562199 0.3552815  0.46487464 0.18769616 0.33958258\n",
      "  0.17759418 0.48128709 0.25540252 0.10723353 0.34775169 0.38785526\n",
      "  0.17225124 0.10317444 0.22898247 0.56470278 0.44884631 0.25836086\n",
      "  0.53036005 0.17237722 0.49565027 0.58903717 0.40779045 0.48821775\n",
      "  0.28838377 0.65795578 0.6515896  0.63541134 0.12789944 0.30767973\n",
      "  0.35526028 0.67959214 0.41732859 0.1346692 ]\n",
      " [0.62294359 0.92018639 0.68617043 0.04783731 0.82408848 0.77348222\n",
      "  0.63929443 0.84341049 0.3209596  0.72194189 0.92469287 0.96972942\n",
      "  0.50604654 0.91549152 0.5441722  0.83162348 0.82071631 0.82753014\n",
      "  0.63206977 0.70047488 0.85201101 0.85274939 0.71714742 0.25594611\n",
      "  0.68291657 0.86099649 0.65922809 0.70935819 0.85044043 0.50972426\n",
      "  0.11118553 0.51718057 0.94240002 0.35115588 0.48438294 0.75577447\n",
      "  1.01322512 0.97736398 0.63315214 0.65439556 0.         0.68948378\n",
      "  0.68061877 0.90068484 0.40106592 0.72572987 0.90812939 0.82101711\n",
      "  0.94261529 0.49578247 0.80708562 0.47402766 1.12714139 0.99875346\n",
      "  0.85350547 0.70860506 0.8599525  0.60016237 0.40323323 0.35984064\n",
      "  0.3958069  0.32534535 0.26579068 0.65408704 0.51404875 0.70228101\n",
      "  0.91875317 0.36880609 0.8723078  0.94277512 0.52286878 0.31583124\n",
      "  0.77959864 0.17374665 0.68262653 0.73266222 0.60063829 0.26825232\n",
      "  0.50961222 0.74096391 0.4742071  0.09688854 0.29090006 0.81787501\n",
      "  0.3402915  0.62589939 0.2049369  0.63307767 0.90108845 1.11311169\n",
      "  0.65122884 0.57434116 0.71295218 0.03841325 0.6920244  0.8525215\n",
      "  0.96684843 0.62658158 0.94161183 0.67415569]\n",
      " [0.09497566 0.24605171 0.33533735 0.69985424 0.28501827 0.2461651\n",
      "  0.22205021 0.69937556 0.40954331 0.15933245 0.43692315 0.5989158\n",
      "  0.65128973 0.2266781  0.68169615 0.81024403 0.30494005 0.17778343\n",
      "  0.13088698 0.38202486 0.17680725 0.39882096 0.46278619 0.62706401\n",
      "  0.53123612 0.55358135 0.0313317  0.1165357  0.31523165 0.42471094\n",
      "  0.58076865 0.47184868 0.3210089  0.4574634  0.2118086  0.17964972\n",
      "  0.58267275 0.28834537 0.18265004 0.347526   0.68948378 0.\n",
      "  0.29678467 0.2522107  0.51231444 0.10839238 0.51259898 0.26827301\n",
      "  0.25761945 0.48795977 0.20256877 0.23301971 0.49807449 0.31136985\n",
      "  0.38459987 0.77047034 0.1706421  0.14721138 0.62836777 0.37404341\n",
      "  0.6299716  0.47024628 0.46074457 0.46158291 0.68368477 0.32676986\n",
      "  0.34133455 0.40988303 0.6950474  0.25675113 0.24105789 0.45875778\n",
      "  0.50888125 0.53808439 0.09517431 0.44016066 0.09158084 0.46008714\n",
      "  0.43555304 0.31615266 0.48275592 0.63212736 0.62464806 0.59534891\n",
      "  0.40319389 0.17824395 0.62369239 0.28703557 0.22432802 0.50944978\n",
      "  0.62359472 0.39096294 0.32696065 0.65617914 0.47533564 0.6441662\n",
      "  0.37353227 0.39174084 0.27375431 0.48153676]\n",
      " [0.22343397 0.35298227 0.61229235 0.70953072 0.16240069 0.12642663\n",
      "  0.49337987 0.96896304 0.36055716 0.1559594  0.73325922 0.89431089\n",
      "  0.84017593 0.42876231 0.87789669 1.06147233 0.60172249 0.45702165\n",
      "  0.17565418 0.65820409 0.43237    0.69508827 0.73475682 0.72829374\n",
      "  0.78747667 0.84166204 0.2829786  0.41226605 0.180566   0.63782298\n",
      "  0.57332232 0.68478358 0.59647016 0.34361158 0.35821267 0.16469073\n",
      "  0.87942101 0.44925099 0.45283295 0.61520009 0.68061877 0.29678467\n",
      "  0.         0.52030539 0.67811644 0.20938667 0.80792375 0.16839884\n",
      "  0.47244667 0.69193797 0.4953882  0.26078065 0.75311053 0.45260508\n",
      "  0.17362245 0.99847677 0.3832969  0.39735787 0.78551167 0.32319552\n",
      "  0.78425987 0.36779493 0.41485176 0.71834349 0.87012884 0.03359753\n",
      "  0.63010574 0.55366906 0.97043932 0.46786273 0.45293811 0.57975909\n",
      "  0.78851319 0.58599785 0.38654868 0.71769644 0.2675259  0.54753111\n",
      "  0.64807589 0.60569971 0.67904214 0.66285231 0.74000683 0.87265884\n",
      "  0.34042913 0.44525704 0.70387916 0.04777742 0.46639275 0.77779472\n",
      "  0.85956355 0.14860058 0.03964484 0.64230829 0.74020087 0.92204525\n",
      "  0.65560409 0.11787896 0.51965251 0.7413286 ]\n",
      " [0.34700544 0.25716614 0.32821122 0.90241355 0.44134536 0.42700717\n",
      "  0.28569222 0.64294791 0.65080632 0.3646218  0.26497339 0.45324556\n",
      "  0.72760728 0.13979457 0.74619994 0.78256299 0.18383582 0.07670364\n",
      "  0.37760367 0.36164982 0.08843136 0.26965162 0.43390417 0.78345024\n",
      "  0.52553689 0.45621619 0.28116848 0.19152063 0.46202579 0.50904172\n",
      "  0.79797928 0.54633046 0.07734032 0.70649167 0.41994776 0.36359539\n",
      "  0.40748984 0.19819802 0.27576152 0.36095808 0.90068484 0.2522107\n",
      "  0.52030539 0.         0.63126291 0.31120598 0.37667377 0.42239877\n",
      "  0.11455517 0.57052715 0.10161359 0.47777137 0.24598983 0.22904168\n",
      "  0.54749383 0.7842163  0.15080499 0.30056654 0.73975321 0.61811834\n",
      "  0.74380466 0.71748358 0.69789251 0.46807672 0.75916599 0.54444636\n",
      "  0.13204028 0.56585234 0.62431296 0.12088268 0.3861034  0.62264361\n",
      "  0.44909517 0.73480627 0.21994675 0.40049199 0.33723327 0.64500281\n",
      "  0.51817661 0.26838871 0.57530098 0.82922118 0.77115079 0.52996121\n",
      "  0.64742869 0.28111193 0.79420678 0.52313008 0.07262786 0.25966362\n",
      "  0.64058047 0.63570055 0.54124462 0.87121905 0.46139205 0.57151639\n",
      "  0.14014036 0.62873301 0.05676028 0.47758299]\n",
      " [0.50104662 0.75496622 0.33481881 0.37430767 0.76036534 0.70988027\n",
      "  0.3462407  0.44606064 0.41613942 0.62772607 0.56799336 0.57838281\n",
      "  0.16589316 0.70066718 0.20678963 0.45988935 0.49471738 0.57412673\n",
      "  0.53802501 0.33213159 0.6173301  0.49536961 0.32740225 0.17569466\n",
      "  0.28240567 0.46637082 0.49274106 0.46481138 0.79190278 0.13243474\n",
      "  0.35596585 0.12108547 0.64640736 0.50444113 0.32835021 0.66026938\n",
      "  0.63099802 0.77323028 0.36439607 0.29815198 0.40106592 0.51231444\n",
      "  0.67811644 0.63126291 0.         0.60001191 0.52628513 0.74856294\n",
      "  0.7114748  0.09660161 0.52967196 0.41839412 0.81510872 0.80195052\n",
      "  0.83490783 0.35609974 0.65507971 0.36986547 0.11605336 0.42643438\n",
      "  0.11786207 0.48975482 0.40649757 0.26152132 0.19358818 0.71038023\n",
      "  0.60137257 0.12557763 0.47282918 0.71432058 0.27199764 0.12312327\n",
      "  0.38560252 0.24839284 0.45233683 0.34918252 0.45657358 0.1849598\n",
      "  0.12708828 0.39984648 0.07680815 0.30434142 0.15133584 0.41725795\n",
      "  0.43593329 0.36215615 0.2108152  0.63668121 0.66047461 0.78621971\n",
      "  0.25980198 0.65326905 0.71773904 0.39391529 0.29844947 0.45148212\n",
      "  0.65040708 0.6934241  0.68409209 0.27871657]\n",
      " [0.10643287 0.19680407 0.44372388 0.74258105 0.1768373  0.13844144\n",
      "  0.32991175 0.80776773 0.42062015 0.0558613  0.53060626 0.70013981\n",
      "  0.74677735 0.2331898  0.77914414 0.91773658 0.40259776 0.24808727\n",
      "  0.09642888 0.49040488 0.22371815 0.49913233 0.5711738  0.69782545\n",
      "  0.6387336  0.65989009 0.11315769 0.22137133 0.20737811 0.52347038\n",
      "  0.6147021  0.57118996 0.38712683 0.44803866 0.27883486 0.07126701\n",
      "  0.67820156 0.27260984 0.29000392 0.45558205 0.72572987 0.10839238\n",
      "  0.20938667 0.31120598 0.60001191 0.         0.61421788 0.16048799\n",
      "  0.27457429 0.58536241 0.29025314 0.25178283 0.54776851 0.28624011\n",
      "  0.27655763 0.87474707 0.18135032 0.24868083 0.71543149 0.38156536\n",
      "  0.71627417 0.46570546 0.47616555 0.56893446 0.7788616  0.23507137\n",
      "  0.42192169 0.48848609 0.80327013 0.27107396 0.33474874 0.53167868\n",
      "  0.61694019 0.58953281 0.20316076 0.54845295 0.14463153 0.52209195\n",
      "  0.5343255  0.42281204 0.57816823 0.68039788 0.69965265 0.7035135\n",
      "  0.40874991 0.28499235 0.68783313 0.21350089 0.26066248 0.56965076\n",
      "  0.72864434 0.33005415 0.23302861 0.68995517 0.58345647 0.75224218\n",
      "  0.44629208 0.31841189 0.31416408 0.58926294]\n",
      " [0.58822165 0.62881765 0.23614485 0.890149   0.77999833 0.75093297\n",
      "  0.33694309 0.29712899 0.77550943 0.66910476 0.11956509 0.08638729\n",
      "  0.53219587 0.51514451 0.52990296 0.44903522 0.21392618 0.39197546\n",
      "  0.63441942 0.20985395 0.44204471 0.11571834 0.20027756 0.70181956\n",
      "  0.27478306 0.10214563 0.52501665 0.3961512  0.8062631  0.40095832\n",
      "  0.83346748 0.40575529 0.32284473 0.85760628 0.53718732 0.6825871\n",
      "  0.10528535 0.5741245  0.37148452 0.26007273 0.90812939 0.51259898\n",
      "  0.80792375 0.37667377 0.52628513 0.61421788 0.         0.76134436\n",
      "  0.4905344  0.4318397  0.33324117 0.64766515 0.39312389 0.60432232\n",
      "  0.885807   0.49493989 0.51160888 0.43158529 0.59417339 0.75812806\n",
      "  0.60111929 0.85738042 0.80186536 0.26657374 0.55589713 0.83879275\n",
      "  0.25114001 0.54144779 0.26799324 0.49707115 0.43797267 0.59236198\n",
      "  0.15477349 0.73671338 0.42145248 0.17738182 0.55085115 0.64477927\n",
      "  0.4029578  0.20979038 0.44971959 0.81559667 0.67519168 0.19451978\n",
      "  0.78344583 0.38066985 0.73543094 0.79217311 0.4477619  0.33966025\n",
      "  0.38291244 0.87982631 0.83938277 0.89144013 0.23238792 0.21993698\n",
      "  0.27435971 0.8922877  0.42491992 0.25412888]\n",
      " [0.2477959  0.20333402 0.60295515 0.84486463 0.0190223  0.04778795\n",
      "  0.49023115 0.96696518 0.50134837 0.12109857 0.66848723 0.84611059\n",
      "  0.90051918 0.30327716 0.93425942 1.07820721 0.54751107 0.37626794\n",
      "  0.21202024 0.64952664 0.33611844 0.64562604 0.73062647 0.83029487\n",
      "  0.79919633 0.81393214 0.27296289 0.3770543  0.0469595  0.6803456\n",
      "  0.71073233 0.72823417 0.49937019 0.5008468  0.42097359 0.09080893\n",
      "  0.81645537 0.30400339 0.45045341 0.61579365 0.82101711 0.26827301\n",
      "  0.16839884 0.42239877 0.74856294 0.16048799 0.76134436 0.\n",
      "  0.34688718 0.74111403 0.42944223 0.36045829 0.6316634  0.30059951\n",
      "  0.12589016 1.03422745 0.27220999 0.40827347 0.86251262 0.46181663\n",
      "  0.86269997 0.52345319 0.55777406 0.72941311 0.93224899 0.17066504\n",
      "  0.54785497 0.63138345 0.96137066 0.34107334 0.49031446 0.66901067\n",
      "  0.77467042 0.70518845 0.36192387 0.70703007 0.29376903 0.64996104\n",
      "  0.69116264 0.57836743 0.73261093 0.79027664 0.83611258 0.86147803\n",
      "  0.48404836 0.44548032 0.81399707 0.2060524  0.35639161 0.66573098\n",
      "  0.88856504 0.3169225  0.16171259 0.78337149 0.74360768 0.90988117\n",
      "  0.56253852 0.28165217 0.40592799 0.74966543]\n",
      " [0.34311539 0.15682004 0.43033481 0.94978396 0.36501123 0.36239131\n",
      "  0.36740014 0.75651089 0.66668684 0.3194665  0.3768125  0.56553957\n",
      "  0.821214   0.04412667 0.84283578 0.89448681 0.29655869 0.13937755\n",
      "  0.36051901 0.46749401 0.09488831 0.3842006  0.54282582 0.85232948\n",
      "  0.63264849 0.57073298 0.28893107 0.24853846 0.38044326 0.59677146\n",
      "  0.83543179 0.63753428 0.17549113 0.70974173 0.45874671 0.30806211\n",
      "  0.51550983 0.08368926 0.34727394 0.4603947  0.94261529 0.25761945\n",
      "  0.47244667 0.11455517 0.7114748  0.27457429 0.4905344  0.34688718\n",
      "  0.         0.66014337 0.19577874 0.49001082 0.28502546 0.11450931\n",
      "  0.46702733 0.89096857 0.09387043 0.35466761 0.82384493 0.63049624\n",
      "  0.82719435 0.72432391 0.71832477 0.57214631 0.85332486 0.49136947\n",
      "  0.24215348 0.63182893 0.73851147 0.00687213 0.45004951 0.68648812\n",
      "  0.56167329 0.78451847 0.26761202 0.51019701 0.3491973  0.69984009\n",
      "  0.6065996  0.37496768 0.66231304 0.8793732  0.84373482 0.64355357\n",
      "  0.65945021 0.35016975 0.85724482 0.48528593 0.05265202 0.31991342\n",
      "  0.74553456 0.60372496 0.48615968 0.91044629 0.56868229 0.68564527\n",
      "  0.23761784 0.58772215 0.06881718 0.58361613]\n",
      " [0.49484056 0.72164841 0.25567466 0.47037582 0.75472946 0.70649055\n",
      "  0.29353784 0.3594363  0.47341208 0.62036175 0.48034835 0.48203716\n",
      "  0.16421782 0.65464593 0.19390047 0.39436372 0.41915029 0.52086691\n",
      "  0.53683228 0.24516325 0.56832181 0.40860561 0.23203667 0.27049237\n",
      "  0.18720374 0.36980507 0.47340849 0.42099319 0.78637976 0.06435414\n",
      "  0.44353372 0.0270938  0.57667057 0.56363366 0.33376694 0.65074161\n",
      "  0.53608493 0.72805745 0.32030962 0.21885334 0.49578247 0.48795977\n",
      "  0.69193797 0.57052715 0.09660161 0.58536241 0.4318397  0.74111403\n",
      "  0.66014337 0.         0.47020196 0.44029198 0.7374907  0.75807653\n",
      "  0.83800094 0.30929327 0.61384128 0.34083465 0.17440413 0.47667001\n",
      "  0.17988209 0.55211764 0.4732309  0.165807   0.19676263 0.72517632\n",
      "  0.52580156 0.17260852 0.38316501 0.66371476 0.25089793 0.19777153\n",
      "  0.28914987 0.33691654 0.41468686 0.25562732 0.447805   0.26099495\n",
      "  0.05392845 0.32201411 0.02224651 0.39941713 0.24335646 0.32214135\n",
      "  0.49091954 0.32044612 0.30735711 0.65432925 0.60791857 0.70472927\n",
      "  0.18596525 0.68750275 0.73137538 0.48667785 0.20225851 0.35827397\n",
      "  0.57407538 0.72286809 0.62547985 0.18224226]\n",
      " [0.29419436 0.30406935 0.23456025 0.80674418 0.44826711 0.42263898\n",
      "  0.18415618 0.57159768 0.57260543 0.34611203 0.24075275 0.41709924\n",
      "  0.62880675 0.2027309  0.64884866 0.7041897  0.11984822 0.06313649\n",
      "  0.33340103 0.27249227 0.11725434 0.2179178  0.34962899 0.68248652\n",
      "  0.43781465 0.39642808 0.22532443 0.10687297 0.47372589 0.40818551\n",
      "  0.70676732 0.44643836 0.1369648  0.63562761 0.33277061 0.35479812\n",
      "  0.38873028 0.27345393 0.17652656 0.26493687 0.80708562 0.20256877\n",
      "  0.4953882  0.10161359 0.52967196 0.29025314 0.33324117 0.42944223\n",
      "  0.19577874 0.47020196 0.         0.40577056 0.32344695 0.30502572\n",
      "  0.55473849 0.6956943  0.18370048 0.2087317  0.63851298 0.54266096\n",
      "  0.64248285 0.64408353 0.61633969 0.37644869 0.66062499 0.52351569\n",
      "  0.13969631 0.46582321 0.5576046  0.2005156  0.28779052 0.52292128\n",
      "  0.37472283 0.63892186 0.13888957 0.3181     0.27246341 0.5477652\n",
      "  0.41748278 0.18106292 0.47438826 0.73281409 0.66977261 0.45960384\n",
      "  0.57170894 0.18266237 0.69426804 0.48905234 0.14337751 0.32117423\n",
      "  0.549877   0.59308077 0.52234504 0.77885934 0.37410158 0.50459276\n",
      "  0.17692738 0.5941316  0.15532912 0.38839298]\n",
      " [0.1515671  0.44728109 0.42050002 0.4920595  0.36754453 0.31522788\n",
      "  0.3107247  0.74915745 0.17667626 0.2509154  0.60550443 0.73091965\n",
      "  0.58200648 0.45661859 0.62073197 0.82391289 0.4736604  0.40112551\n",
      "  0.15854324 0.46112006 0.40894896 0.54844003 0.52682717 0.4732947\n",
      "  0.56090927 0.65487883 0.20176082 0.29912059 0.39727546 0.39190235\n",
      "  0.3629479  0.43673776 0.53883232 0.22995644 0.11848014 0.28543426\n",
      "  0.73769888 0.51169823 0.27798766 0.41105512 0.47402766 0.23301971\n",
      "  0.26078065 0.47777137 0.41839412 0.25178283 0.64766515 0.36045829\n",
      "  0.49001082 0.44029198 0.40577056 0.         0.72251956 0.53033767\n",
      "  0.42501334 0.74946378 0.40007838 0.21913513 0.52475239 0.14117778\n",
      "  0.52347926 0.23975984 0.22921133 0.49553066 0.61131204 0.2924611\n",
      "  0.54221627 0.29335013 0.75750605 0.48877261 0.2258258  0.31951151\n",
      "  0.5883049  0.34521293 0.26694391 0.5182886  0.1420748  0.2919042\n",
      "  0.40140158 0.43831073 0.42534651 0.43264089 0.48233428 0.66542269\n",
      "  0.17042854 0.26859124 0.45418147 0.21832481 0.45707938 0.72636279\n",
      "  0.61691526 0.25230745 0.30023519 0.43817243 0.52392814 0.71392801\n",
      "  0.58257536 0.283345   0.50533538 0.52002791]\n",
      " [0.59269307 0.43504039 0.48207136 1.12405465 0.64961402 0.64701318\n",
      "  0.49021656 0.69013612 0.89365535 0.59773712 0.28356185 0.43337092\n",
      "  0.87677379 0.32900859 0.88548227 0.84215826 0.32042799 0.32195273\n",
      "  0.62152622 0.49621732 0.3265262  0.34198441 0.54312657 0.98145649\n",
      "  0.63573722 0.49477834 0.52715831 0.42842182 0.66371125 0.68389458\n",
      "  1.02892115 0.71083358 0.18648356 0.95185767 0.65618981 0.5902653\n",
      "  0.35657953 0.3387286  0.49402274 0.51900621 1.12714139 0.49807449\n",
      "  0.75311053 0.24598983 0.81510872 0.54776851 0.39312389 0.6316634\n",
      "  0.28502546 0.7374907  0.32344695 0.72251956 0.         0.35581078\n",
      "  0.75006455 0.88048594 0.36989244 0.53196546 0.91189481 0.86208142\n",
      "  0.917299   0.96225155 0.93889434 0.59779963 0.90550246 0.77397006\n",
      "  0.21415926 0.77405091 0.65960549 0.29067132 0.60448011 0.83168408\n",
      "  0.5275466  0.95658261 0.4593391  0.50907117 0.58285686 0.86355072\n",
      "  0.69093464 0.41598934 0.74795916 1.04912754 0.96372698 0.58598085\n",
      "  0.89133889 0.50143065 1.00009953 0.76126692 0.28720384 0.06197575\n",
      "  0.75327935 0.87679059 0.76932281 1.10011245 0.57672523 0.61291696\n",
      "  0.16490541 0.86584769 0.23372359 0.59759295]\n",
      " [0.37877166 0.09964226 0.53843666 1.01065415 0.3160339  0.32964978\n",
      "  0.46474063 0.87058897 0.7041317  0.31531036 0.48937744 0.67803047\n",
      "  0.92106364 0.10414584 0.94487139 1.00748963 0.41054668 0.24429128\n",
      "  0.38200491 0.57747749 0.1920234  0.49869312 0.65433742 0.93246134\n",
      "  0.7427956  0.68524106 0.34048208 0.33802065 0.32276774 0.69396056\n",
      "  0.88897277 0.73679377 0.28538086 0.73424523 0.52286411 0.29279285\n",
      "  0.6249903  0.03161613 0.43919119 0.56665699 0.99875346 0.31136985\n",
      "  0.45260508 0.22904168 0.80195052 0.28624011 0.60432232 0.30059951\n",
      "  0.11450931 0.75807653 0.30502572 0.53033767 0.35581078 0.\n",
      "  0.40630967 1.0003477  0.14738797 0.43505371 0.91637723 0.66572271\n",
      "  0.91915538 0.75190406 0.75869369 0.68054499 0.95344476 0.464416\n",
      "  0.35456522 0.71241647 0.85292334 0.10833303 0.53330636 0.7645281\n",
      "  0.67527879 0.84945424 0.34993476 0.62224877 0.39817602 0.77038336\n",
      "  0.70417531 0.48588984 0.75833655 0.94344843 0.92696324 0.75767412\n",
      "  0.69352745 0.44045893 0.93250146 0.47607797 0.16327217 0.40236764\n",
      "  0.85393057 0.59576644 0.45707655 0.96455602 0.67912598 0.80002923\n",
      "  0.34477475 0.57048001 0.17974473 0.69322082]\n",
      " [0.34510029 0.31572167 0.71965435 0.8829904  0.10688308 0.13851244\n",
      "  0.60414048 1.08343491 0.53400414 0.22680406 0.794205   0.97089823\n",
      "  0.99287954 0.42425638 1.02872035 1.18934755 0.67220572 0.50212676\n",
      "  0.30127668 0.76637517 0.46173971 0.77012546 0.8467376  0.89733783\n",
      "  0.91095811 0.93574689 0.38408315 0.49743258 0.08659343 0.77976188\n",
      "  0.74673213 0.82758664 0.62421137 0.51179308 0.50769618 0.20555063\n",
      "  0.94221547 0.41531229 0.56360117 0.72983692 0.85350547 0.38459987\n",
      "  0.17362245 0.54749383 0.83490783 0.27655763 0.885807   0.12589016\n",
      "  0.46702733 0.83800094 0.55473849 0.42501334 0.75006455 0.40630967\n",
      "  0.         1.1382122  0.3968827  0.51642515 0.94574835 0.49680634\n",
      "  0.94510194 0.53673626 0.58790465 0.84100779 1.02383539 0.15174358\n",
      "  0.67365282 0.71289656 1.07963936 0.46089071 0.58988247 0.74389352\n",
      "  0.89344463 0.75852216 0.47964391 0.82471876 0.39278503 0.71597481\n",
      "  0.79041562 0.69907149 0.82740489 0.83637141 0.90729121 0.97994813\n",
      "  0.5136278  0.5577648  0.8749365  0.22139889 0.48030713 0.78690311\n",
      "  0.99466534 0.29710652 0.14086382 0.81514273 0.85765195 1.02874093\n",
      "  0.68759651 0.24881046 0.52859458 0.86224312]\n",
      " [0.79311866 0.98391776 0.46206089 0.66934273 1.04921361 1.00336004\n",
      "  0.55312585 0.22868399 0.77154707 0.91539196 0.59692632 0.49157323\n",
      "  0.20496074 0.89693388 0.16478962 0.13072103 0.60378619 0.75613464\n",
      "  0.83754962 0.42348474 0.80924704 0.54373706 0.35122346 0.45281586\n",
      "  0.25868426 0.39429697 0.7616195  0.68147145 1.08057759 0.3606611\n",
      "  0.69398004 0.31383955 0.76314031 0.86034712 0.640688   0.94344033\n",
      "  0.57169796 0.9688677  0.58954624 0.43597385 0.70860506 0.77047034\n",
      "  0.99847677 0.7842163  0.35609974 0.87474707 0.49493989 1.03422745\n",
      "  0.89096857 0.30929327 0.6956943  0.74946378 0.88048594 1.0003477\n",
      "  1.1382122  0.         0.86699123 0.62609825 0.3064842  0.77952075\n",
      "  0.31357834 0.84585455 0.7623516  0.32010409 0.19464268 1.03191094\n",
      "  0.69635871 0.47297749 0.26934443 0.89596461 0.54865979 0.47917314\n",
      "  0.35325422 0.58922071 0.68474004 0.38551014 0.74544466 0.54004103\n",
      "  0.35040761 0.51634269 0.32550419 0.61631106 0.41798018 0.30212313\n",
      "  0.79080517 0.59286149 0.50433168 0.96219036 0.83891942 0.83143309\n",
      "  0.14793217 0.99647137 1.03766566 0.71360988 0.32282754 0.29308168\n",
      "  0.73642307 1.03216134 0.84084452 0.30735578]\n",
      " [0.25111687 0.12053487 0.40610274 0.86954838 0.29107898 0.28013546\n",
      "  0.32181845 0.75447468 0.57654228 0.22843341 0.40771822 0.59274356\n",
      "  0.77752704 0.05654029 0.80279194 0.88411088 0.30171646 0.12112859\n",
      "  0.26677007 0.44833312 0.06965483 0.39812334 0.52817268 0.78539264\n",
      "  0.61232521 0.57973492 0.20141054 0.1928481  0.31124769 0.54953871\n",
      "  0.7513987  0.59338594 0.22732873 0.6170335  0.37923772 0.22061578\n",
      "  0.55374755 0.12057528 0.29378084 0.43105745 0.8599525  0.1706421\n",
      "  0.3832969  0.15080499 0.65507971 0.18135032 0.51160888 0.27220999\n",
      "  0.09387043 0.61384128 0.18370048 0.40007838 0.36989244 0.14738797\n",
      "  0.3968827  0.86699123 0.         0.28766709 0.76983674 0.53969255\n",
      "  0.77248057 0.63212701 0.6291325  0.54714071 0.81001119 0.40421609\n",
      "  0.27988677 0.56518347 0.74118778 0.09109232 0.38592982 0.6176427\n",
      "  0.55746534 0.70638102 0.20278806 0.49818862 0.26127955 0.62522361\n",
      "  0.55991848 0.36076943 0.61318917 0.80085961 0.77962262 0.6428875\n",
      "  0.56844424 0.29447076 0.78628889 0.39349555 0.08500681 0.39744466\n",
      "  0.71943401 0.51119013 0.39981357 0.82678878 0.54987579 0.68819914\n",
      "  0.29077166 0.49701664 0.13710219 0.56198719]\n",
      " [0.17552873 0.38524278 0.21618276 0.60219057 0.42358997 0.37927967\n",
      "  0.09795461 0.57237417 0.37104108 0.29067848 0.38668257 0.51625977\n",
      "  0.50440764 0.33691104 0.53450528 0.67294974 0.25613354 0.22860563\n",
      "  0.22317039 0.26140385 0.26016863 0.32954437 0.33742143 0.49872714\n",
      "  0.39492766 0.44954102 0.1355297  0.10981043 0.45479568 0.27750028\n",
      "  0.49840568 0.32466746 0.34557354 0.44217584 0.12566053 0.31756564\n",
      "  0.51907327 0.40762594 0.06012729 0.21793668 0.60016237 0.14721138\n",
      "  0.39735787 0.30056654 0.36986547 0.24868083 0.43158529 0.40827347\n",
      "  0.35466761 0.34083465 0.2087317  0.21913513 0.53196546 0.43505371\n",
      "  0.51642515 0.62609825 0.28766709 0.         0.48559146 0.34492473\n",
      "  0.48770975 0.4471803  0.4111232  0.3250308  0.53685197 0.43046253\n",
      "  0.33439439 0.27814156 0.57309309 0.3562861  0.09848635 0.33199007\n",
      "  0.39188408 0.43486415 0.08707409 0.32086679 0.1298427  0.34683656\n",
      "  0.28834177 0.22184688 0.33611089 0.52955226 0.49206964 0.47539985\n",
      "  0.37308183 0.05107961 0.50257757 0.37250051 0.30774583 0.52594468\n",
      "  0.48030631 0.44986489 0.43365315 0.57105318 0.34405016 0.52478938\n",
      "  0.37892381 0.46661381 0.34348774 0.34689763]\n",
      " [0.61547867 0.87079849 0.43001313 0.36589594 0.87388525 0.82298922\n",
      "  0.45691729 0.4539692  0.49737971 0.74195381 0.65215374 0.63394183\n",
      "  0.10282508 0.81449588 0.14170229 0.42842047 0.59329308 0.68558272\n",
      "  0.65123753 0.41847426 0.73023348 0.58121341 0.39475562 0.14743892\n",
      "  0.32675112 0.51980778 0.60868647 0.57863717 0.90532485 0.23142939\n",
      "  0.38986565 0.20113118 0.74968066 0.58111299 0.44160248 0.77481933\n",
      "  0.69589719 0.88734785 0.47771867 0.39314492 0.40323323 0.62836777\n",
      "  0.78551167 0.73975321 0.11605336 0.71543149 0.59417339 0.86251262\n",
      "  0.82384493 0.17440413 0.63851298 0.52475239 0.91189481 0.91637723\n",
      "  0.94574835 0.3064842  0.76983674 0.48559146 0.         0.51412455\n",
      "  0.00794472 0.56311401 0.47704117 0.32940216 0.11396159 0.81715551\n",
      "  0.7000317  0.23285184 0.48746248 0.82692153 0.38794373 0.20943035\n",
      "  0.44336422 0.28819291 0.56729026 0.422532   0.57159205 0.25876897\n",
      "  0.22303446 0.49631925 0.16539369 0.30994419 0.11245707 0.45398857\n",
      "  0.51888661 0.47600516 0.19837207 0.74262957 0.77235715 0.87875554\n",
      "  0.25995579 0.74953373 0.82498727 0.40715627 0.36186102 0.47839172\n",
      "  0.74840466 0.79245725 0.79366131 0.34004798]\n",
      " [0.28901384 0.57832651 0.52355767 0.38667733 0.46440102 0.4141415\n",
      "  0.42613948 0.81810017 0.03982245 0.36859047 0.72907478 0.83797151\n",
      "  0.5911716  0.5961766  0.63276295 0.8709774  0.60071262 0.54141711\n",
      "  0.28517332 0.55866196 0.55012649 0.66719919 0.61349221 0.42567082\n",
      "  0.62915107 0.75139474 0.34283741 0.43580987 0.49060006 0.44342714\n",
      "  0.25078371 0.48111265 0.67737895 0.09947885 0.22351037 0.40125155\n",
      "  0.85374121 0.64873437 0.39954633 0.50664179 0.35984064 0.37404341\n",
      "  0.32319552 0.61811834 0.42643438 0.38156536 0.75812806 0.46181663\n",
      "  0.63049624 0.47667001 0.54266096 0.14117778 0.86208142 0.66572271\n",
      "  0.49680634 0.77952075 0.53969255 0.34492473 0.51412455 0.\n",
      "  0.51078908 0.10226415 0.09646191 0.570653   0.61636458 0.34744011\n",
      "  0.6765522  0.30669489 0.83246354 0.62907807 0.320686   0.30706584\n",
      "  0.67823128 0.27000254 0.40399706 0.61155486 0.28325258 0.25616903\n",
      "  0.45083231 0.5529309  0.45745624 0.34054496 0.44418029 0.74757094\n",
      "  0.02931686 0.3902101  0.39316672 0.27541953 0.59822183 0.86383026\n",
      "  0.66220722 0.24178542 0.3576894  0.32191519 0.60380277 0.79399571\n",
      "  0.71865663 0.29002145 0.64648524 0.59543372]\n",
      " [0.61589221 0.87282828 0.43531209 0.3582715  0.87393261 0.82292504\n",
      "  0.46050778 0.46191391 0.49353775 0.74226045 0.65835888 0.64131178\n",
      "  0.11033995 0.81746265 0.14879299 0.43591148 0.59843259 0.68910573\n",
      "  0.65124851 0.42437115 0.73344252 0.5872813  0.40155683 0.13992929\n",
      "  0.3341801  0.52718232 0.60998433 0.58157267 0.90533701 0.23597968\n",
      "  0.38351783 0.20673028 0.75441125 0.57683133 0.44173063 0.77523979\n",
      "  0.70299728 0.89022994 0.48076507 0.39841439 0.3958069  0.6299716\n",
      "  0.78425987 0.74380466 0.11786207 0.71627417 0.60111929 0.86269997\n",
      "  0.82719435 0.17988209 0.64248285 0.52347926 0.917299   0.91915538\n",
      "  0.94510194 0.31357834 0.77248057 0.48770975 0.00794472 0.51078908\n",
      "  0.         0.55861835 0.47246703 0.3360756  0.1204888  0.81579167\n",
      "  0.70521049 0.2323117  0.49539772 0.83021721 0.3898507  0.20703701\n",
      "  0.45055739 0.28239892 0.56983489 0.42911495 0.57225889 0.25508214\n",
      "  0.22778149 0.5015775  0.17016169 0.30275359 0.10494503 0.46169107\n",
      "  0.51515089 0.47890901 0.19101505 0.74116393 0.77580756 0.88449067\n",
      "  0.26789703 0.74683631 0.82369791 0.40003175 0.36876561 0.48623967\n",
      "  0.75365972 0.79005086 0.79755146 0.34699178]\n",
      " [0.3812194  0.66065729 0.62193125 0.3619085  0.52284291 0.47593361\n",
      "  0.52737901 0.90270676 0.08292634 0.44456628 0.83086454 0.93614451\n",
      "  0.64951752 0.68828272 0.69174054 0.94504362 0.70289229 0.64086202\n",
      "  0.37006647 0.65538352 0.64700624 0.76835288 0.70648632 0.45347408\n",
      "  0.71526113 0.8467274  0.43938974 0.53721159 0.54568407 0.52628871\n",
      "  0.23005543 0.55998987 0.77819541 0.02582556 0.32516846 0.47485376\n",
      "  0.95410518 0.73699789 0.50153367 0.60324276 0.32534535 0.47024628\n",
      "  0.36779493 0.71748358 0.48975482 0.46570546 0.85738042 0.52345319\n",
      "  0.72432391 0.55211764 0.64408353 0.23975984 0.96225155 0.75190406\n",
      "  0.53673626 0.84585455 0.63212701 0.4471803  0.56311401 0.10226415\n",
      "  0.55861835 0.         0.08633728 0.66008792 0.67171484 0.38511971\n",
      "  0.77857224 0.3795126  0.91947928 0.72249875 0.41940868 0.36672307\n",
      "  0.77182447 0.28873062 0.50525867 0.70666439 0.380859   0.30728242\n",
      "  0.53264791 0.65361385 0.53153699 0.33457123 0.47794539 0.83796082\n",
      "  0.07452037 0.49222037 0.41239759 0.322072   0.69447296 0.96516682\n",
      "  0.73787509 0.24948812 0.39610165 0.28730779 0.69456273 0.88329145\n",
      "  0.82037074 0.30183115 0.74381621 0.68467609]\n",
      " [0.3803205  0.67294569 0.56575521 0.29583556 0.55992693 0.51004059\n",
      "  0.48110571 0.82787532 0.05664565 0.46483667 0.78540065 0.87775554\n",
      "  0.56451876 0.68566685 0.60677968 0.86409408 0.66212706 0.62143221\n",
      "  0.38001721 0.59560082 0.6346915  0.71964958 0.64069193 0.36794606\n",
      "  0.64233697 0.78351261 0.42941724 0.51048814 0.58560258 0.45217296\n",
      "  0.15966613 0.48294388 0.75279714 0.10678176 0.2855067  0.49763521\n",
      "  0.90149462 0.74067555 0.46033308 0.54368284 0.26579068 0.46074457\n",
      "  0.41485176 0.69789251 0.40649757 0.47616555 0.80186536 0.55777406\n",
      "  0.71832477 0.4732309  0.61633969 0.22921133 0.93889434 0.75869369\n",
      "  0.58790465 0.7623516  0.6291325  0.4111232  0.47704117 0.09646191\n",
      "  0.47246703 0.08633728 0.         0.59053629 0.58619018 0.43697377\n",
      "  0.74551428 0.30116767 0.84651865 0.71730336 0.36683949 0.28340248\n",
      "  0.70645115 0.20371716 0.47964722 0.64383574 0.3691725  0.22258059\n",
      "  0.4577257  0.60373495 0.45211769 0.25792738 0.39186337 0.76848252\n",
      "  0.07452958 0.45137042 0.32815319 0.36728932 0.6834193  0.93644318\n",
      "  0.65818159 0.31616276 0.4475595  0.2275264  0.62618917 0.81253141\n",
      "  0.78976624 0.3674628  0.72993176 0.61477384]\n",
      " [0.49985043 0.66476361 0.14210916 0.6319109  0.74563208 0.7032344\n",
      "  0.23977009 0.25378705 0.57752048 0.61453938 0.32594321 0.31726964\n",
      "  0.27962757 0.57695888 0.28807138 0.34881248 0.29363085 0.4362588\n",
      "  0.54696465 0.1071677  0.48920166 0.25777014 0.0663448  0.43628771\n",
      "  0.06995045 0.20691678 0.45748225 0.36437886 0.77631234 0.14605859\n",
      "  0.5907534  0.14043588 0.45585754 0.66651358 0.37727575 0.6395269\n",
      "  0.37040676 0.64912267 0.27899779 0.11688627 0.65408704 0.46158291\n",
      "  0.71834349 0.46807672 0.26152132 0.56893446 0.26657374 0.72941311\n",
      "  0.57214631 0.165807   0.37644869 0.49553066 0.59779963 0.68054499\n",
      "  0.84100779 0.32010409 0.54714071 0.3250308  0.32940216 0.570653\n",
      "  0.3360756  0.66008792 0.59053629 0.         0.30777769 0.75183092\n",
      "  0.39493225 0.29976093 0.26301042 0.57695727 0.27101696 0.34269839\n",
      "  0.12552261 0.48777865 0.37107048 0.09341052 0.45297791 0.40148786\n",
      "  0.14481279 0.2000231  0.18471875 0.55903104 0.4089147  0.17802894\n",
      "  0.59089191 0.28398812 0.47208712 0.68872251 0.51982497 0.55849796\n",
      "  0.17344625 0.7472487  0.75586039 0.6414263  0.03799103 0.22341647\n",
      "  0.44009654 0.77361261 0.52483319 0.02482243]\n",
      " [0.68465184 0.91840585 0.43405073 0.47472815 0.94507666 0.89564931\n",
      "  0.4887422  0.36776211 0.60273066 0.81116213 0.63180123 0.581529\n",
      "  0.03254583 0.84968623 0.03335024 0.32059906 0.59600973 0.71396853\n",
      "  0.72433277 0.41085166 0.7627585  0.56524318 0.36619088 0.25846262\n",
      "  0.28118501 0.46925092 0.66793609 0.61722331 0.97673589 0.26105289\n",
      "  0.50382002 0.21669267 0.75746547 0.68860928 0.51614612 0.84254086\n",
      "  0.65151998 0.92314756 0.51683855 0.39921129 0.51404875 0.68368477\n",
      "  0.87012884 0.75916599 0.19358818 0.7788616  0.55589713 0.93224899\n",
      "  0.85332486 0.19676263 0.66062499 0.61131204 0.90550246 0.95344476\n",
      "  1.02383539 0.19464268 0.81001119 0.53685197 0.11396159 0.61636458\n",
      "  0.1204888  0.67171484 0.58619018 0.30777769 0.         0.9026596\n",
      "  0.70025611 0.31914482 0.40484397 0.85717774 0.44430949 0.30933142\n",
      "  0.4011311  0.40158795 0.61143742 0.39867123 0.63851468 0.36482677\n",
      "  0.25046651 0.4990294  0.20100495 0.42236433 0.22376752 0.39094605\n",
      "  0.62354764 0.51714435 0.31013274 0.82939566 0.80082026 0.86596661\n",
      "  0.18335872 0.8464278  0.90977357 0.5198     0.33191999 0.40573141\n",
      "  0.74654537 0.8869614  0.81507101 0.31016456]\n",
      " [0.25606252 0.36493974 0.64508227 0.73252921 0.16114732 0.13479879\n",
      "  0.52620279 1.00228331 0.38378974 0.18010676 0.76234907 0.92517227\n",
      "  0.87282722 0.44738763 0.91071155 1.09506789 0.63147897 0.48315438\n",
      "  0.20818702 0.691086   0.45616128 0.72551364 0.76788364 0.75747703\n",
      "  0.82099825 0.87384448 0.31424565 0.44278477 0.17387356 0.67126915\n",
      "  0.5962209  0.71818082 0.62109373 0.36029198 0.3915127  0.1837118\n",
      "  0.90895982 0.46320131 0.48558279 0.64836169 0.70228101 0.32676986\n",
      "  0.03359753 0.54444636 0.71038023 0.23507137 0.83879275 0.17066504\n",
      "  0.49136947 0.72517632 0.52351569 0.2924611  0.77397006 0.464416\n",
      "  0.15174358 1.03191094 0.40421609 0.43046253 0.81715551 0.34744011\n",
      "  0.81579167 0.38511971 0.43697377 0.75183092 0.9026596  0.\n",
      "  0.6569085  0.58568645 1.00355375 0.48649588 0.48653284 0.61074772\n",
      "  0.82132485 0.61293397 0.41770536 0.75056808 0.30062085 0.57716489\n",
      "  0.68150412 0.63753477 0.71214326 0.68788515 0.769892   0.9056428\n",
      "  0.36296666 0.47809585 0.73197114 0.07526337 0.4882346  0.80051282\n",
      "  0.89312778 0.15194805 0.01108008 0.66389114 0.77354572 0.95502405\n",
      "  0.68103528 0.11148022 0.54116443 0.77477907]\n",
      " [0.43378334 0.38920636 0.27019028 0.91357901 0.56687697 0.54777917\n",
      "  0.2795292  0.53274371 0.70461607 0.47740815 0.1348209  0.3235333\n",
      "  0.67045077 0.27153398 0.68249565 0.6786513  0.10684226 0.17436138\n",
      "  0.47219398 0.28947836 0.21224343 0.1561447  0.34738979 0.76730892\n",
      "  0.44159755 0.33923493 0.3649163  0.24374282 0.5892866  0.4706828\n",
      "  0.82366729 0.49945007 0.07209224 0.77135446 0.46001898 0.48168027\n",
      "  0.27545008 0.325043   0.28870222 0.30695037 0.91875317 0.34133455\n",
      "  0.63010574 0.13204028 0.60137257 0.42192169 0.25114001 0.54785497\n",
      "  0.24215348 0.52580156 0.13969631 0.54221627 0.21415926 0.35456522\n",
      "  0.67365282 0.69635871 0.27988677 0.33439439 0.7000317  0.6765522\n",
      "  0.70521049 0.77857224 0.74551428 0.39493225 0.70025611 0.6569085\n",
      "  0.         0.56124073 0.50988952 0.24888141 0.39635638 0.61880561\n",
      "  0.34718873 0.74675801 0.2759601  0.31265366 0.41167487 0.65298173\n",
      "  0.4780312  0.20382666 0.5353497  0.83826328 0.749633   0.4208723\n",
      "  0.70528086 0.29695957 0.7863991  0.62643349 0.20464679 0.19443436\n",
      "  0.55978525 0.73225732 0.65493749 0.89318117 0.37912388 0.45814414\n",
      "  0.04928675 0.73191392 0.17482526 0.39847706]\n",
      " [0.38580825 0.65578809 0.31751349 0.35633021 0.64221874 0.59098196\n",
      "  0.2849069  0.52748057 0.30123452 0.51146936 0.55654914 0.6073404\n",
      "  0.2909657  0.61505087 0.3311485  0.56614974 0.45877393 0.50028365\n",
      "  0.41955348 0.33245028 0.53698528 0.48429065 0.35762387 0.22062199\n",
      "  0.34454622 0.50311956 0.38673182 0.38371815 0.67353098 0.15503836\n",
      "  0.29315407 0.18188638 0.59451562 0.39129632 0.21083279 0.54489504\n",
      "  0.64610119 0.68548483 0.29013274 0.28562199 0.36880609 0.40988303\n",
      "  0.55366906 0.56585234 0.12557763 0.48848609 0.54144779 0.63138345\n",
      "  0.63182893 0.17260852 0.46582321 0.29335013 0.77405091 0.71241647\n",
      "  0.71289656 0.47297749 0.56518347 0.27814156 0.23285184 0.30669489\n",
      "  0.2323117  0.3795126  0.30116767 0.29976093 0.31914482 0.58568645\n",
      "  0.56124073 0.         0.54769825 0.63374691 0.18189435 0.05764166\n",
      "  0.42260996 0.19574604 0.3649212  0.36870257 0.34385752 0.10351213\n",
      "  0.15899594 0.37404804 0.15213993 0.28055827 0.21502285 0.47505417\n",
      "  0.3193153  0.28519501 0.22844499 0.51166859 0.58340319 0.75389793\n",
      "  0.35841306 0.52845708 0.59324305 0.35021378 0.3372252  0.51667257\n",
      "  0.61030151 0.56803358 0.61440082 0.32268986]\n",
      " [0.74806199 0.86165341 0.36046201 0.84193106 0.97885774 0.94116414\n",
      "  0.47829295 0.04067433 0.83748092 0.85353049 0.38576725 0.23659862\n",
      "  0.3943982  0.75621827 0.37212716 0.18748743 0.44309747 0.62061261\n",
      "  0.7959124  0.3138072  0.67436205 0.35593874 0.23568515 0.62707736\n",
      "  0.20429196 0.17081769 0.69729253 0.58457778 1.00812438 0.39435841\n",
      "  0.82654745 0.367496   0.58179142 0.92715443 0.63904333 0.87450601\n",
      "  0.3194195  0.82169214 0.51916048 0.3552815  0.8723078  0.6950474\n",
      "  0.97043932 0.62431296 0.47282918 0.80327013 0.26799324 0.96137066\n",
      "  0.73851147 0.38316501 0.5576046  0.75750605 0.65960549 0.85292334\n",
      "  1.07963936 0.26934443 0.74118778 0.57309309 0.48746248 0.83246354\n",
      "  0.49539772 0.91947928 0.84651865 0.26301042 0.40484397 1.00355375\n",
      "  0.50988952 0.54769825 0.         0.74459827 0.53195848 0.58043683\n",
      "  0.18681925 0.71956806 0.60011629 0.25497578 0.70293577 0.64314024\n",
      "  0.38912037 0.38511705 0.40541096 0.77543114 0.59373411 0.0999199\n",
      "  0.85180121 0.52613174 0.67295738 0.94407342 0.69080468 0.6039135\n",
      "  0.22760963 1.00840508 1.00664627 0.86667194 0.23368994 0.05305057\n",
      "  0.53929847 1.03279629 0.67731912 0.23823135]\n",
      " [0.34128568 0.15016422 0.43506152 0.95028666 0.35913726 0.35709423\n",
      "  0.37073322 0.76243531 0.66543966 0.31531336 0.38350693 0.57222591\n",
      "  0.82503158 0.03912285 0.8468981  0.90011641 0.30242833 0.14323594\n",
      "  0.35785974 0.4725225  0.09717919 0.3904826  0.54813148 0.85430423\n",
      "  0.63773455 0.57697098 0.28802489 0.25080665 0.37431847 0.60024061\n",
      "  0.83536592 0.64124035 0.18234475 0.70772079 0.45916585 0.30335873\n",
      "  0.52233939 0.07731819 0.34999836 0.46487464 0.94277512 0.25675113\n",
      "  0.46786273 0.12088268 0.71432058 0.27107396 0.49707115 0.34107334\n",
      "  0.00687213 0.66371476 0.2005156  0.48877261 0.29067132 0.10833303\n",
      "  0.46089071 0.89596461 0.09109232 0.3562861  0.82692153 0.62907807\n",
      "  0.83021721 0.72249875 0.71730336 0.57695727 0.85717774 0.48649588\n",
      "  0.24888141 0.63374691 0.74459827 0.         0.45206099 0.68821949\n",
      "  0.56743972 0.78525782 0.26921205 0.5156008  0.34828843 0.70096924\n",
      "  0.61011362 0.38012979 0.6656863  0.8800876  0.84597111 0.64949213\n",
      "  0.65798249 0.35273113 0.85881919 0.48121626 0.05714573 0.32613358\n",
      "  0.75037416 0.59984194 0.48118991 0.91045129 0.57380675 0.69171276\n",
      "  0.24448993 0.58337779 0.07568621 0.58860936]\n",
      " [0.24511836 0.4830161  0.20287177 0.5199691  0.5041402  0.45649882\n",
      "  0.11828048 0.52477042 0.33764589 0.36974081 0.41963175 0.51728692\n",
      "  0.41213494 0.43433137 0.44447947 0.60876916 0.30206663 0.31877471\n",
      "  0.28891197 0.23917523 0.3551769  0.35288029 0.30124211 0.40228217\n",
      "  0.33810616 0.43303921 0.22371445 0.20182383 0.53576404 0.19032092\n",
      "  0.427642   0.23824394 0.42073474 0.42007916 0.10742887 0.39986397\n",
      "  0.53553963 0.50560035 0.1114076  0.18769616 0.52286878 0.24105789\n",
      "  0.45293811 0.3861034  0.27199764 0.33474874 0.43797267 0.49031446\n",
      "  0.45004951 0.25089793 0.28779052 0.2258258  0.60448011 0.53330636\n",
      "  0.58988247 0.54865979 0.38592982 0.09848635 0.38794373 0.320686\n",
      "  0.3898507  0.41940868 0.36683949 0.27101696 0.44430949 0.48653284\n",
      "  0.39635638 0.18189435 0.53195848 0.45206099 0.         0.23747703\n",
      "  0.36356661 0.35226485 0.18392328 0.29443002 0.19765635 0.26014097\n",
      "  0.20108465 0.23691017 0.24345323 0.44551997 0.39437528 0.43962598\n",
      "  0.3455548  0.10518263 0.40904165 0.42029914 0.40151099 0.59078834\n",
      "  0.40711584 0.47653892 0.49152209 0.49683429 0.2982822  0.48810224\n",
      "  0.44413409 0.50269186 0.43326943 0.29522754]\n",
      " [0.42696601 0.70475195 0.37249202 0.30074639 0.67876889 0.62691003\n",
      "  0.34248563 0.55720768 0.29422871 0.55065327 0.61191693 0.65542406\n",
      "  0.28473679 0.66846221 0.32665916 0.5817131  0.51608394 0.55624726\n",
      "  0.45715599 0.38477976 0.59177285 0.53938292 0.40364387 0.16833795\n",
      "  0.38055263 0.54866778 0.43408442 0.4390002  0.70969915 0.19670687\n",
      "  0.24857135 0.21336504 0.65207323 0.38178906 0.25290555 0.58468711\n",
      "  0.69741526 0.73816026 0.34688633 0.33958258 0.31583124 0.45875778\n",
      "  0.57975909 0.62264361 0.12312327 0.53167868 0.59236198 0.66901067\n",
      "  0.68648812 0.19777153 0.52292128 0.31951151 0.83168408 0.7645281\n",
      "  0.74389352 0.47917314 0.6176427  0.33199007 0.20943035 0.30706584\n",
      "  0.20703701 0.36672307 0.28340248 0.34269839 0.30933142 0.61074772\n",
      "  0.61880561 0.05764166 0.58043683 0.68821949 0.23747703 0.\n",
      "  0.46749194 0.14537118 0.41903982 0.41747265 0.38752716 0.06352233\n",
      "  0.1982146  0.43036728 0.17563766 0.22513832 0.16800816 0.51391617\n",
      "  0.31460474 0.34167608 0.1716343  0.53578211 0.63864704 0.81130048\n",
      "  0.37816055 0.54021134 0.61897229 0.29986096 0.38063413 0.55312925\n",
      "  0.66788709 0.58304617 0.67064884 0.36434629]\n",
      " [0.56529049 0.67798728 0.17624683 0.75729477 0.79222093 0.75504552\n",
      "  0.29513406 0.19701112 0.68890034 0.66774113 0.24417851 0.19297542\n",
      "  0.37768799 0.57593342 0.37522887 0.33371116 0.26531961 0.43785224\n",
      "  0.6131889  0.13048157 0.491963   0.19192025 0.06581334 0.55905913\n",
      "  0.12011589 0.08139786 0.51219821 0.39778287 0.82139234 0.27083246\n",
      "  0.7149258  0.2648265  0.4166715  0.77616499 0.47060971 0.68812724\n",
      "  0.25293286 0.64376114 0.33575679 0.17759418 0.77959864 0.50888125\n",
      "  0.78851319 0.44909517 0.38560252 0.61694019 0.15477349 0.77467042\n",
      "  0.56167329 0.28914987 0.37472283 0.5883049  0.5275466  0.67527879\n",
      "  0.89344463 0.35325422 0.55746534 0.39188408 0.44336422 0.67823128\n",
      "  0.45055739 0.77182447 0.70645115 0.12552261 0.4011311  0.82132485\n",
      "  0.34718873 0.42260996 0.18681925 0.56743972 0.36356661 0.46749194\n",
      "  0.         0.61276646 0.41380146 0.07108594 0.52127278 0.52527062\n",
      "  0.27014748 0.19873587 0.30902832 0.68453961 0.53042722 0.08690993\n",
      "  0.70047787 0.34325628 0.59641555 0.76434584 0.51210855 0.47999322\n",
      "  0.23011021 0.83550482 0.82394544 0.76668837 0.08766167 0.13530247\n",
      "  0.38468998 0.85652807 0.50416941 0.10690771]\n",
      " [0.48349112 0.77787577 0.51266321 0.16782605 0.7114221  0.65925953\n",
      "  0.46725573 0.69399438 0.24055269 0.59543254 0.7509818  0.80071183\n",
      "  0.38495097 0.7605974  0.42660078 0.70278703 0.64765856 0.6634468\n",
      "  0.50164234 0.52811144 0.69183181 0.67911457 0.54901372 0.16496548\n",
      "  0.52293595 0.69398762 0.50933266 0.54466993 0.74038224 0.34193521\n",
      "  0.10758906 0.35539523 0.77293991 0.31042933 0.3271433  0.63007385\n",
      "  0.84155584 0.82593763 0.46340241 0.48128709 0.17374665 0.53808439\n",
      "  0.58599785 0.73480627 0.24839284 0.58953281 0.73671338 0.70518845\n",
      "  0.78451847 0.33691654 0.63892186 0.34521293 0.95658261 0.84945424\n",
      "  0.75852216 0.58922071 0.70638102 0.43486415 0.28819291 0.27000254\n",
      "  0.28239892 0.28873062 0.20371716 0.48777865 0.40158795 0.61293397\n",
      "  0.74675801 0.19574604 0.71956806 0.78525782 0.35226485 0.14537118\n",
      "  0.61276646 0.         0.51977457 0.56255941 0.45384878 0.09455004\n",
      "  0.34305105 0.56722305 0.31472568 0.09489155 0.19138342 0.65720631\n",
      "  0.26344185 0.45659322 0.12483727 0.53869565 0.74046411 0.94091051\n",
      "  0.50771822 0.51062156 0.62266853 0.15475704 0.52574884 0.69496615\n",
      "  0.79515535 0.5597856  0.7782547  0.5090904 ]\n",
      " [0.16831684 0.30697502 0.24103376 0.6865056  0.37909154 0.34127487\n",
      "  0.13184805 0.60505265 0.43456433 0.25443789 0.3541635  0.5078314\n",
      "  0.57889165 0.25041151 0.60635875 0.71879264 0.22011332 0.14509713\n",
      "  0.21335934 0.28760835 0.17323398 0.30957069 0.36873322 0.58554295\n",
      "  0.4401711  0.45885223 0.10357718 0.03223928 0.40883577 0.35038738\n",
      "  0.57865041 0.39581139 0.27366643 0.49674899 0.20007233 0.27438973\n",
      "  0.4967411  0.32183821 0.09601676 0.25540252 0.68262653 0.09517431\n",
      "  0.38654868 0.21994675 0.45233683 0.20316076 0.42145248 0.36192387\n",
      "  0.26761202 0.41468686 0.13888957 0.26694391 0.4593391  0.34993476\n",
      "  0.47964391 0.68474004 0.20278806 0.08707409 0.56729026 0.40399706\n",
      "  0.56983489 0.50525867 0.47964722 0.37107048 0.61143742 0.41770536\n",
      "  0.2759601  0.3649212  0.60011629 0.26921205 0.18392328 0.41903982\n",
      "  0.41380146 0.51977457 0.         0.34536119 0.13770614 0.4330679\n",
      "  0.36100692 0.221422   0.41254418 0.6146258  0.57828068 0.50035277\n",
      "  0.43310991 0.09449652 0.58963716 0.3715573  0.2211651  0.45991085\n",
      "  0.53704948 0.46634887 0.41869588 0.6523649  0.38264612 0.54909993\n",
      "  0.31563163 0.47362619 0.25903038 0.39001378]\n",
      " [0.4945913  0.61832509 0.10573301 0.71352338 0.72436249 0.6862277\n",
      "  0.22438436 0.2604591  0.62378492 0.59855473 0.23331738 0.23866249\n",
      "  0.37150078 0.52078404 0.37703829 0.38622049 0.21843983 0.38071527\n",
      "  0.54249271 0.0594971  0.43486638 0.16723994 0.03473746 0.52483732\n",
      "  0.12894451 0.14006488 0.44243119 0.33101847 0.75386875 0.22393525\n",
      "  0.66182706 0.22916103 0.37792472 0.71006395 0.40100896 0.61971053\n",
      "  0.28251184 0.59063292 0.26511403 0.10723353 0.73266222 0.44016066\n",
      "  0.71769644 0.40049199 0.34918252 0.54845295 0.17738182 0.70703007\n",
      "  0.51019701 0.25562732 0.3181     0.5182886  0.50907117 0.62224877\n",
      "  0.82471876 0.38551014 0.49818862 0.32086679 0.422532   0.61155486\n",
      "  0.42911495 0.70666439 0.64383574 0.09341052 0.39867123 0.75056808\n",
      "  0.31265366 0.36870257 0.25497578 0.5156008  0.29443002 0.41747265\n",
      "  0.07108594 0.56255941 0.34536119 0.         0.45035411 0.47218796\n",
      "  0.22564553 0.13750015 0.27283389 0.63931501 0.49880449 0.15561569\n",
      "  0.6345301  0.27247436 0.55805027 0.69329504 0.45917434 0.46753572\n",
      "  0.24717602 0.76473933 0.75328871 0.71725975 0.06765581 0.20483679\n",
      "  0.35532804 0.7854874  0.45678757 0.08874522]\n",
      " [0.04769304 0.32411257 0.3451835  0.61282637 0.30698825 0.25886214\n",
      "  0.22628914 0.7019544  0.3182364  0.17273849 0.4908312  0.63676128\n",
      "  0.60675522 0.31762291 0.6406032  0.79924757 0.35668981 0.26090907\n",
      "  0.09399186 0.39085799 0.26687469 0.44242826 0.46726289 0.55437685\n",
      "  0.52262086 0.57664318 0.06026849 0.16917581 0.33865158 0.38796327\n",
      "  0.49117175 0.43588198 0.40126089 0.36929697 0.13465757 0.20415933\n",
      "  0.63134245 0.37689125 0.18610793 0.34775169 0.60063829 0.09158084\n",
      "  0.2675259  0.33723327 0.45657358 0.14463153 0.55085115 0.29376903\n",
      "  0.3491973  0.447805   0.27246341 0.1420748  0.58285686 0.39817602\n",
      "  0.39278503 0.74544466 0.26127955 0.1298427  0.57159205 0.28325258\n",
      "  0.57225889 0.380859   0.3691725  0.45297791 0.63851468 0.30062085\n",
      "  0.41167487 0.34385752 0.70293577 0.34828843 0.19765635 0.38752716\n",
      "  0.52127278 0.45384878 0.13770614 0.45035411 0.         0.38099888\n",
      "  0.39871128 0.34354063 0.43890151 0.54688197 0.55539417 0.60515776\n",
      "  0.31249711 0.17819084 0.54639891 0.24400868 0.31507216 0.58979366\n",
      "  0.60209908 0.33035561 0.30388244 0.56671381 0.4733843  0.65454636\n",
      "  0.44881856 0.34157875 0.36331052 0.47541949]\n",
      " [0.41577624 0.70395411 0.41867836 0.26062496 0.65819607 0.60591298\n",
      "  0.37364772 0.62038176 0.2386758  0.53483324 0.65662976 0.71080446\n",
      "  0.34223559 0.67821076 0.38445902 0.64455039 0.55332286 0.57509125\n",
      "  0.44037335 0.43549256 0.6061138  0.58490077 0.46059228 0.1814391\n",
      "  0.44225398 0.60604278 0.43292204 0.45638953 0.68841137 0.25563086\n",
      "  0.18980207 0.27571098 0.68071031 0.32378538 0.24854593 0.56938913\n",
      "  0.74929896 0.74556725 0.371545   0.38785526 0.26825232 0.46008714\n",
      "  0.54753111 0.64500281 0.1849598  0.52209195 0.64477927 0.64996104\n",
      "  0.69984009 0.26099495 0.5477652  0.2919042  0.86355072 0.77038336\n",
      "  0.71597481 0.54004103 0.62522361 0.34683656 0.25876897 0.25616903\n",
      "  0.25508214 0.30728242 0.22258059 0.40148786 0.36482677 0.57716489\n",
      "  0.65298173 0.10351213 0.64314024 0.70096924 0.26014097 0.06352233\n",
      "  0.52527062 0.09455004 0.4330679  0.47218796 0.38099888 0.\n",
      "  0.25819611 0.47271987 0.23892898 0.1855905  0.19290133 0.574808\n",
      "  0.26011765 0.3651131  0.1657433  0.50190397 0.65423289 0.84696344\n",
      "  0.4416038  0.49488461 0.58602701 0.24759017 0.43922193 0.61488376\n",
      "  0.70153489 0.54011551 0.69004338 0.42383275]\n",
      " [0.44608756 0.66798186 0.2091501  0.48859093 0.70515438 0.65757018\n",
      "  0.23972694 0.37030718 0.45173557 0.57076232 0.44090965 0.46040544\n",
      "  0.21792483 0.60078495 0.24625737 0.42406297 0.37118977 0.46739708\n",
      "  0.48916207 0.2050931  0.51456293 0.36828446 0.2076834  0.30179839\n",
      "  0.1855698  0.35152111 0.42188488 0.36707072 0.73676146 0.0108614\n",
      "  0.44666293 0.03718255 0.52665484 0.54201318 0.2903894  0.60056434\n",
      "  0.50814851 0.67418532 0.26643594 0.17225124 0.50961222 0.43555304\n",
      "  0.64807589 0.51817661 0.12708828 0.5343255  0.4029578  0.69116264\n",
      "  0.6065996  0.05392845 0.41748278 0.40140158 0.69093464 0.70417531\n",
      "  0.79041562 0.35040761 0.55991848 0.28834177 0.22303446 0.45083231\n",
      "  0.22778149 0.53264791 0.4577257  0.14481279 0.25046651 0.68150412\n",
      "  0.4780312  0.15899594 0.38912037 0.61011362 0.20108465 0.1982146\n",
      "  0.27014748 0.34305105 0.36100692 0.22564553 0.39871128 0.25819611\n",
      "  0.         0.27496018 0.05764156 0.41503182 0.27842113 0.31670251\n",
      "  0.46761406 0.26667882 0.33273166 0.61197945 0.55445243 0.66038537\n",
      "  0.21581292 0.65164212 0.68728936 0.49661524 0.18280334 0.35772164\n",
      "  0.52672964 0.68474402 0.572811   0.16613373]\n",
      " [0.38328701 0.48101886 0.06636364 0.73035709 0.59624448 0.56125146\n",
      "  0.12785361 0.39514621 0.57294149 0.47542845 0.1849254  0.2945001\n",
      "  0.46857745 0.38377568 0.48311728 0.52369344 0.09751322 0.2433756\n",
      "  0.43047287 0.09326336 0.29747672 0.1160372  0.16856807 0.56940133\n",
      "  0.25777392 0.23744822 0.32373065 0.20165162 0.62483934 0.26806534\n",
      "  0.65467142 0.29562502 0.25845691 0.65223902 0.33009785 0.49353721\n",
      "  0.30093578 0.45428708 0.161726   0.10317444 0.74096391 0.31615266\n",
      "  0.60569971 0.26838871 0.39984648 0.42281204 0.20979038 0.57836743\n",
      "  0.37496768 0.32201411 0.18106292 0.43831073 0.41598934 0.48588984\n",
      "  0.69907149 0.51634269 0.36076943 0.22184688 0.49631925 0.5529309\n",
      "  0.5015775  0.65361385 0.60373495 0.2000231  0.4990294  0.63753477\n",
      "  0.20382666 0.37404804 0.38511705 0.38012979 0.23691017 0.43036728\n",
      "  0.19873587 0.56722305 0.221422   0.13750015 0.34354063 0.47271987\n",
      "  0.27496018 0.         0.33198881 0.6545795  0.54971605 0.2854326\n",
      "  0.57921256 0.1708875  0.59241805 0.58677203 0.32329774 0.38663641\n",
      "  0.37219178 0.67087171 0.63904024 0.71921913 0.19373609 0.33280559\n",
      "  0.25208701 0.68500074 0.32513926 0.20927121]\n",
      " [0.48554886 0.71913707 0.26592365 0.44934771 0.74585533 0.69706882\n",
      "  0.29495704 0.38158561 0.45331306 0.61163602 0.4946027  0.50169209\n",
      "  0.16872488 0.65534197 0.20174027 0.41408945 0.4285235  0.52333515\n",
      "  0.52660602 0.25876872 0.5696865  0.42239998 0.25060798 0.25209999\n",
      "  0.20901832 0.38996582 0.46697249 0.42052408 0.77752293 0.06627501\n",
      "  0.42129849 0.04428919 0.58429548 0.54342626 0.32134896 0.64254445\n",
      "  0.55431947 0.72862784 0.31942024 0.22898247 0.4742071  0.48275592\n",
      "  0.67904214 0.57530098 0.07680815 0.57816823 0.44971959 0.73261093\n",
      "  0.66231304 0.02224651 0.47438826 0.42534651 0.74795916 0.75833655\n",
      "  0.82740489 0.32550419 0.61318917 0.33611089 0.16539369 0.45745624\n",
      "  0.17016169 0.53153699 0.45211769 0.18471875 0.20100495 0.71214326\n",
      "  0.5353497  0.15213993 0.40541096 0.6656863  0.24345323 0.17563766\n",
      "  0.30902832 0.31472568 0.41254418 0.27283389 0.43890151 0.23892898\n",
      "  0.05764156 0.33198881 0.         0.3779818  0.226194   0.34389333\n",
      "  0.47112441 0.31890204 0.2874629  0.64065776 0.61035332 0.71660192\n",
      "  0.20634126 0.67099118 0.71857079 0.46474683 0.22173284 0.38037179\n",
      "  0.58395097 0.70719852 0.62970117 0.2022179 ]\n",
      " [0.57488422 0.8705296  0.59756365 0.07577812 0.79546845 0.74364859\n",
      "  0.55911684 0.74664876 0.30572789 0.68355584 0.83690021 0.87543621\n",
      "  0.41244981 0.85523565 0.45154059 0.73761881 0.7377491  0.75815622\n",
      "  0.59058212 0.6093643  0.78672321 0.76445245 0.62271516 0.16420139\n",
      "  0.5864308  0.76591337 0.60308476 0.63936238 0.82363046 0.41566612\n",
      "  0.10705665 0.42123766 0.86621422 0.35910992 0.42167103 0.71806687\n",
      "  0.92083998 0.92021824 0.55687112 0.56470278 0.09688854 0.63212736\n",
      "  0.66285231 0.82922118 0.30434142 0.68039788 0.81559667 0.79027664\n",
      "  0.8793732  0.39941713 0.73281409 0.43264089 1.04912754 0.94344843\n",
      "  0.83637141 0.61631106 0.80085961 0.52955226 0.30994419 0.34054496\n",
      "  0.30275359 0.33457123 0.25792738 0.55903104 0.42236433 0.68788515\n",
      "  0.83826328 0.28055827 0.77543114 0.8800876  0.44551997 0.22513832\n",
      "  0.68453961 0.09489155 0.6146258  0.63931501 0.54688197 0.1855905\n",
      "  0.41503182 0.6545795  0.3779818  0.         0.1986273  0.72137828\n",
      "  0.32780625 0.55026878 0.11238218 0.61512928 0.83535274 1.03202692\n",
      "  0.55476673 0.57394069 0.69804957 0.09747963 0.5968915  0.75573082\n",
      "  0.88692025 0.62494654 0.87300285 0.5786731 ]\n",
      " [0.59495703 0.87065359 0.48531057 0.2535561  0.84545    0.79340653\n",
      "  0.48569198 0.56183157 0.42114285 0.71830905 0.719329   0.72327755\n",
      "  0.21526805 0.82869112 0.25335162 0.54085437 0.64339917 0.70945825\n",
      "  0.62453693 0.48345905 0.74887163 0.64669179 0.47523798 0.03498512\n",
      "  0.41983184 0.60989769 0.60086486 0.59519956 0.8761757  0.28353206\n",
      "  0.28527848 0.26964448 0.79164364 0.4983796  0.42083638 0.75244187\n",
      "  0.77931886 0.89969557 0.49794453 0.44884631 0.29090006 0.62464806\n",
      "  0.74000683 0.77115079 0.15133584 0.69965265 0.67519168 0.83611258\n",
      "  0.84373482 0.24335646 0.66977261 0.48233428 0.96372698 0.92696324\n",
      "  0.90729121 0.41798018 0.77962262 0.49206964 0.11245707 0.44418029\n",
      "  0.10494503 0.47794539 0.39186337 0.4089147  0.22376752 0.769892\n",
      "  0.749633   0.21502285 0.59373411 0.84597111 0.39437528 0.16800816\n",
      "  0.53042722 0.19138342 0.57828068 0.49880449 0.55539417 0.19290133\n",
      "  0.27842113 0.54971605 0.226194   0.1986273  0.         0.55203457\n",
      "  0.44369843 0.49417737 0.08637429 0.69462959 0.79423063 0.93634703\n",
      "  0.36762675 0.68527045 0.77866251 0.2960931  0.44468914 0.58058005\n",
      "  0.79883636 0.73163471 0.8220798  0.42394731]\n",
      " [0.64982104 0.76341668 0.26132359 0.79143684 0.87898736 0.84149989\n",
      "  0.37970071 0.11298671 0.75530726 0.75399958 0.30466547 0.19402992\n",
      "  0.37313249 0.65960635 0.36099701 0.25870598 0.34713926 0.52271728\n",
      "  0.69771225 0.21483713 0.57667397 0.26494584 0.13919877 0.58336379\n",
      "  0.13495844 0.09264064 0.5980332  0.48465857 0.90822177 0.32002524\n",
      "  0.7624038  0.30191063 0.49201647 0.84403639 0.54705154 0.77473272\n",
      "  0.27110171 0.72627867 0.42051246 0.25836086 0.81787501 0.59534891\n",
      "  0.87265884 0.52996121 0.41725795 0.7035135  0.19451978 0.86147803\n",
      "  0.64355357 0.32214135 0.45960384 0.66542269 0.58598085 0.75767412\n",
      "  0.97994813 0.30212313 0.6428875  0.47539985 0.45398857 0.74757094\n",
      "  0.46169107 0.83796082 0.76848252 0.17802894 0.39094605 0.9056428\n",
      "  0.4208723  0.47505417 0.0999199  0.64949213 0.43962598 0.51391617\n",
      "  0.08690993 0.65720631 0.50035277 0.15561569 0.60515776 0.574808\n",
      "  0.31670251 0.2854326  0.34389333 0.72137828 0.55203457 0.\n",
      "  0.76834863 0.42770237 0.62537227 0.84729923 0.59490308 0.53384042\n",
      "  0.20813912 0.91487809 0.90851865 0.80854044 0.14377048 0.04938962\n",
      "  0.45416052 0.93768755 0.58403999 0.15370976]\n",
      " [0.31757032 0.60536383 0.54829513 0.3695627  0.48585325 0.43627653\n",
      "  0.45287377 0.83641873 0.02289446 0.39398327 0.75635793 0.86265141\n",
      "  0.59934141 0.62490035 0.6412347  0.88518406 0.62858193 0.57072686\n",
      "  0.31232199 0.5824677  0.57936419 0.69386672 0.63541878 0.42322968\n",
      "  0.64797599 0.77453018 0.37201153 0.46487786 0.51128617 0.46063559\n",
      "  0.23325437 0.49674192 0.70655989 0.07573444 0.25066437 0.42617995\n",
      "  0.87980556 0.67688773 0.42709386 0.53036005 0.3402915  0.40319389\n",
      "  0.34042913 0.64742869 0.43593329 0.40874991 0.78344583 0.48404836\n",
      "  0.65945021 0.49091954 0.57170894 0.17042854 0.89133889 0.69352745\n",
      "  0.5136278  0.79080517 0.56844424 0.37308183 0.51888661 0.02931686\n",
      "  0.51515089 0.07452037 0.07452958 0.59089191 0.62354764 0.36296666\n",
      "  0.70528086 0.3193153  0.85180121 0.65798249 0.3455548  0.31460474\n",
      "  0.70047787 0.26344185 0.43310991 0.6345301  0.31249711 0.26011765\n",
      "  0.46761406 0.57921256 0.47112441 0.32780625 0.44369843 0.76834863\n",
      "  0.         0.41779226 0.38792919 0.29282349 0.62741696 0.89288316\n",
      "  0.6768355  0.24768909 0.37348111 0.30204719 0.62467086 0.81430524\n",
      "  0.74757596 0.29781255 0.67575779 0.61560521]\n",
      " [0.22213503 0.40137265 0.16705452 0.624409   0.46164483 0.41963482\n",
      "  0.0481283  0.52702884 0.41425088 0.33101268 0.33910067 0.46522336\n",
      "  0.48460141 0.33856989 0.51186439 0.63279992 0.21119105 0.21549549\n",
      "  0.27003388 0.2130005  0.25557268 0.27991984 0.29087473 0.5043131\n",
      "  0.3538475  0.39913825 0.17373984 0.1026751  0.4923579  0.25610625\n",
      "  0.52787237 0.30133217 0.31656484 0.48846176 0.1674136  0.35554187\n",
      "  0.46911198 0.41134291 0.00942672 0.17237722 0.62589939 0.17824395\n",
      "  0.44525704 0.28111193 0.36215615 0.28499235 0.38066985 0.44548032\n",
      "  0.35016975 0.32044612 0.18266237 0.26859124 0.50143065 0.44045893\n",
      "  0.5577648  0.59286149 0.29447076 0.05107961 0.47600516 0.3902101\n",
      "  0.47890901 0.49222037 0.45137042 0.28398812 0.51714435 0.47809585\n",
      "  0.29695957 0.28519501 0.52613174 0.35273113 0.10518263 0.34167608\n",
      "  0.34325628 0.45659322 0.09449652 0.27247436 0.17819084 0.3651131\n",
      "  0.26667882 0.1708875  0.31890204 0.55026878 0.49417737 0.42770237\n",
      "  0.41779226 0.         0.51330075 0.42194558 0.30012064 0.49072914\n",
      "  0.44564519 0.50089569 0.4808408  0.59868945 0.29997004 0.47705917\n",
      "  0.34347692 0.51714507 0.32923294 0.30465417]\n",
      " [0.5815181  0.86856547 0.53082826 0.16957226 0.82162537 0.7693004\n",
      "  0.51276901 0.64243939 0.36503564 0.69997933 0.76919992 0.7891535\n",
      "  0.30115166 0.8380658  0.3396529  0.62670094 0.68203479 0.72781121\n",
      "  0.60550246 0.53552346 0.76268646 0.6962232  0.5376732  0.05182069\n",
      "  0.49124717 0.677162   0.59727336 0.61031906 0.85145602 0.33560134\n",
      "  0.20457871 0.33173884 0.82228394 0.43465578 0.41308024 0.73458912\n",
      "  0.84047956 0.90685673 0.51844703 0.49565027 0.2049369  0.62369239\n",
      "  0.70387916 0.79420678 0.2108152  0.68783313 0.73543094 0.81399707\n",
      "  0.85724482 0.30735711 0.69426804 0.45418147 1.00009953 0.93250146\n",
      "  0.8749365  0.50433168 0.78628889 0.50257757 0.19837207 0.39316672\n",
      "  0.19101505 0.41239759 0.32815319 0.47208712 0.31013274 0.73197114\n",
      "  0.7863991  0.22844499 0.67295738 0.85881919 0.40904165 0.1716343\n",
      "  0.59641555 0.12483727 0.58963716 0.55805027 0.54639891 0.1657433\n",
      "  0.33273166 0.59241805 0.2874629  0.11238218 0.08637429 0.62537227\n",
      "  0.38792919 0.51330075 0.         0.6571155  0.80984981 0.97723495\n",
      "  0.44893232 0.63455622 0.7413914  0.20985864 0.50919563 0.6567342\n",
      "  0.83564537 0.68318674 0.84226905 0.48953172]\n",
      " [0.20395923 0.37715744 0.5886317  0.66179656 0.20281197 0.16046511\n",
      "  0.46993435 0.94092886 0.31284189 0.16597144 0.72327016 0.87842753\n",
      "  0.79984225 0.44244781 0.83813768 1.02889393 0.59020083 0.45591183\n",
      "  0.15827576 0.63386721 0.43656995 0.68111916 0.70860906 0.68227418\n",
      "  0.75722894 0.82065121 0.26884285 0.39936172 0.22393969 0.60191968\n",
      "  0.52560818 0.64836041 0.5978687  0.29830806 0.32159685 0.18343226\n",
      "  0.86779301 0.46985575 0.43002291 0.58903717 0.63307767 0.28703557\n",
      "  0.04777742 0.52313008 0.63668121 0.21350089 0.79217311 0.2060524\n",
      "  0.48528593 0.65432925 0.48905234 0.21832481 0.76126692 0.47607797\n",
      "  0.22139889 0.96219036 0.39349555 0.37250051 0.74262957 0.27541953\n",
      "  0.74116393 0.322072   0.36728932 0.68872251 0.82939566 0.07526337\n",
      "  0.62643349 0.51166859 0.94407342 0.48121626 0.42029914 0.53578211\n",
      "  0.76434584 0.53869565 0.3715573  0.69329504 0.24400868 0.50190397\n",
      "  0.61197945 0.58677203 0.64065776 0.61512928 0.69462959 0.84729923\n",
      "  0.29282349 0.42194558 0.6571155  0.         0.47412515 0.78240367\n",
      "  0.8251625  0.11988679 0.08430857 0.59478971 0.71220532 0.89665967\n",
      "  0.65499662 0.10577668 0.52762934 0.71216935]\n",
      " [0.31510841 0.18458813 0.37791663 0.90665276 0.37515553 0.3651382\n",
      "  0.31559318 0.70773409 0.6332541  0.310715   0.33737007 0.52535833\n",
      "  0.76873673 0.06747503 0.7902185  0.84422303 0.24783385 0.08705584\n",
      "  0.33843037 0.41552104 0.04918249 0.33852265 0.49149839 0.80360354\n",
      "  0.58077807 0.52435751 0.25542055 0.1996961  0.39418333 0.54468533\n",
      "  0.79511275 0.58516484 0.14532603 0.68124883 0.41671017 0.30496511\n",
      "  0.48008513 0.13169807 0.29679295 0.40779045 0.90108845 0.22432802\n",
      "  0.46639275 0.07262786 0.66047461 0.26066248 0.4477619  0.35639161\n",
      "  0.05265202 0.60791857 0.14337751 0.45707938 0.28720384 0.16327217\n",
      "  0.48030713 0.83891942 0.08500681 0.30774583 0.77235715 0.59822183\n",
      "  0.77580756 0.69447296 0.6834193  0.51982497 0.80082026 0.4882346\n",
      "  0.20464679 0.58340319 0.69080468 0.05714573 0.40151099 0.63864704\n",
      "  0.51210855 0.74046411 0.2211651  0.45917434 0.31507216 0.65423289\n",
      "  0.55445243 0.32329774 0.61035332 0.83535274 0.79423063 0.59490308\n",
      "  0.62741696 0.30012064 0.80984981 0.47412515 0.         0.31263774\n",
      "  0.69324844 0.59024727 0.48410855 0.86970231 0.51689767 0.63782352\n",
      "  0.20915421 0.57864596 0.05350421 0.53157076]\n",
      " [0.60439759 0.47468106 0.45143474 1.10746587 0.68412015 0.6773776\n",
      "  0.47382323 0.63559155 0.89361412 0.62183615 0.23643012 0.37468594\n",
      "  0.83812553 0.36276887 0.84453939 0.78802999 0.29534271 0.33168341\n",
      "  0.63685634 0.46056548 0.34595433 0.30075221 0.50083237 0.95580687\n",
      "  0.59179788 0.44178271 0.53695906 0.42802189 0.70031099 0.65403352\n",
      "  1.01800247 0.67778617 0.18872172 0.95631911 0.65147059 0.61754057\n",
      "  0.29647975 0.38233996 0.4826571  0.48821775 1.11311169 0.50944978\n",
      "  0.77779472 0.25966362 0.78621971 0.56965076 0.33966025 0.66573098\n",
      "  0.31991342 0.70472927 0.32117423 0.72636279 0.06197575 0.40236764\n",
      "  0.78690311 0.83143309 0.39744466 0.52594468 0.87875554 0.86383026\n",
      "  0.88449067 0.96516682 0.93644318 0.55849796 0.86596661 0.80051282\n",
      "  0.19443436 0.75389793 0.6039135  0.32613358 0.59078834 0.81130048\n",
      "  0.47999322 0.94091051 0.45991085 0.46753572 0.58979366 0.84696344\n",
      "  0.66038537 0.38663641 0.71660192 1.03202692 0.93634703 0.53384042\n",
      "  0.89288316 0.49072914 0.97723495 0.78240367 0.31263774 0.\n",
      "  0.7082375  0.89536232 0.79659225 1.08761546 0.53488437 0.55845247\n",
      "  0.14729776 0.88784317 0.26062763 0.55626964]\n",
      " [0.64977783 0.83608134 0.31552776 0.61847792 0.90386899 0.85882019\n",
      "  0.40533837 0.19428393 0.65937648 0.77051005 0.47180767 0.40052688\n",
      "  0.16840904 0.75025885 0.15288642 0.20897233 0.46285095 0.60963941\n",
      "  0.69507303 0.27893304 0.66243541 0.41191527 0.21244382 0.40153275\n",
      "  0.11829488 0.2903102  0.61565796 0.53354055 0.93510073 0.22506193\n",
      "  0.61528253 0.18207152 0.62412233 0.74958669 0.50404778 0.79787193\n",
      "  0.47347182 0.82252828 0.44210242 0.28838377 0.65122884 0.62359472\n",
      "  0.85956355 0.64058047 0.25980198 0.72864434 0.38291244 0.88856504\n",
      "  0.74553456 0.18596525 0.549877   0.61691526 0.75327935 0.85393057\n",
      "  0.99466534 0.14793217 0.71943401 0.48030631 0.25995579 0.66220722\n",
      "  0.26789703 0.73787509 0.65818159 0.17344625 0.18335872 0.89312778\n",
      "  0.55978525 0.35841306 0.22760963 0.75037416 0.40711584 0.37816055\n",
      "  0.23011021 0.50771822 0.53704948 0.24717602 0.60209908 0.4416038\n",
      "  0.21581292 0.37219178 0.20634126 0.55476673 0.36762675 0.20813912\n",
      "  0.6768355  0.44564519 0.44893232 0.8251625  0.69324844 0.7082375\n",
      "  0.         0.86745461 0.89837787 0.64862758 0.18104071 0.22301076\n",
      "  0.6023317  0.90023128 0.69732957 0.1632235 ]\n",
      " [0.2995664  0.49665422 0.66322513 0.60917699 0.31008921 0.27459427\n",
      "  0.54734823 1.00101335 0.27045706 0.28518667 0.82049763 0.96525269\n",
      "  0.81913686 0.56126284 0.85958863 1.07524783 0.68639177 0.56565823\n",
      "  0.26027614 0.70626608 0.5506986  0.77267641 0.77577617 0.66740426\n",
      "  0.81309892 0.89811081 0.36815208 0.49648005 0.32538293 0.64248114\n",
      "  0.47440474 0.68612972 0.70884767 0.22369582 0.37002278 0.30327969\n",
      "  0.96169803 0.58974248 0.50975851 0.65795578 0.57434116 0.39096294\n",
      "  0.14860058 0.63570055 0.65326905 0.33005415 0.87982631 0.3169225\n",
      "  0.60372496 0.68750275 0.59308077 0.25230745 0.87679059 0.59576644\n",
      "  0.29710652 0.99647137 0.51119013 0.44986489 0.74953373 0.24178542\n",
      "  0.74683631 0.24948812 0.31616276 0.7472487  0.8464278  0.15194805\n",
      "  0.73225732 0.52845708 1.00840508 0.59984194 0.47653892 0.54021134\n",
      "  0.83550482 0.51062156 0.46634887 0.76473933 0.33035561 0.49488461\n",
      "  0.65164212 0.67087171 0.67099118 0.57394069 0.68527045 0.91487809\n",
      "  0.24768909 0.50089569 0.63455622 0.11988679 0.59024727 0.89536232\n",
      "  0.86745461 0.         0.16274679 0.53611443 0.77471851 0.96375602\n",
      "  0.7638284  0.05235272 0.64367539 0.77161864]\n",
      " [0.25870578 0.35773898 0.64770399 0.7430331  0.15158153 0.12749123\n",
      "  0.52890616 1.00580386 0.39421201 0.17761298 0.76167255 0.92574093\n",
      "  0.8798178  0.44211269 0.91751864 1.09977124 0.63128975 0.48093458\n",
      "  0.21080857 0.69383311 0.45287119 0.72577973 0.77102558 0.76652829\n",
      "  0.82515824 0.87566501 0.31543377 0.44324669 0.16346125 0.67700473\n",
      "  0.60672705 0.72404477 0.6180685  0.37129981 0.39761831 0.17920146\n",
      "  0.90854824 0.45644875 0.48819845 0.6515896  0.71295218 0.32696065\n",
      "  0.03964484 0.54124462 0.71773904 0.23302861 0.83938277 0.16171259\n",
      "  0.48615968 0.73137538 0.52234504 0.30023519 0.76932281 0.45707655\n",
      "  0.14086382 1.03766566 0.39981357 0.43365315 0.82498727 0.3576894\n",
      "  0.82369791 0.39610165 0.4475595  0.75586039 0.90977357 0.01108008\n",
      "  0.65493749 0.59324305 1.00664627 0.48118991 0.49152209 0.61897229\n",
      "  0.82394544 0.62266853 0.41869588 0.75328871 0.30388244 0.58602701\n",
      "  0.68728936 0.63904024 0.71857079 0.69804957 0.77866251 0.90851865\n",
      "  0.37348111 0.4808408  0.7413914  0.08430857 0.48410855 0.79659225\n",
      "  0.89837787 0.16274679 0.         0.67456846 0.77714906 0.95788618\n",
      "  0.67836377 0.12136982 0.53687124 0.7786785 ]\n",
      " [0.58781868 0.88493385 0.66620179 0.07816665 0.78627451 0.73579129\n",
      "  0.61416786 0.83907776 0.28288928 0.68517496 0.90362792 0.95528119\n",
      "  0.50947318 0.88255193 0.54882206 0.83428171 0.7966564  0.79743481\n",
      "  0.59584821 0.68266397 0.82055854 0.83218333 0.70330205 0.26167508\n",
      "  0.67375089 0.84800594 0.62570139 0.67971646 0.81248932 0.49594996\n",
      "  0.07558758 0.50678673 0.91476123 0.3131001  0.4531779  0.71888852\n",
      "  0.99623725 0.94359962 0.60620143 0.63541134 0.03841325 0.65617914\n",
      "  0.64230829 0.87121905 0.39391529 0.68995517 0.89144013 0.78337149\n",
      "  0.91044629 0.48667785 0.77885934 0.43817243 1.10011245 0.96455602\n",
      "  0.81514273 0.71360988 0.82678878 0.57105318 0.40715627 0.32191519\n",
      "  0.40003175 0.28730779 0.2275264  0.6414263  0.5198     0.66389114\n",
      "  0.89318117 0.35021378 0.86667194 0.91045129 0.49683429 0.29986096\n",
      "  0.76668837 0.15475704 0.6523649  0.71725975 0.56671381 0.24759017\n",
      "  0.49661524 0.71921913 0.46474683 0.09747963 0.2960931  0.80854044\n",
      "  0.30204719 0.59868945 0.20985864 0.59478971 0.86970231 1.08761546\n",
      "  0.64862758 0.53611443 0.67456846 0.         0.6794173  0.84473802\n",
      "  0.94092352 0.58833218 0.91109018 0.66227218]\n",
      " [0.51956879 0.66891518 0.14457337 0.66964148 0.7602776  0.71938256\n",
      "  0.25365797 0.22880617 0.61182594 0.63085399 0.29992897 0.27996074\n",
      "  0.30542152 0.57638415 0.30967144 0.33689143 0.28199266 0.43554422\n",
      "  0.56712097 0.10180508 0.48926064 0.23485176 0.03427748 0.47264187\n",
      "  0.06414484 0.16902201 0.47356887 0.37289034 0.79056676 0.18395359\n",
      "  0.62859195 0.17746468 0.44308202 0.70037621 0.40544939 0.65449359\n",
      "  0.3351745  0.64755525 0.29405821 0.12789944 0.6920244  0.47533564\n",
      "  0.74020087 0.46139205 0.29844947 0.58345647 0.23238792 0.74360768\n",
      "  0.56868229 0.20225851 0.37410158 0.52392814 0.57672523 0.67912598\n",
      "  0.85765195 0.32282754 0.54987579 0.34405016 0.36186102 0.60380277\n",
      "  0.36876561 0.69456273 0.62618917 0.03799103 0.33191999 0.77354572\n",
      "  0.37912388 0.3372252  0.23368994 0.57380675 0.2982822  0.38063413\n",
      "  0.08766167 0.52574884 0.38264612 0.06765581 0.4733843  0.43922193\n",
      "  0.18280334 0.19373609 0.22173284 0.5968915  0.44468914 0.14377048\n",
      "  0.62467086 0.29997004 0.50919563 0.71220532 0.51689767 0.53488437\n",
      "  0.18104071 0.77471851 0.77714906 0.6794173  0.         0.19086365\n",
      "  0.42248403 0.7994853  0.51803472 0.02208353]\n",
      " [0.69918508 0.8086514  0.31056878 0.82436073 0.9274695  0.89033127\n",
      "  0.42904174 0.07721928 0.80082046 0.80295742 0.33600444 0.19956852\n",
      "  0.39128973 0.70318736 0.37419885 0.2295946  0.39008346 0.5675873\n",
      "  0.74707838 0.2641457  0.62132162 0.30358063 0.18835349 0.61290383\n",
      "  0.17263218 0.12006406 0.64716558 0.53290298 0.95657287 0.36185477\n",
      "  0.80103758 0.33992179 0.52991351 0.88991634 0.59549366 0.82342944\n",
      "  0.28127022 0.76877464 0.4698403  0.30767973 0.8525215  0.6441662\n",
      "  0.92204525 0.57151639 0.45148212 0.75224218 0.21993698 0.90988117\n",
      "  0.68564527 0.35827397 0.50459276 0.71392801 0.61291696 0.80002923\n",
      "  1.02874093 0.29308168 0.68819914 0.52478938 0.47839172 0.79399571\n",
      "  0.48623967 0.88329145 0.81253141 0.22341647 0.40573141 0.95502405\n",
      "  0.45814414 0.51667257 0.05305057 0.69171276 0.48810224 0.55312925\n",
      "  0.13530247 0.69496615 0.54909993 0.20483679 0.65454636 0.61488376\n",
      "  0.35772164 0.33280559 0.38037179 0.75573082 0.58058005 0.04938962\n",
      "  0.81430524 0.47705917 0.6567342  0.89665967 0.63782352 0.55845247\n",
      "  0.22301076 0.96375602 0.95788618 0.84473802 0.19086365 0.\n",
      "  0.48863119 0.98685653 0.62471653 0.19870586]\n",
      " [0.4675803  0.39150914 0.31840177 0.96215773 0.5814857  0.56644476\n",
      "  0.32791693 0.56451575 0.74768798 0.50093247 0.15479639 0.33866166\n",
      "  0.71705247 0.27277012 0.72808551 0.71281734 0.15570327 0.19910658\n",
      "  0.50361724 0.33575117 0.22748684 0.19287578 0.38999914 0.81658618\n",
      "  0.4840387  0.3686787  0.39903392 0.28346682 0.60201138 0.51949759\n",
      "  0.87097828 0.54760867 0.06382821 0.81232285 0.50453811 0.50209533\n",
      "  0.28049468 0.31719488 0.33545993 0.35526028 0.96684843 0.37353227\n",
      "  0.65560409 0.14014036 0.65040708 0.44629208 0.27435971 0.56253852\n",
      "  0.23761784 0.57407538 0.17692738 0.58257536 0.16490541 0.34477475\n",
      "  0.68759651 0.73642307 0.29077166 0.37892381 0.74840466 0.71865663\n",
      "  0.75365972 0.82037074 0.78976624 0.44009654 0.74654537 0.68103528\n",
      "  0.04928675 0.61030151 0.53929847 0.24448993 0.44413409 0.66788709\n",
      "  0.38468998 0.79515535 0.31563163 0.35532804 0.44881856 0.70153489\n",
      "  0.52672964 0.25208701 0.58395097 0.88692025 0.79883636 0.45416052\n",
      "  0.74757596 0.34347692 0.83564537 0.65499662 0.20915421 0.14729776\n",
      "  0.6023317  0.7638284  0.67836377 0.94092352 0.42248403 0.48863119\n",
      "  0.         0.76075819 0.16883958 0.4424009 ]\n",
      " [0.30531    0.47085231 0.68221922 0.66116025 0.27261217 0.24297355\n",
      "  0.56456842 1.02721367 0.32041613 0.26859937 0.82681152 0.97828904\n",
      "  0.85899408 0.5443804  0.89892415 1.10690966 0.69326254 0.56168146\n",
      "  0.26162613 0.726426   0.54191495 0.78265033 0.79851112 0.71478052\n",
      "  0.84069213 0.91615472 0.37208997 0.5023567  0.28457095 0.67524244\n",
      "  0.52614108 0.71998809 0.70361194 0.27604337 0.39818447 0.28138239\n",
      "  0.97036636 0.56695934 0.52565477 0.67959214 0.62658158 0.39174084\n",
      "  0.11787896 0.62873301 0.6934241  0.31841189 0.8922877  0.28165217\n",
      "  0.58772215 0.72286809 0.5941316  0.283345   0.86584769 0.57048001\n",
      "  0.24881046 1.03216134 0.49701664 0.46661381 0.79245725 0.29002145\n",
      "  0.79005086 0.30183115 0.3674628  0.77361261 0.8869614  0.11148022\n",
      "  0.73191392 0.56803358 1.03279629 0.58337779 0.50269186 0.58304617\n",
      "  0.85652807 0.5597856  0.47362619 0.7854874  0.34157875 0.54011551\n",
      "  0.68474402 0.68500074 0.70719852 0.62494654 0.73163471 0.93768755\n",
      "  0.29781255 0.51714507 0.68318674 0.10577668 0.57864596 0.88784317\n",
      "  0.90023128 0.05235272 0.12136982 0.58833218 0.7994853  0.98685653\n",
      "  0.76075819 0.         0.63212559 0.79766385]\n",
      " [0.36611679 0.22379952 0.38483014 0.9453216  0.4245021  0.41676016\n",
      "  0.33788817 0.69697933 0.68078708 0.36408623 0.30964368 0.49832828\n",
      "  0.78341077 0.10583889 0.80244882 0.83783389 0.23935484 0.11495214\n",
      "  0.39098384 0.41840188 0.09703746 0.32160363 0.49033852 0.83330712\n",
      "  0.58217811 0.50817652 0.30444004 0.23371469 0.4421235  0.56350943\n",
      "  0.83704075 0.60157349 0.10678028 0.73121728 0.45806284 0.35767082\n",
      "  0.44695058 0.15036667 0.32466496 0.41732859 0.94161183 0.27375431\n",
      "  0.51965251 0.05676028 0.68409209 0.31416408 0.42491992 0.40592799\n",
      "  0.06881718 0.62547985 0.15532912 0.50533538 0.23372359 0.17974473\n",
      "  0.52859458 0.84084452 0.13710219 0.34348774 0.79366131 0.64648524\n",
      "  0.79755146 0.74381621 0.72993176 0.52483319 0.81507101 0.54116443\n",
      "  0.17482526 0.61440082 0.67731912 0.07568621 0.43326943 0.67064884\n",
      "  0.50416941 0.7782547  0.25903038 0.45678757 0.36331052 0.69004338\n",
      "  0.572811   0.32513926 0.62970117 0.87300285 0.8220798  0.58403999\n",
      "  0.67575779 0.32923294 0.84226905 0.52762934 0.05350421 0.26062763\n",
      "  0.69732957 0.64367539 0.53687124 0.91109018 0.51803472 0.62471653\n",
      "  0.16883958 0.63212559 0.         0.53430997]\n",
      " [0.52208465 0.68039431 0.15588529 0.6509953  0.76607051 0.72425012\n",
      "  0.25948737 0.22956677 0.6021495  0.63559085 0.32163667 0.29983365\n",
      "  0.28347519 0.59005419 0.28829311 0.32883231 0.29983804 0.44917719\n",
      "  0.56936511 0.11617233 0.50258728 0.25593443 0.05621753 0.45227392\n",
      "  0.05055476 0.18775724 0.47837014 0.38192143 0.79660107 0.16820354\n",
      "  0.61273076 0.15809403 0.46150574 0.6912108  0.40170942 0.66006153\n",
      "  0.3565273  0.66170313 0.29928491 0.1346692  0.67415569 0.48153676\n",
      "  0.7413286  0.47758299 0.27871657 0.58926294 0.25412888 0.74966543\n",
      "  0.58361613 0.18224226 0.38839298 0.52002791 0.59759295 0.69322082\n",
      "  0.86224312 0.30735578 0.56198719 0.34689763 0.34004798 0.59543372\n",
      "  0.34699178 0.68467609 0.61477384 0.02482243 0.31016456 0.77477907\n",
      "  0.39847706 0.32268986 0.23823135 0.58860936 0.29522754 0.36434629\n",
      "  0.10690771 0.5090904  0.39001378 0.08874522 0.47541949 0.42383275\n",
      "  0.16613373 0.20927121 0.2022179  0.5786731  0.42394731 0.15370976\n",
      "  0.61560521 0.30465417 0.48953172 0.71216935 0.53157076 0.55626964\n",
      "  0.1632235  0.77161864 0.7786785  0.66227218 0.02208353 0.19870586\n",
      "  0.4424009  0.79766385 0.53430997 0.        ]]\n"
     ]
    }
   ],
   "source": [
    "#52. Consider a random vector with shape (100,2) representing coordinates, find point by point distances\n",
    "test = np.random.random((100,2))\n",
    "X,Y = np.atleast_2d(test[:,0], test[:,1])\n",
    "D = np.sqrt( (X-X.T)**2 + (Y-Y.T)**2)\n",
    "print(D)"
   ]
  },
  {
   "cell_type": "code",
   "execution_count": 144,
   "id": "b9142b1f",
   "metadata": {},
   "outputs": [
    {
     "name": "stdout",
     "output_type": "stream",
     "text": [
      "float32\n",
      "int32\n"
     ]
    }
   ],
   "source": [
    "#53. How to convert a float (32 bits) array into an integer (32 bits) in place?\n",
    "x=np.array([1.2,3.4,5.6]).astype(np.float32)\n",
    "print(x.dtype)\n",
    "\n",
    "y = np.array(x, dtype ='int32' )\n",
    "print(y.dtype)"
   ]
  },
  {
   "cell_type": "code",
   "execution_count": 239,
   "id": "e79a1a15",
   "metadata": {},
   "outputs": [
    {
     "name": "stdout",
     "output_type": "stream",
     "text": [
      "[[ 1  2  3  4  5]\n",
      " [ 6  0  0  7  8]\n",
      " [ 0  0  9 10 11]]\n"
     ]
    }
   ],
   "source": [
    "#54. How to read the following file?\n",
    "from io import StringIO\n",
    "\n",
    "chars = StringIO('''1, 2, 3, 4, 5\n",
    "\n",
    "                    6,  ,  , 7, 8\n",
    "\n",
    "                     ,  , 9, 10, 11\n",
    "''')\n",
    "r = np.genfromtxt(chars, delimiter=\",\", dtype=np.int32,filling_values=0)\n",
    "print(r)"
   ]
  },
  {
   "cell_type": "code",
   "execution_count": 147,
   "id": "6b0a25d1",
   "metadata": {},
   "outputs": [
    {
     "name": "stdout",
     "output_type": "stream",
     "text": [
      "(0, 0) 1\n",
      "(0, 1) 2\n",
      "(1, 0) 3\n",
      "(1, 1) 4\n"
     ]
    }
   ],
   "source": [
    "#55. What is the equivalent of enumerate for numpy arrays?\n",
    "x = np.array([[1, 2], [3, 4]])\n",
    "for index, i in np.ndenumerate(x):\n",
    "    print(index, i)"
   ]
  },
  {
   "cell_type": "code",
   "execution_count": 149,
   "id": "d48cf1ce",
   "metadata": {},
   "outputs": [
    {
     "name": "stdout",
     "output_type": "stream",
     "text": [
      "[[0.36787944 0.44822088 0.51979489 0.57375342 0.60279818 0.60279818\n",
      "  0.57375342 0.51979489 0.44822088 0.36787944]\n",
      " [0.44822088 0.54610814 0.63331324 0.69905581 0.73444367 0.73444367\n",
      "  0.69905581 0.63331324 0.54610814 0.44822088]\n",
      " [0.51979489 0.63331324 0.73444367 0.81068432 0.85172308 0.85172308\n",
      "  0.81068432 0.73444367 0.63331324 0.51979489]\n",
      " [0.57375342 0.69905581 0.81068432 0.89483932 0.9401382  0.9401382\n",
      "  0.89483932 0.81068432 0.69905581 0.57375342]\n",
      " [0.60279818 0.73444367 0.85172308 0.9401382  0.98773022 0.98773022\n",
      "  0.9401382  0.85172308 0.73444367 0.60279818]\n",
      " [0.60279818 0.73444367 0.85172308 0.9401382  0.98773022 0.98773022\n",
      "  0.9401382  0.85172308 0.73444367 0.60279818]\n",
      " [0.57375342 0.69905581 0.81068432 0.89483932 0.9401382  0.9401382\n",
      "  0.89483932 0.81068432 0.69905581 0.57375342]\n",
      " [0.51979489 0.63331324 0.73444367 0.81068432 0.85172308 0.85172308\n",
      "  0.81068432 0.73444367 0.63331324 0.51979489]\n",
      " [0.44822088 0.54610814 0.63331324 0.69905581 0.73444367 0.73444367\n",
      "  0.69905581 0.63331324 0.54610814 0.44822088]\n",
      " [0.36787944 0.44822088 0.51979489 0.57375342 0.60279818 0.60279818\n",
      "  0.57375342 0.51979489 0.44822088 0.36787944]]\n"
     ]
    }
   ],
   "source": [
    "#56. Generate a generic 2D Gaussian-like array\n",
    "x, y = np.meshgrid(np.linspace(-1,1,10), np.linspace(-1,1,10))\n",
    "d = np.sqrt(x*x+y*y)\n",
    "sigma, mu = 1.0, 0.0\n",
    "g = np.exp(-( (d-mu)**2 / ( 2.0 * sigma**2 ) ) )\n",
    "print(g)"
   ]
  },
  {
   "cell_type": "code",
   "execution_count": 151,
   "id": "231ad1ac",
   "metadata": {},
   "outputs": [
    {
     "name": "stdout",
     "output_type": "stream",
     "text": [
      "[[4. 1. 1. 1. 4.]\n",
      " [4. 1. 1. 1. 1.]\n",
      " [1. 1. 1. 1. 1.]\n",
      " [1. 1. 1. 1. 1.]\n",
      " [1. 1. 1. 1. 1.]]\n"
     ]
    }
   ],
   "source": [
    "#57. How to randomly place p elements in a 2D array?\n",
    "x = np.ones((5,5))\n",
    "np.put(x, np.random.choice(range(5*5), 3, replace=False),4)\n",
    "print (x)"
   ]
  },
  {
   "cell_type": "code",
   "execution_count": 153,
   "id": "b1834fe4",
   "metadata": {},
   "outputs": [
    {
     "name": "stdout",
     "output_type": "stream",
     "text": [
      "[[ 1.8 -1.2 -1.2 -1.2  1.8]\n",
      " [ 2.4 -0.6 -0.6 -0.6 -0.6]\n",
      " [ 0.   0.   0.   0.   0. ]\n",
      " [ 0.   0.   0.   0.   0. ]\n",
      " [ 0.   0.   0.   0.   0. ]]\n"
     ]
    }
   ],
   "source": [
    "#58. Subtract the mean of each row of a matrix\n",
    "y = x - x.mean(axis=1, keepdims=True)\n",
    "print(y)"
   ]
  },
  {
   "cell_type": "code",
   "execution_count": 160,
   "id": "5174592c",
   "metadata": {},
   "outputs": [
    {
     "name": "stdout",
     "output_type": "stream",
     "text": [
      "[[9 2 3]\n",
      " [7 0 5]\n",
      " [4 5 6]]\n"
     ]
    }
   ],
   "source": [
    "#59. How to sort an array by the nth column?\n",
    "#n=3\n",
    "x = np.array([[9, 2, 3],[4, 5, 6],[7, 0, 5]])\n",
    "print(x[x[:,2].argsort()])"
   ]
  },
  {
   "cell_type": "code",
   "execution_count": 163,
   "id": "30190c8a",
   "metadata": {},
   "outputs": [
    {
     "name": "stdout",
     "output_type": "stream",
     "text": [
      "False\n"
     ]
    }
   ],
   "source": [
    "#60. How to tell if a given 2D array has null columns?\n",
    "print((~y.any(axis=0)).any())"
   ]
  },
  {
   "cell_type": "code",
   "execution_count": 167,
   "id": "47bea566",
   "metadata": {},
   "outputs": [
    {
     "name": "stdout",
     "output_type": "stream",
     "text": [
      "0.9702953952171752\n"
     ]
    }
   ],
   "source": [
    "#61. Find the nearest value from a given value in an array \n",
    "y = np.random.uniform(0,1,10)\n",
    "m = y.flat[np.abs(y - 1).argmin()]\n",
    "print(m)"
   ]
  },
  {
   "cell_type": "code",
   "execution_count": 169,
   "id": "5df2e99c",
   "metadata": {},
   "outputs": [
    {
     "name": "stdout",
     "output_type": "stream",
     "text": [
      "[15  5 15  8  5]\n"
     ]
    }
   ],
   "source": [
    "#62. Considering two arrays with shape (1,3) and (3,1), how to compute their sum using an iterator?\n",
    "x = np.arange(3).reshape(1,3)\n",
    "y = np.arange(3).reshape(3,1)\n",
    "t = np.nditer([A,B,None])\n",
    "for i,j,k in t: k[...] = i + j\n",
    "print(t.operands[2])"
   ]
  },
  {
   "cell_type": "code",
   "execution_count": 240,
   "id": "9f86b8a0",
   "metadata": {},
   "outputs": [
    {
     "name": "stdout",
     "output_type": "stream",
     "text": [
      "name_given\n"
     ]
    }
   ],
   "source": [
    "#63. Create an array class that has a name attribute\n",
    "class Array(np.ndarray):\n",
    "    def __new__(cls, array, name=\"no name\"):\n",
    "        obj = np.asarray(array).view(cls)\n",
    "        obj.name = name\n",
    "        return obj\n",
    "    def __array_finalize__(self, obj):\n",
    "        if obj is None: return\n",
    "        self.info = getattr(obj, 'name', \"no name\")\n",
    "\n",
    "Z = Array(np.arange(8), \"name_given\")\n",
    "print (Z.name)"
   ]
  },
  {
   "cell_type": "code",
   "execution_count": 176,
   "id": "8cc0562d",
   "metadata": {},
   "outputs": [
    {
     "name": "stdout",
     "output_type": "stream",
     "text": [
      "[3. 2. 3. 1. 7. 2. 5. 2. 4. 1.]\n"
     ]
    }
   ],
   "source": [
    "#64. Consider a given vector, how to add 1 to each element indexed by a second vector (be careful with repeated indices)?\n",
    "x = np.ones(10)\n",
    "y = np.random.randint(0,len(x),20)\n",
    "np.add.at(x, y, 1)\n",
    "print(x)"
   ]
  },
  {
   "cell_type": "code",
   "execution_count": 179,
   "id": "e27d8829",
   "metadata": {},
   "outputs": [
    {
     "name": "stdout",
     "output_type": "stream",
     "text": [
      "[ 3. 12.  0.  3.]\n"
     ]
    }
   ],
   "source": [
    "#65. How to accumulate elements of a vector (X) to an array (F) based on an index list (I)\n",
    "X = [1,2,3,1,5,6]\n",
    "I = [1,3,0,3,1,1]\n",
    "F = np.bincount(I,X)\n",
    "print(F)"
   ]
  },
  {
   "cell_type": "code",
   "execution_count": 241,
   "id": "1ffb5f6d",
   "metadata": {},
   "outputs": [
    {
     "name": "stdout",
     "output_type": "stream",
     "text": [
      "[0 1]\n"
     ]
    }
   ],
   "source": [
    "#66. Considering a (w,h,3) image of (dtype=ubyte), compute the number of unique colors\n",
    "w,h = 16,16\n",
    "I = np.random.randint(0,2,(h,w,3)).astype(np.ubyte)\n",
    "F = I[...,0]*256*256 + I[...,1]*256 +I[...,2]\n",
    "n = len(np.unique(F))\n",
    "print(np.unique(I))"
   ]
  },
  {
   "cell_type": "code",
   "execution_count": 189,
   "id": "1ab40468",
   "metadata": {},
   "outputs": [
    {
     "name": "stdout",
     "output_type": "stream",
     "text": [
      "[[45 29 46]\n",
      " [22 38 46]\n",
      " [47 45 59]]\n"
     ]
    }
   ],
   "source": [
    "#67. Considering a four dimensions array, how to get sum over the last two axis at once? \n",
    "x =  np.random.randint(0,10,(3,3,3,3))\n",
    "sum = x.sum(axis=(-2,-1))\n",
    "print(sum)"
   ]
  },
  {
   "cell_type": "code",
   "execution_count": 242,
   "id": "54501dd0",
   "metadata": {},
   "outputs": [
    {
     "name": "stdout",
     "output_type": "stream",
     "text": [
      "[0.22735474        nan 0.19104046        nan 0.50948037 0.62876057\n",
      "        nan 0.2356853  0.48816897 0.89629322]\n"
     ]
    }
   ],
   "source": [
    "#68. Considering a one-dimensional vector D, how to compute means of subsets of D using a vector S of same size describing subset indices?\n",
    "D = np.random.uniform(0,1,10)\n",
    "S = np.random.randint(0,10,10)\n",
    "sums = np.bincount(S, weights=D)\n",
    "counts = np.bincount(S)\n",
    "D_means = sums / counts\n",
    "print(D_means)"
   ]
  },
  {
   "cell_type": "code",
   "execution_count": 194,
   "id": "bda4b597",
   "metadata": {},
   "outputs": [
    {
     "name": "stdout",
     "output_type": "stream",
     "text": [
      "[[16 28 34]\n",
      " [16 28 34]\n",
      " [26 46 56]]\n"
     ]
    },
    {
     "data": {
      "text/plain": [
       "array([16, 28, 56])"
      ]
     },
     "execution_count": 194,
     "metadata": {},
     "output_type": "execute_result"
    }
   ],
   "source": [
    "#69. How to get the diagonal of a dot product?\n",
    "x=np.array([[2,4],[2,4],[4,6]])\n",
    "y=np.array([[2,4,5],[3,5,6]])\n",
    "A=np.dot(x,y)\n",
    "print(A)\n",
    "np.diag(np.dot(x, y))"
   ]
  },
  {
   "cell_type": "code",
   "execution_count": 195,
   "id": "a6bea238",
   "metadata": {},
   "outputs": [
    {
     "name": "stdout",
     "output_type": "stream",
     "text": [
      "[1. 0. 0. 0. 2. 0. 0. 0. 3. 0. 0. 0. 4. 0. 0. 0. 5.]\n"
     ]
    }
   ],
   "source": [
    "#70. Consider the vector [1, 2, 3, 4, 5], how to build a new vector with 3 consecutive zeros interleaved between each value?\n",
    "x = np.array([1,2,3,4,5])\n",
    "y = np.zeros(len(x) + (len(x)-1)*(3))\n",
    "y[::3+1] = x\n",
    "print(y)"
   ]
  },
  {
   "cell_type": "code",
   "execution_count": 196,
   "id": "6bb83968",
   "metadata": {},
   "outputs": [
    {
     "name": "stdout",
     "output_type": "stream",
     "text": [
      "[[[0.26343308 0.39350052 1.01447515]\n",
      "  [0.23767596 1.31436011 0.34135078]\n",
      "  [0.17869007 1.06730609 1.21695531]\n",
      "  [0.563061   1.77439987 0.4096798 ]\n",
      "  [1.09618649 1.64800239 0.78029545]]\n",
      "\n",
      " [[1.38781084 0.90827699 0.69176216]\n",
      "  [1.89316079 0.76497052 0.08248671]\n",
      "  [1.20334926 0.10797206 1.4128301 ]\n",
      "  [0.62878517 0.19605762 0.89863248]\n",
      "  [1.89504896 1.89945359 0.86865351]]\n",
      "\n",
      " [[0.15315273 1.95940347 1.60120139]\n",
      "  [0.66551211 1.10744697 1.22333879]\n",
      "  [0.94471278 1.27297636 1.70266049]\n",
      "  [1.97354647 1.27819095 0.79292813]\n",
      "  [1.5358656  0.64738681 0.76025706]]\n",
      "\n",
      " [[1.10141399 0.14623213 0.17210833]\n",
      "  [0.79976914 1.20537355 0.71423246]\n",
      "  [1.02378603 0.84895531 0.53196996]\n",
      "  [1.9845759  0.1797335  0.96369344]\n",
      "  [0.44790892 1.44361189 0.74445568]]\n",
      "\n",
      " [[0.2994038  1.18369444 1.78249243]\n",
      "  [0.90456311 1.10790144 0.04124324]\n",
      "  [1.55253595 0.95222524 1.61807791]\n",
      "  [1.02426124 0.1143863  0.81716773]\n",
      "  [0.72136072 1.87020719 0.87351135]]]\n"
     ]
    }
   ],
   "source": [
    "#71. Consider an array of dimension (5,5,3), how to mulitply it by an array with dimensions (5,5)?\n",
    "A = np.random.random((5,5,3))\n",
    "B = 2*np.ones((5,5))\n",
    "print(A * B[:,:,None])"
   ]
  },
  {
   "cell_type": "code",
   "execution_count": 198,
   "id": "1dc2e2ee",
   "metadata": {},
   "outputs": [
    {
     "name": "stdout",
     "output_type": "stream",
     "text": [
      "[[2 3]\n",
      " [0 1]]\n"
     ]
    }
   ],
   "source": [
    "#72. How to swap two rows of an array?\n",
    "x = np.arange(4).reshape(2,2)\n",
    "x[[0,1]] = x[[1,0]]\n",
    "print(x)"
   ]
  },
  {
   "cell_type": "code",
   "execution_count": 246,
   "id": "bdf2d90a",
   "metadata": {},
   "outputs": [
    {
     "name": "stdout",
     "output_type": "stream",
     "text": [
      "[( 0, 23) ( 0, 98) ( 8, 38) ( 8, 77) (10, 89) (10, 91) (13, 62) (13, 63)\n",
      " (14, 33) (14, 38) (15, 23) (15, 75) (18, 41) (18, 73) (23, 75) (23, 98)\n",
      " (28, 56) (28, 58) (33, 38) (38, 77) (41, 73) (44, 50) (44, 81) (50, 81)\n",
      " (55, 62) (55, 80) (56, 58) (62, 63) (62, 80) (89, 91)]\n"
     ]
    }
   ],
   "source": [
    "#73. Consider a set of 10 triplets describing 10 triangles (with shared vertices), find the set of unique line segments composing all the triangles\n",
    "f = np.random.randint(0,100,(10,3))\n",
    "F = np.roll(f.repeat(2,axis=1),-1,axis=1)\n",
    "F = F.reshape(len(F)*3,2)\n",
    "F = np.sort(F,axis=1)\n",
    "l = F.view( dtype=[('p0',F.dtype),('p1',F.dtype)] )\n",
    "l = np.unique(l)\n",
    "print(l)"
   ]
  },
  {
   "cell_type": "code",
   "execution_count": 200,
   "id": "26f628b8",
   "metadata": {},
   "outputs": [
    {
     "name": "stdout",
     "output_type": "stream",
     "text": [
      "[0 0 2 3 4 4 6]\n"
     ]
    }
   ],
   "source": [
    "#74. Given a sorted array C that corresponds to a bincount, how to produce an array A such that np.bincount(A) == C?\n",
    "C = np.bincount([0,0,2,3,4,4,6])\n",
    "A = np.repeat(np.arange(len(C)), C)\n",
    "print(A)"
   ]
  },
  {
   "cell_type": "code",
   "execution_count": 201,
   "id": "9e49a5e0",
   "metadata": {},
   "outputs": [
    {
     "name": "stdout",
     "output_type": "stream",
     "text": [
      "[ 1.  2.  3.  4.  5.  6.  7.  8.  9. 10. 11. 12. 13. 14. 15. 16. 17. 18.]\n"
     ]
    }
   ],
   "source": [
    "#75. How to compute averages using a sliding window over an array?\n",
    "def moving_average(a, n=3) :\n",
    "    ret = np.cumsum(a, dtype=float)\n",
    "    ret[n:] = ret[n:] - ret[:-n]\n",
    "    return ret[n - 1:] / n\n",
    "Z = np.arange(20)\n",
    "print(moving_average(Z, n=3))"
   ]
  },
  {
   "cell_type": "code",
   "execution_count": 204,
   "id": "5ad083ab",
   "metadata": {},
   "outputs": [
    {
     "name": "stdout",
     "output_type": "stream",
     "text": [
      "[[0 1 2]\n",
      " [1 2 3]\n",
      " [2 3 4]\n",
      " [3 4 5]\n",
      " [4 5 6]\n",
      " [5 6 7]\n",
      " [6 7 8]\n",
      " [7 8 9]]\n"
     ]
    }
   ],
   "source": [
    "#76. Consider a one-dimensional array Z, build a two-dimensional array whose first row is (Z[0],Z[1],Z[2]) and each subsequent row is shifted by 1 (last row should be (Z[-3],Z[-2],Z[-1])\n",
    "a=np.arange(10)\n",
    "window=3\n",
    "shape = (a.size - window + 1, window)\n",
    "strides = (a.itemsize, a.itemsize)\n",
    "s=np.lib.stride_tricks.as_strided(a, shape=shape, strides=strides)\n",
    "print(s)"
   ]
  },
  {
   "cell_type": "code",
   "execution_count": 208,
   "id": "40fe46bd",
   "metadata": {},
   "outputs": [
    {
     "name": "stdout",
     "output_type": "stream",
     "text": [
      "[False  True]\n"
     ]
    },
    {
     "data": {
      "text/plain": [
       "array([-1,  2])"
      ]
     },
     "execution_count": 208,
     "metadata": {},
     "output_type": "execute_result"
    }
   ],
   "source": [
    "#77. How to negate a boolean, or to change the sign of a float inplace?\n",
    "Z = [True,False]\n",
    "print(np.logical_not(Z))\n",
    "\n",
    "Z = [1,-2]\n",
    "np.negative(Z)"
   ]
  },
  {
   "cell_type": "code",
   "execution_count": 247,
   "id": "3a6c2202",
   "metadata": {},
   "outputs": [
    {
     "name": "stdout",
     "output_type": "stream",
     "text": [
      "[ 4.22093324 16.63949046 18.2770947   4.84604583 14.5181946   4.87628686\n",
      " 15.8495479  12.3955275   9.28893358  9.81475718]\n"
     ]
    }
   ],
   "source": [
    "#78. Consider 2 sets of points P0,P1 describing lines (2d) and a point p, how to compute distance from p to each line i (P0[i],P1[i])?\n",
    "def distance(P0, P1, p):\n",
    "    len1 = P1 - P0\n",
    "    L = (len1**2).sum(axis=1)\n",
    "    M = -((P0[:,0]-p[...,0])*len1[:,0] + (P0[:,1]-p[...,1])*len1[:,1]) / L\n",
    "    M = M.reshape(len(M),1)\n",
    "    N = P0 + M*len1 - p\n",
    "    return np.sqrt((N**2).sum(axis=1))\n",
    "\n",
    "a = np.random.uniform(-10,10,(10,2))\n",
    "b = np.random.uniform(-10,10,(10,2))\n",
    "p  = np.random.uniform(-10,10,( 1,2))\n",
    "print(distance(a, b, p))"
   ]
  },
  {
   "cell_type": "code",
   "execution_count": 248,
   "id": "cfba967a",
   "metadata": {},
   "outputs": [
    {
     "name": "stdout",
     "output_type": "stream",
     "text": [
      "[[6.65788718e-01 7.19773051e-01 7.73977016e-01 1.92332457e-01\n",
      "  3.20994951e-01 3.54932180e-01 9.94808501e-01 5.09006875e-01\n",
      "  7.20202342e-01 1.27136183e+00]\n",
      " [1.01495695e+00 3.92067895e-01 1.29429818e-01 4.47853873e-01\n",
      "  4.68896422e-01 2.80327000e-01 3.64956832e-01 4.07843270e-01\n",
      "  5.50859763e-01 6.61256324e-01]\n",
      " [1.01803614e+00 7.32923796e-01 4.09913490e-01 8.81176533e-02\n",
      "  5.97700089e-01 8.35936583e-02 7.32546617e-01 2.53137755e-01\n",
      "  8.34367464e-01 8.86502507e-01]\n",
      " [8.29415647e-03 4.99877177e-01 1.30855979e+00 5.22033060e-01\n",
      "  2.80753025e-01 6.64850430e-01 1.28530560e+00 1.08578845e+00\n",
      "  3.40277504e-01 1.87720450e+00]\n",
      " [8.73404179e-01 3.05606646e-01 2.08151661e-01 4.21439222e-01\n",
      "  3.27591436e-01 2.58551802e-01 3.82229314e-01 5.46989304e-01\n",
      "  4.37678007e-01 7.61451301e-01]\n",
      " [2.62427082e-01 2.33359670e-01 4.09924934e-01 4.83639349e-01\n",
      "  3.43805159e-01 3.42774039e-01 2.76825725e-01 1.22175776e+00\n",
      "  1.88289912e-01 1.08269379e+00]\n",
      " [3.61386323e-01 4.06902891e-01 8.37587716e-01 1.14206668e-01\n",
      "  2.99579190e-02 2.65300276e-01 8.94156389e-01 8.65034335e-01\n",
      "  3.71564448e-01 1.40165988e+00]\n",
      " [1.49754106e+00 1.19198760e+00 2.81590130e-01 9.57265399e-04\n",
      "  1.13800356e+00 1.88471935e-01 8.54428418e-01 2.92573505e-01\n",
      "  1.35554664e+00 6.58589000e-01]\n",
      " [1.68209482e-01 5.38883009e-01 1.15312184e+00 4.15962128e-01\n",
      "  1.30078427e-01 5.63735628e-01 1.18908042e+00 9.43072844e-01\n",
      "  4.24359669e-01 1.70610851e+00]\n",
      " [1.58520113e+00 3.76193689e-01 4.90881771e-01 9.41370004e-01\n",
      "  9.03062744e-01 7.59540315e-01 9.99540783e-02 1.02527380e-02\n",
      "  7.04866206e-01 1.32837223e-02]]\n"
     ]
    }
   ],
   "source": [
    "#79. Consider 2 sets of points P0,P1 describing lines (2d) and a set of points P, how to compute distance from each point j (P[j]) to each line i (P0[i],P1[i])?\n",
    "P0 = np.random.uniform(-1, 1, (10,2))\n",
    "P1 = np.random.uniform(-1, 1, (10,2))\n",
    "p = np.random.uniform(-1, 1, (10,2))\n",
    "print(np.array([distance(P0,P1,p_i) for p_i in p]))"
   ]
  },
  {
   "cell_type": "code",
   "execution_count": 249,
   "id": "7b482f27",
   "metadata": {},
   "outputs": [
    {
     "name": "stdout",
     "output_type": "stream",
     "text": [
      "[[8 5 3 5 9 3 8 8 4 0]\n",
      " [4 4 9 7 3 3 7 4 3 5]\n",
      " [1 7 2 5 1 6 3 6 6 3]\n",
      " [0 7 1 4 2 5 6 3 7 6]\n",
      " [4 3 5 6 4 4 3 1 2 4]\n",
      " [5 6 4 0 5 6 3 0 5 1]\n",
      " [3 0 2 6 7 6 0 9 8 5]\n",
      " [1 8 6 5 5 3 7 1 2 9]\n",
      " [0 4 2 1 5 3 8 1 5 1]\n",
      " [9 8 0 3 5 2 3 7 9 2]]\n",
      "[[0 0 0 0 0]\n",
      " [0 8 5 3 5]\n",
      " [0 4 4 9 7]\n",
      " [0 1 7 2 5]\n",
      " [0 0 7 1 4]]\n"
     ]
    },
    {
     "name": "stderr",
     "output_type": "stream",
     "text": [
      "C:\\Users\\admin\\AppData\\Local\\Temp/ipykernel_6132/3709699144.py:24: FutureWarning: Using a non-tuple sequence for multidimensional indexing is deprecated; use `arr[tuple(seq)]` instead of `arr[seq]`. In the future this will be interpreted as an array index, `arr[np.array(seq)]`, which will result either in an error or a different result.\n",
      "  R[r] = Z[z]\n"
     ]
    }
   ],
   "source": [
    "#80. Consider an arbitrary array, write a function that extract a subpart with a fixed shape and centered on a given element (pad with a fill value when necessary\n",
    "Z = np.random.randint(0,10,(10,10))\n",
    "shape = (5,5)\n",
    "fill  = 0\n",
    "position = (1,1)\n",
    "\n",
    "R = np.ones(shape, dtype=Z.dtype)*fill\n",
    "P  = np.array(list(position)).astype(int)\n",
    "Rs = np.array(list(R.shape)).astype(int)\n",
    "Zs = np.array(list(Z.shape)).astype(int)\n",
    "\n",
    "R_start = np.zeros((len(shape),)).astype(int)\n",
    "R_stop  = np.array(list(shape)).astype(int)\n",
    "Z_start = (P-Rs//2)\n",
    "Z_stop  = (P+Rs//2)+Rs%2\n",
    "\n",
    "R_start = (R_start - np.minimum(Z_start,0)).tolist()\n",
    "Z_start = (np.maximum(Z_start,0)).tolist()\n",
    "R_stop = np.maximum(R_start, (R_stop - np.maximum(Z_stop-Zs,0))).tolist()\n",
    "Z_stop = (np.minimum(Z_stop,Zs)).tolist()\n",
    "\n",
    "r = [slice(start,stop) for start,stop in zip(R_start,R_stop)]\n",
    "z = [slice(start,stop) for start,stop in zip(Z_start,Z_stop)]\n",
    "R[r] = Z[z]\n",
    "print(Z)\n",
    "print(R)"
   ]
  },
  {
   "cell_type": "code",
   "execution_count": 214,
   "id": "f073e8cf",
   "metadata": {},
   "outputs": [
    {
     "name": "stdout",
     "output_type": "stream",
     "text": [
      "[[ 1  2  3  4]\n",
      " [ 2  3  4  5]\n",
      " [ 3  4  5  6]\n",
      " [ 4  5  6  7]\n",
      " [ 5  6  7  8]\n",
      " [ 6  7  8  9]\n",
      " [ 7  8  9 10]\n",
      " [ 8  9 10 11]\n",
      " [ 9 10 11 12]\n",
      " [10 11 12 13]\n",
      " [11 12 13 14]]\n"
     ]
    }
   ],
   "source": [
    "#81. Consider an array Z = [1,2,3,4,5,6,7,8,9,10,11,12,13,14], how to generate an array R = [[1,2,3,4], [2,3,4,5], [3,4,5,6], ..., [11,12,13,14]]?\n",
    "Z = [1,2,3,4,5,6,7,8,9,10,11,12,13,14]\n",
    "R = np.lib.stride_tricks.as_strided(Z,(11,4),(4,4))\n",
    "print(R)"
   ]
  },
  {
   "cell_type": "code",
   "execution_count": 215,
   "id": "baaadcaa",
   "metadata": {},
   "outputs": [
    {
     "data": {
      "text/plain": [
       "5"
      ]
     },
     "execution_count": 215,
     "metadata": {},
     "output_type": "execute_result"
    }
   ],
   "source": [
    "#82. Compute a matrix rank\n",
    "np.linalg.matrix_rank(np.eye(5))"
   ]
  },
  {
   "cell_type": "code",
   "execution_count": 216,
   "id": "079421e0",
   "metadata": {},
   "outputs": [
    {
     "name": "stdout",
     "output_type": "stream",
     "text": [
      "1\n"
     ]
    }
   ],
   "source": [
    "#83. How to find the most frequent value in an array?\n",
    "Z = np.random.randint(0,5,10)\n",
    "print(np.bincount(Z).argmax())"
   ]
  },
  {
   "cell_type": "code",
   "execution_count": 220,
   "id": "ccdc0061",
   "metadata": {},
   "outputs": [
    {
     "name": "stdout",
     "output_type": "stream",
     "text": [
      "[[[[0 0 2]\n",
      "   [1 2 1]\n",
      "   [0 2 4]]\n",
      "\n",
      "  [[0 2 3]\n",
      "   [2 1 3]\n",
      "   [2 4 4]]\n",
      "\n",
      "  [[2 3 3]\n",
      "   [1 3 1]\n",
      "   [4 4 0]]\n",
      "\n",
      "  [[3 3 3]\n",
      "   [3 1 4]\n",
      "   [4 0 2]]\n",
      "\n",
      "  [[3 3 3]\n",
      "   [1 4 4]\n",
      "   [0 2 2]]\n",
      "\n",
      "  [[3 3 3]\n",
      "   [4 4 0]\n",
      "   [2 2 3]]\n",
      "\n",
      "  [[3 3 2]\n",
      "   [4 0 4]\n",
      "   [2 3 1]]\n",
      "\n",
      "  [[3 2 4]\n",
      "   [0 4 4]\n",
      "   [3 1 1]]]\n",
      "\n",
      "\n",
      " [[[1 2 1]\n",
      "   [0 2 4]\n",
      "   [2 0 0]]\n",
      "\n",
      "  [[2 1 3]\n",
      "   [2 4 4]\n",
      "   [0 0 0]]\n",
      "\n",
      "  [[1 3 1]\n",
      "   [4 4 0]\n",
      "   [0 0 3]]\n",
      "\n",
      "  [[3 1 4]\n",
      "   [4 0 2]\n",
      "   [0 3 0]]\n",
      "\n",
      "  [[1 4 4]\n",
      "   [0 2 2]\n",
      "   [3 0 4]]\n",
      "\n",
      "  [[4 4 0]\n",
      "   [2 2 3]\n",
      "   [0 4 2]]\n",
      "\n",
      "  [[4 0 4]\n",
      "   [2 3 1]\n",
      "   [4 2 4]]\n",
      "\n",
      "  [[0 4 4]\n",
      "   [3 1 1]\n",
      "   [2 4 0]]]\n",
      "\n",
      "\n",
      " [[[0 2 4]\n",
      "   [2 0 0]\n",
      "   [4 3 4]]\n",
      "\n",
      "  [[2 4 4]\n",
      "   [0 0 0]\n",
      "   [3 4 2]]\n",
      "\n",
      "  [[4 4 0]\n",
      "   [0 0 3]\n",
      "   [4 2 0]]\n",
      "\n",
      "  [[4 0 2]\n",
      "   [0 3 0]\n",
      "   [2 0 0]]\n",
      "\n",
      "  [[0 2 2]\n",
      "   [3 0 4]\n",
      "   [0 0 4]]\n",
      "\n",
      "  [[2 2 3]\n",
      "   [0 4 2]\n",
      "   [0 4 1]]\n",
      "\n",
      "  [[2 3 1]\n",
      "   [4 2 4]\n",
      "   [4 1 4]]\n",
      "\n",
      "  [[3 1 1]\n",
      "   [2 4 0]\n",
      "   [1 4 4]]]\n",
      "\n",
      "\n",
      " [[[2 0 0]\n",
      "   [4 3 4]\n",
      "   [3 0 0]]\n",
      "\n",
      "  [[0 0 0]\n",
      "   [3 4 2]\n",
      "   [0 0 4]]\n",
      "\n",
      "  [[0 0 3]\n",
      "   [4 2 0]\n",
      "   [0 4 1]]\n",
      "\n",
      "  [[0 3 0]\n",
      "   [2 0 0]\n",
      "   [4 1 1]]\n",
      "\n",
      "  [[3 0 4]\n",
      "   [0 0 4]\n",
      "   [1 1 0]]\n",
      "\n",
      "  [[0 4 2]\n",
      "   [0 4 1]\n",
      "   [1 0 1]]\n",
      "\n",
      "  [[4 2 4]\n",
      "   [4 1 4]\n",
      "   [0 1 2]]\n",
      "\n",
      "  [[2 4 0]\n",
      "   [1 4 4]\n",
      "   [1 2 0]]]\n",
      "\n",
      "\n",
      " [[[4 3 4]\n",
      "   [3 0 0]\n",
      "   [4 1 1]]\n",
      "\n",
      "  [[3 4 2]\n",
      "   [0 0 4]\n",
      "   [1 1 0]]\n",
      "\n",
      "  [[4 2 0]\n",
      "   [0 4 1]\n",
      "   [1 0 3]]\n",
      "\n",
      "  [[2 0 0]\n",
      "   [4 1 1]\n",
      "   [0 3 1]]\n",
      "\n",
      "  [[0 0 4]\n",
      "   [1 1 0]\n",
      "   [3 1 0]]\n",
      "\n",
      "  [[0 4 1]\n",
      "   [1 0 1]\n",
      "   [1 0 3]]\n",
      "\n",
      "  [[4 1 4]\n",
      "   [0 1 2]\n",
      "   [0 3 3]]\n",
      "\n",
      "  [[1 4 4]\n",
      "   [1 2 0]\n",
      "   [3 3 1]]]\n",
      "\n",
      "\n",
      " [[[3 0 0]\n",
      "   [4 1 1]\n",
      "   [3 2 4]]\n",
      "\n",
      "  [[0 0 4]\n",
      "   [1 1 0]\n",
      "   [2 4 2]]\n",
      "\n",
      "  [[0 4 1]\n",
      "   [1 0 3]\n",
      "   [4 2 0]]\n",
      "\n",
      "  [[4 1 1]\n",
      "   [0 3 1]\n",
      "   [2 0 3]]\n",
      "\n",
      "  [[1 1 0]\n",
      "   [3 1 0]\n",
      "   [0 3 2]]\n",
      "\n",
      "  [[1 0 1]\n",
      "   [1 0 3]\n",
      "   [3 2 0]]\n",
      "\n",
      "  [[0 1 2]\n",
      "   [0 3 3]\n",
      "   [2 0 0]]\n",
      "\n",
      "  [[1 2 0]\n",
      "   [3 3 1]\n",
      "   [0 0 0]]]\n",
      "\n",
      "\n",
      " [[[4 1 1]\n",
      "   [3 2 4]\n",
      "   [2 2 0]]\n",
      "\n",
      "  [[1 1 0]\n",
      "   [2 4 2]\n",
      "   [2 0 0]]\n",
      "\n",
      "  [[1 0 3]\n",
      "   [4 2 0]\n",
      "   [0 0 2]]\n",
      "\n",
      "  [[0 3 1]\n",
      "   [2 0 3]\n",
      "   [0 2 1]]\n",
      "\n",
      "  [[3 1 0]\n",
      "   [0 3 2]\n",
      "   [2 1 3]]\n",
      "\n",
      "  [[1 0 3]\n",
      "   [3 2 0]\n",
      "   [1 3 4]]\n",
      "\n",
      "  [[0 3 3]\n",
      "   [2 0 0]\n",
      "   [3 4 4]]\n",
      "\n",
      "  [[3 3 1]\n",
      "   [0 0 0]\n",
      "   [4 4 3]]]\n",
      "\n",
      "\n",
      " [[[3 2 4]\n",
      "   [2 2 0]\n",
      "   [3 0 2]]\n",
      "\n",
      "  [[2 4 2]\n",
      "   [2 0 0]\n",
      "   [0 2 0]]\n",
      "\n",
      "  [[4 2 0]\n",
      "   [0 0 2]\n",
      "   [2 0 1]]\n",
      "\n",
      "  [[2 0 3]\n",
      "   [0 2 1]\n",
      "   [0 1 1]]\n",
      "\n",
      "  [[0 3 2]\n",
      "   [2 1 3]\n",
      "   [1 1 2]]\n",
      "\n",
      "  [[3 2 0]\n",
      "   [1 3 4]\n",
      "   [1 2 1]]\n",
      "\n",
      "  [[2 0 0]\n",
      "   [3 4 4]\n",
      "   [2 1 1]]\n",
      "\n",
      "  [[0 0 0]\n",
      "   [4 4 3]\n",
      "   [1 1 4]]]]\n"
     ]
    }
   ],
   "source": [
    "#84. Extract all the contiguous 3x3 blocks from a random 10x10 matrix\n",
    "z = np.random.randint(0,5,(10,10))\n",
    "i = 1 + (Z.shape[0]-3)\n",
    "j = 1 + (Z.shape[1]-3)\n",
    "c = np.lib.stride_tricks.as_strided(Z, shape=(i, j, 3,3), strides=Z.strides + Z.strides)\n",
    "print(c)"
   ]
  },
  {
   "cell_type": "code",
   "execution_count": 250,
   "id": "81cc7a9d",
   "metadata": {},
   "outputs": [
    {
     "name": "stdout",
     "output_type": "stream",
     "text": [
      "[[ 3  4  4  1  3]\n",
      " [ 4  2  1  7  8]\n",
      " [ 4  1  5 42  4]\n",
      " [ 1  7 42  4  8]\n",
      " [ 3  8  4  8  9]]\n"
     ]
    }
   ],
   "source": [
    "#Create a 2D array subclass such that Z[i,j] == Z[j,i]\n",
    "class Symetric(np.ndarray):\n",
    "    def __setitem__(self, index, value):\n",
    "        i,j = index\n",
    "        super(Symetric, self).__setitem__((i,j), value)\n",
    "        super(Symetric, self).__setitem__((j,i), value)\n",
    "\n",
    "def symetric(Z):\n",
    "    return np.asarray(Z + Z.T - np.diag(Z.diagonal())).view(Symetric)\n",
    "\n",
    "S = symetric(np.random.randint(0,10,(5,5)))\n",
    "S[2,3] = 42\n",
    "print(S)"
   ]
  },
  {
   "cell_type": "code",
   "execution_count": 222,
   "id": "59f1a60a",
   "metadata": {},
   "outputs": [
    {
     "name": "stdout",
     "output_type": "stream",
     "text": [
      "[[50.]\n",
      " [50.]\n",
      " [50.]\n",
      " [50.]\n",
      " [50.]\n",
      " [50.]\n",
      " [50.]\n",
      " [50.]\n",
      " [50.]\n",
      " [50.]]\n"
     ]
    }
   ],
   "source": [
    "#86. Consider a set of p matrices wich shape (n,n) and a set of p vectors with shape (n,1). How to compute the sum of of the p matrix products at once? (result has shape (n,1))\n",
    "p, n = 10, 20\n",
    "A = np.ones((5,10,10))\n",
    "B = np.ones((5,10,1))\n",
    "S = np.tensordot(A, B, axes=[[0, 2], [0, 1]])\n",
    "print(S)"
   ]
  },
  {
   "cell_type": "code",
   "execution_count": 253,
   "id": "afc928c1",
   "metadata": {},
   "outputs": [
    {
     "name": "stdout",
     "output_type": "stream",
     "text": [
      "[[16. 16. 16. 16.]\n",
      " [16. 16. 16. 16.]\n",
      " [16. 16. 16. 16.]\n",
      " [16. 16. 16. 16.]]\n"
     ]
    }
   ],
   "source": [
    "#87. Consider a 16x16 array, how to get the block-sum (block size is 4x4)?\n",
    "x = np.ones((16,16))\n",
    "k = 4\n",
    "Sum = np.add.reduceat(np.add.reduceat(x, np.arange(0, x.shape[0], k), axis=0), np.arange(0, x.shape[1], k), axis=1)\n",
    "print(Sum)"
   ]
  },
  {
   "cell_type": "code",
   "execution_count": 224,
   "id": "dc596b9d",
   "metadata": {},
   "outputs": [
    {
     "name": "stdout",
     "output_type": "stream",
     "text": [
      "[[0 0 0 0 0 0 0 0 0 0 0 0 0 0 0 0 0 0 0 0 0 0 0 0 0 0 0 0 0 0 0 0 0 0 0 0\n",
      "  0 0 0 0 0 0 0 0 0 0 0 0 0 0]\n",
      " [0 0 0 0 0 0 0 0 0 0 0 0 0 0 0 0 0 0 0 0 0 0 0 0 0 0 0 0 0 0 0 0 0 0 0 0\n",
      "  0 0 0 0 0 0 0 0 1 1 1 0 0 0]\n",
      " [0 0 0 0 0 0 0 0 0 0 0 0 0 0 0 0 0 0 0 0 0 0 0 0 0 0 0 0 0 0 0 0 0 0 0 0\n",
      "  0 0 0 0 0 0 0 1 0 0 0 1 0 0]\n",
      " [0 0 0 0 0 0 0 0 0 0 0 0 0 0 0 0 0 0 0 0 0 0 0 0 0 0 0 0 0 0 0 0 0 0 0 0\n",
      "  0 0 0 0 0 0 0 1 1 0 1 1 0 0]\n",
      " [0 0 0 0 0 0 0 0 0 0 0 0 0 0 0 0 0 0 0 0 0 0 0 0 0 0 0 0 0 0 0 0 0 0 0 0\n",
      "  0 0 0 0 0 0 0 0 0 0 0 0 0 0]\n",
      " [0 0 0 0 0 0 0 0 0 0 0 0 0 0 0 0 0 0 0 0 0 0 0 0 0 0 0 0 0 0 0 0 0 0 0 0\n",
      "  0 0 0 0 0 0 0 0 0 0 0 0 0 0]\n",
      " [0 0 0 0 0 0 0 0 0 0 0 0 0 0 0 0 0 0 0 0 0 0 0 0 0 0 0 0 0 0 0 0 0 0 0 0\n",
      "  0 0 0 0 0 0 0 0 0 0 0 0 0 0]\n",
      " [0 0 0 0 0 0 0 0 0 0 0 0 0 0 0 0 0 0 0 0 0 0 0 0 0 0 0 0 0 0 0 0 0 0 0 0\n",
      "  0 0 0 0 0 0 1 0 0 0 0 0 0 0]\n",
      " [0 0 0 0 0 0 0 0 0 0 0 0 0 0 0 0 0 0 0 0 0 0 0 0 0 0 0 0 0 0 0 0 0 0 0 0\n",
      "  0 0 0 0 0 1 1 1 1 0 0 1 1 0]\n",
      " [0 0 0 0 0 0 0 0 0 0 0 0 0 0 0 0 0 0 0 0 0 0 0 0 0 0 0 0 0 0 0 0 0 0 0 0\n",
      "  0 0 0 1 1 0 1 1 1 1 0 0 1 0]\n",
      " [0 0 0 0 0 0 0 0 0 0 0 0 0 0 0 0 0 0 0 0 0 0 0 0 0 0 0 0 0 0 0 0 0 0 0 0\n",
      "  0 0 0 1 1 0 1 0 0 0 0 0 1 0]\n",
      " [0 0 0 0 0 0 0 0 0 0 0 0 0 0 0 0 0 0 0 0 0 0 1 0 0 0 0 0 0 0 0 0 0 0 0 0\n",
      "  0 0 0 0 1 1 1 1 1 0 0 0 1 0]\n",
      " [0 0 0 0 0 0 0 0 0 0 0 0 0 0 0 0 0 0 0 0 0 0 1 0 0 0 0 0 0 0 0 0 0 0 0 1\n",
      "  1 0 0 0 0 0 1 1 0 0 0 0 0 0]\n",
      " [0 0 0 0 0 0 0 0 0 0 0 0 0 0 0 0 0 0 1 1 0 0 0 1 0 0 0 0 0 0 0 0 0 0 0 1\n",
      "  0 0 0 0 0 0 0 0 0 0 0 0 0 0]\n",
      " [0 0 0 0 0 0 0 0 0 0 0 0 0 0 0 0 0 0 1 1 0 0 0 0 0 0 0 0 0 0 0 0 0 0 0 0\n",
      "  1 0 1 0 0 0 0 0 0 0 0 0 0 0]\n",
      " [0 0 0 0 0 0 0 0 0 0 0 0 0 0 0 0 0 0 1 0 1 1 0 0 0 0 0 0 0 0 0 0 0 0 0 0\n",
      "  0 0 0 0 0 0 0 0 0 0 0 0 0 0]\n",
      " [0 0 0 0 0 0 0 0 0 0 0 0 0 0 0 0 0 0 0 1 1 1 1 0 0 0 0 0 0 0 0 0 0 0 0 0\n",
      "  0 0 1 1 1 0 0 0 0 0 0 0 0 0]\n",
      " [0 0 0 0 0 0 0 0 0 0 0 0 0 0 0 0 0 0 0 1 1 1 1 0 1 1 0 0 0 0 0 0 0 0 0 0\n",
      "  0 0 0 0 1 0 0 0 0 0 0 0 0 0]\n",
      " [0 0 0 1 0 0 0 0 0 0 0 0 1 1 0 0 0 0 0 0 0 0 0 0 1 0 1 0 0 0 0 0 0 0 0 0\n",
      "  1 0 1 1 1 0 0 0 0 0 0 0 0 0]\n",
      " [0 0 1 1 1 0 0 1 1 1 0 1 0 0 1 0 0 0 0 0 0 0 0 0 0 0 0 0 1 1 0 0 0 0 1 1\n",
      "  0 0 0 0 0 0 0 0 0 0 0 0 0 0]\n",
      " [0 1 1 0 1 0 0 0 0 0 0 0 1 1 0 0 0 0 0 0 0 0 0 0 0 0 1 1 0 1 1 0 1 1 0 1\n",
      "  0 0 0 1 0 0 0 0 0 0 0 0 0 0]\n",
      " [0 1 1 0 0 0 0 0 0 0 0 0 0 0 0 0 0 0 0 0 0 0 0 1 0 0 0 1 0 0 1 1 1 1 0 0\n",
      "  0 0 1 1 0 0 0 0 0 0 0 0 0 0]\n",
      " [0 1 1 0 0 0 0 0 0 0 0 0 0 0 0 0 0 0 0 0 0 0 0 0 1 1 0 0 1 0 0 1 0 0 1 1\n",
      "  0 0 0 0 0 0 0 1 1 1 0 0 0 0]\n",
      " [0 1 1 0 0 0 0 0 0 0 0 0 0 0 0 0 0 0 0 0 0 0 0 1 0 0 0 0 0 1 1 0 0 0 0 1\n",
      "  0 0 0 0 0 0 0 0 0 0 0 0 0 0]\n",
      " [0 0 0 0 0 0 0 0 0 0 0 0 0 0 0 0 0 0 0 0 0 0 0 0 1 1 0 0 0 0 0 0 0 0 0 0\n",
      "  0 0 0 0 0 0 0 0 0 0 0 0 0 0]\n",
      " [0 0 0 0 0 0 0 0 0 0 0 0 0 0 0 0 0 0 0 0 0 0 0 0 0 0 0 0 0 0 0 0 0 0 0 0\n",
      "  0 0 0 0 0 0 0 0 0 0 0 0 0 0]\n",
      " [0 0 0 0 0 0 0 0 0 0 0 0 0 0 0 0 0 0 0 0 0 0 0 0 0 0 0 0 0 0 0 0 0 0 0 0\n",
      "  0 0 0 0 0 0 0 0 0 0 0 0 0 0]\n",
      " [0 0 0 0 0 0 0 0 0 0 0 0 0 0 0 0 0 0 0 0 0 0 0 0 0 0 0 0 0 0 0 0 0 0 0 0\n",
      "  0 0 0 0 0 0 0 0 0 0 0 0 0 0]\n",
      " [0 0 0 0 0 0 0 0 0 0 0 0 0 0 0 0 0 0 0 0 0 0 0 0 0 0 0 0 0 0 0 0 0 0 0 0\n",
      "  0 0 0 0 0 0 0 0 0 0 0 0 0 0]\n",
      " [0 0 1 1 1 0 0 0 0 0 0 0 0 0 0 0 0 0 0 0 0 0 0 0 0 0 0 0 0 0 0 0 0 0 0 0\n",
      "  0 0 0 0 0 0 0 0 0 0 0 0 0 0]\n",
      " [0 0 1 1 1 0 0 0 0 0 0 0 0 0 0 0 0 0 0 0 0 0 0 0 0 0 0 0 0 0 0 0 0 0 0 0\n",
      "  0 0 0 0 0 0 0 0 0 0 0 0 0 0]\n",
      " [0 0 0 0 0 0 0 0 0 0 0 0 0 0 0 0 0 0 0 0 0 0 0 0 0 0 0 0 0 0 0 0 0 1 1 1\n",
      "  0 0 0 0 0 0 0 0 0 0 0 0 0 0]\n",
      " [0 1 1 0 1 1 0 0 0 0 0 0 0 0 0 0 0 0 0 0 0 0 0 0 0 0 0 1 0 0 0 0 0 0 0 0\n",
      "  0 0 0 0 0 0 0 0 0 0 0 0 0 0]\n",
      " [0 1 0 0 0 1 0 0 0 0 0 0 0 0 0 0 0 0 0 0 0 0 0 0 0 0 0 1 1 0 0 0 1 0 0 0\n",
      "  1 0 0 0 0 0 0 0 0 0 0 0 0 0]\n",
      " [0 1 1 0 1 1 0 0 0 0 0 0 0 0 0 0 0 0 0 0 0 0 0 0 0 0 0 0 0 0 1 1 0 0 0 0\n",
      "  1 0 0 0 0 0 0 0 0 0 0 1 1 0]\n",
      " [0 0 1 0 1 1 0 0 0 0 0 0 0 0 0 0 0 0 1 1 0 0 0 0 0 0 0 0 0 0 1 0 0 0 0 0\n",
      "  0 0 0 0 0 0 0 0 0 0 0 1 1 0]\n",
      " [0 0 0 0 1 1 0 0 0 0 0 0 0 0 0 0 0 1 0 0 1 0 0 0 0 0 0 0 0 0 0 1 1 0 1 1\n",
      "  0 0 0 0 0 0 0 0 0 0 0 0 0 0]\n",
      " [0 0 0 0 1 1 0 0 0 0 0 0 0 0 0 0 1 1 1 0 0 0 0 0 0 0 0 0 0 0 0 0 0 1 0 0\n",
      "  0 0 0 0 0 0 0 0 0 0 0 0 0 0]\n",
      " [0 0 0 0 0 0 0 0 0 0 0 0 0 0 0 0 1 1 1 1 1 0 0 0 0 0 0 0 0 0 0 0 0 0 1 1\n",
      "  0 0 0 0 0 0 0 0 0 0 0 0 0 0]\n",
      " [0 0 0 0 0 0 0 0 0 0 0 0 0 0 0 0 1 1 1 1 1 0 0 0 0 0 0 0 0 0 0 0 0 0 1 1\n",
      "  1 0 0 0 1 1 0 0 0 0 0 0 0 0]\n",
      " [0 0 0 0 0 0 0 0 0 0 0 0 0 0 0 1 1 0 1 1 1 0 0 0 0 0 0 0 0 0 0 0 0 1 1 1\n",
      "  1 1 0 1 1 1 0 0 0 0 0 0 0 0]\n",
      " [0 0 0 0 0 0 0 0 0 0 0 0 0 0 0 0 1 1 1 0 0 0 0 0 0 0 0 0 0 0 0 0 1 1 0 0\n",
      "  0 1 1 1 0 0 0 0 0 0 0 0 0 0]\n",
      " [0 0 0 0 0 0 0 0 0 0 0 0 0 0 0 0 1 1 1 0 0 0 0 0 0 0 0 0 0 0 0 1 1 1 0 0\n",
      "  0 1 1 1 0 0 0 0 0 0 0 0 0 0]\n",
      " [0 0 0 0 0 0 0 0 0 0 0 0 0 0 0 0 0 0 0 0 1 0 1 0 0 1 1 1 0 0 0 0 1 1 0 0\n",
      "  0 1 1 0 0 0 0 0 1 1 0 0 0 0]\n",
      " [0 0 0 0 0 0 0 0 0 0 0 0 0 0 0 0 0 0 0 1 0 0 0 1 0 1 1 0 1 1 0 0 0 1 1 1\n",
      "  1 1 0 0 0 0 0 0 1 1 0 0 0 0]\n",
      " [0 0 0 0 0 0 0 0 0 0 0 0 0 0 0 0 0 0 0 0 0 0 0 1 0 0 0 0 1 0 1 0 0 0 1 1\n",
      "  1 0 0 0 0 0 0 0 0 0 0 0 0 0]\n",
      " [0 0 0 0 0 0 0 0 0 0 0 0 0 0 0 0 0 0 1 1 0 0 0 1 0 0 0 0 0 0 1 0 0 0 0 1\n",
      "  0 0 0 0 0 0 0 0 0 0 0 0 0 0]\n",
      " [0 0 0 0 0 0 0 0 0 0 0 0 0 0 0 0 0 0 1 1 0 0 1 1 1 0 0 0 0 0 1 0 0 0 0 0\n",
      "  0 0 0 0 0 0 0 0 0 0 0 0 0 0]\n",
      " [0 0 0 0 0 0 0 0 0 0 0 0 0 0 0 0 0 0 0 0 0 1 0 0 0 1 0 0 1 1 0 0 0 0 0 0\n",
      "  0 0 0 0 0 0 0 0 0 0 0 0 0 0]\n",
      " [0 0 0 0 0 0 0 0 0 0 0 0 0 0 0 0 0 0 0 0 0 0 0 0 0 0 0 0 0 0 0 0 0 0 0 0\n",
      "  0 0 0 0 0 0 0 0 0 0 0 0 0 0]]\n"
     ]
    }
   ],
   "source": [
    "#88. How to implement the Game of Life using numpy arrays?\n",
    "def iterate(Z):\n",
    "    # Count neighbours\n",
    "    N = (Z[0:-2,0:-2] + Z[0:-2,1:-1] + Z[0:-2,2:] +\n",
    "         Z[1:-1,0:-2]                + Z[1:-1,2:] +\n",
    "         Z[2:  ,0:-2] + Z[2:  ,1:-1] + Z[2:  ,2:])\n",
    "\n",
    "    # Apply rules\n",
    "    birth = (N==3) & (Z[1:-1,1:-1]==0)\n",
    "    survive = ((N==2) | (N==3)) & (Z[1:-1,1:-1]==1)\n",
    "    Z[...] = 0\n",
    "    Z[1:-1,1:-1][birth | survive] = 1\n",
    "    return Z\n",
    "\n",
    "Z = np.random.randint(0,2,(50,50))\n",
    "for i in range(100): Z = iterate(Z)\n",
    "print(Z)"
   ]
  },
  {
   "cell_type": "code",
   "execution_count": 230,
   "id": "5466dad7",
   "metadata": {},
   "outputs": [
    {
     "name": "stdout",
     "output_type": "stream",
     "text": [
      "[95 96 97 98 99]\n"
     ]
    }
   ],
   "source": [
    "#89. How to get the n largest values of an array\n",
    "x=np.arange(100)\n",
    "n=5\n",
    "print (x[np.argsort(x)[-n:]])"
   ]
  },
  {
   "cell_type": "code",
   "execution_count": 256,
   "id": "ab76bade",
   "metadata": {},
   "outputs": [
    {
     "name": "stdout",
     "output_type": "stream",
     "text": [
      "[[1 4 6]\n",
      " [1 4 7]\n",
      " [1 5 6]\n",
      " [1 5 7]\n",
      " [2 4 6]\n",
      " [2 4 7]\n",
      " [2 5 6]\n",
      " [2 5 7]\n",
      " [3 4 6]\n",
      " [3 4 7]\n",
      " [3 5 6]\n",
      " [3 5 7]]\n"
     ]
    },
    {
     "name": "stderr",
     "output_type": "stream",
     "text": [
      "C:\\Users\\admin\\AppData\\Local\\Temp/ipykernel_6132/1647130827.py:2: VisibleDeprecationWarning: Creating an ndarray from ragged nested sequences (which is a list-or-tuple of lists-or-tuples-or ndarrays with different lengths or shapes) is deprecated. If you meant to do this, you must specify 'dtype=object' when creating the ndarray.\n",
      "  arrays=np.array([[1, 2, 3], [4, 5], [6, 7]])\n"
     ]
    }
   ],
   "source": [
    "#90Given an arbitrary number of vectors, build the cartesian product (every combinations of every item)\n",
    "arrays=np.array([[1, 2, 3], [4, 5], [6, 7]])\n",
    "arrays = [np.asarray(a) for a in arrays]\n",
    "shape = (len(x) for x in arrays)\n",
    "\n",
    "ix = np.indices(shape, dtype=int)\n",
    "ix = ix.reshape(len(arrays), -1).T\n",
    "\n",
    "for n, arr in enumerate(arrays):\n",
    "    ix[:, n] = arrays[n][ix[:, n]]\n",
    "\n",
    "print(ix)\n",
    "\n"
   ]
  },
  {
   "cell_type": "code",
   "execution_count": 261,
   "id": "9cf00e93",
   "metadata": {},
   "outputs": [
    {
     "name": "stdout",
     "output_type": "stream",
     "text": [
      "[(b'a', 1. , 4) (b'b', 3.6, 2)]\n"
     ]
    }
   ],
   "source": [
    "#91. How to create a record array from a regular array?\n",
    "x= np.array([(\"a\", 1.0, 4),(\"b\", 3.6, 2)])\n",
    "R = np.core.records.fromarrays(x.T,names='col1, col2, col3',formats = 'S8, f8, i8')\n",
    "print(R)"
   ]
  },
  {
   "cell_type": "code",
   "execution_count": 263,
   "id": "db40a2ee",
   "metadata": {},
   "outputs": [],
   "source": [
    "#92. Consider a large vector Z, compute Z to the power of 3 using 3 different methods\n",
    "Z = np.random.rand(int(5e7))\n",
    "y= np.power(x,3)\n",
    "z= x*x*x\n",
    "g= np.einsum('i,i,i->i',x,x,x)"
   ]
  },
  {
   "cell_type": "code",
   "execution_count": 266,
   "id": "25b0e44b",
   "metadata": {},
   "outputs": [
    {
     "name": "stdout",
     "output_type": "stream",
     "text": [
      "[0 1 2 3 5 7]\n"
     ]
    }
   ],
   "source": [
    "#93. Consider two arrays A and B of shape (8,3) and (2,2). How to find rows of A that contain elements of each row of B regardless of the order of the elements in B?\n",
    "A = np.random.randint(0,3,(8,3))\n",
    "B = np.random.randint(0,3,(2,2))\n",
    "C = (A[..., np.newaxis, np.newaxis] == B)\n",
    "rows = np.where(C.any((3,1)).all(1))[0]\n",
    "print(rows)"
   ]
  },
  {
   "cell_type": "code",
   "execution_count": 268,
   "id": "58c1fb2b",
   "metadata": {},
   "outputs": [
    {
     "name": "stdout",
     "output_type": "stream",
     "text": [
      "[[1 2 2]\n",
      " [2 0 1]\n",
      " [3 2 1]\n",
      " [3 4 0]\n",
      " [2 4 3]\n",
      " [4 3 4]\n",
      " [0 3 2]\n",
      " [3 0 1]\n",
      " [3 0 0]\n",
      " [0 1 4]]\n",
      "[[1 2 2]\n",
      " [2 0 1]\n",
      " [3 2 1]\n",
      " [3 4 0]\n",
      " [2 4 3]\n",
      " [4 3 4]\n",
      " [0 3 2]\n",
      " [3 0 1]\n",
      " [3 0 0]\n",
      " [0 1 4]]\n"
     ]
    }
   ],
   "source": [
    "#94. Considering a 10x3 matrix, extract rows with unequal values (e.g. [2,2,3])\n",
    "x = np.random.randint(0,5,(10,3))\n",
    "print(x)\n",
    "E = np.all(x[:,1:] == x[:,:-1], axis=1)\n",
    "U = x[~E]\n",
    "U = x[x.max(axis=1) != x.min(axis=1),:]\n",
    "print(U)"
   ]
  },
  {
   "cell_type": "code",
   "execution_count": 269,
   "id": "c5d31441",
   "metadata": {},
   "outputs": [
    {
     "name": "stdout",
     "output_type": "stream",
     "text": [
      "[[0 0 0 0 0 0 0 0]\n",
      " [0 0 0 0 0 0 0 1]\n",
      " [0 0 0 0 0 0 1 0]\n",
      " [0 0 0 0 0 0 1 1]\n",
      " [0 0 0 0 0 1 0 0]\n",
      " [0 0 0 0 0 1 0 1]\n",
      " [0 0 0 0 0 1 1 0]\n",
      " [0 1 0 0 0 0 0 0]\n",
      " [1 0 0 0 0 0 0 0]]\n"
     ]
    }
   ],
   "source": [
    "#95. Convert a vector of ints into a matrix binary representation\n",
    "I = np.array([0, 1, 2, 3, 4, 5, 6, 64, 128], dtype=np.uint8)\n",
    "print(np.unpackbits(I[:, np.newaxis], axis=1))"
   ]
  },
  {
   "cell_type": "code",
   "execution_count": 274,
   "id": "e6f02d4f",
   "metadata": {},
   "outputs": [
    {
     "name": "stdout",
     "output_type": "stream",
     "text": [
      "[[0 1 0]\n",
      " [1 1 1]\n",
      " [2 2 2]]\n"
     ]
    }
   ],
   "source": [
    "#96. Given a two dimensional array, how to extract unique rows?\n",
    "A=np.array([[1,1,1],[0,1,0],[2,2,2],[2,2,2]])\n",
    "B = np.unique(A, axis=0)\n",
    "print(B)"
   ]
  },
  {
   "cell_type": "code",
   "execution_count": 275,
   "id": "a1a2e4c5",
   "metadata": {},
   "outputs": [
    {
     "data": {
      "text/plain": [
       "array([[0.06993332, 0.09023937, 0.08669572, 0.15700088, 0.06846037],\n",
       "       [0.37895291, 0.48898687, 0.46978463, 0.85075246, 0.37097135],\n",
       "       [0.4179635 , 0.53932469, 0.51814572, 0.93833156, 0.40916029],\n",
       "       [0.39970346, 0.5157626 , 0.4955089 , 0.89733761, 0.39128485],\n",
       "       [0.24659311, 0.31819466, 0.30569934, 0.5536036 , 0.24139933]])"
      ]
     },
     "execution_count": 275,
     "metadata": {},
     "output_type": "execute_result"
    }
   ],
   "source": [
    "#97. Considering 2 vectors A & B, write the einsum equivalent of inner, outer, sum, and mul function\n",
    "A = np.random.uniform(0,1,5)\n",
    "B = np.random.uniform(0,1,5)\n",
    "# np.sum(A)\n",
    "np.einsum('i->', A)   \n",
    "# A * B\n",
    "np.einsum('i,i->i', A, B) \n",
    " # np.inner(A, B)\n",
    "np.einsum('i,i', A, B)  \n",
    "# np.outer(A, B)\n",
    "np.einsum('i,j->ij', A, B)    "
   ]
  },
  {
   "cell_type": "code",
   "execution_count": 277,
   "id": "dda1ef59",
   "metadata": {},
   "outputs": [],
   "source": [
    "#98. Considering a path described by two vectors (X,Y), how to sample it using equidistant samples\n",
    "phi = np.arange(0, 10*np.pi, 0.1)\n",
    "x = 1*phi*np.cos(phi)\n",
    "y = 1*phi*np.sin(phi)\n",
    "\n",
    "dr = (np.diff(x)**2 + np.diff(y)**2)**.5 # segment lengths\n",
    "r = np.zeros_like(x)\n",
    "r[1:] = np.cumsum(dr)                # integrate path\n",
    "r_int = np.linspace(0, r.max(), 200) # regular spaced path\n",
    "x_int = np.interp(r_int, r, x)       # integrate path\n",
    "y_int = np.interp(r_int, r, y)"
   ]
  },
  {
   "cell_type": "code",
   "execution_count": 283,
   "id": "8c7bd6b8",
   "metadata": {},
   "outputs": [
    {
     "name": "stdout",
     "output_type": "stream",
     "text": [
      "[[2. 0. 2. 0.]]\n"
     ]
    }
   ],
   "source": [
    "#999. Given an integer n and a 2D array X, select from X the rows which can be interpreted as draws from a multinomial distribution with n degrees, i.e., the rows which only contain integers and which sum to n\n",
    "X = np.asarray([[1.0, 3.0, 2.0, 8.0],[2.0, 0.0, 2.0, 0.0],[5.5, 6.5, 0.0, 0.0]])\n",
    "n = 4\n",
    "M = np.logical_and.reduce(np.mod(X, 1) == 0, axis=-1)\n",
    "M &= (X.sum(axis=-1) == n)\n",
    "print(X[M])"
   ]
  },
  {
   "cell_type": "code",
   "execution_count": 284,
   "id": "336ac814",
   "metadata": {},
   "outputs": [
    {
     "name": "stdout",
     "output_type": "stream",
     "text": [
      "[-0.06694403  0.31578665]\n"
     ]
    }
   ],
   "source": [
    "#100. Compute bootstrapped 95% confidence intervals for the mean of a 1D array X (i.e., resample the elements of an array with replacement N times, compute the mean of each sample, and then compute percentiles over the means).\n",
    "X = np.random.randn(100) \n",
    "N = 1000 \n",
    "d = np.random.randint(0, X.size, (N, X.size))\n",
    "m = X[d].mean(axis=1)\n",
    "c = np.percentile(m, [2.5, 97.5])\n",
    "print(c)"
   ]
  },
  {
   "cell_type": "code",
   "execution_count": null,
   "id": "c2c85919",
   "metadata": {},
   "outputs": [],
   "source": []
  },
  {
   "cell_type": "code",
   "execution_count": null,
   "id": "36f8e59e",
   "metadata": {},
   "outputs": [],
   "source": []
  }
 ],
 "metadata": {
  "kernelspec": {
   "display_name": "Python 3 (ipykernel)",
   "language": "python",
   "name": "python3"
  },
  "language_info": {
   "codemirror_mode": {
    "name": "ipython",
    "version": 3
   },
   "file_extension": ".py",
   "mimetype": "text/x-python",
   "name": "python",
   "nbconvert_exporter": "python",
   "pygments_lexer": "ipython3",
   "version": "3.9.6"
  }
 },
 "nbformat": 4,
 "nbformat_minor": 5
}
